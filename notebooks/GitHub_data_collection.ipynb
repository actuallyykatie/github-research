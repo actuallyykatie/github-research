{
 "cells": [
  {
   "cell_type": "markdown",
   "metadata": {
    "id": "rx7IEk6qf8yL",
    "colab_type": "text"
   },
   "source": [
    "# GitHub data collection\n",
    "\n",
    "---"
   ]
  },
  {
   "cell_type": "markdown",
   "metadata": {
    "id": "pr_G0NVVirFp",
    "colab_type": "text"
   },
   "source": [
    "## Preparation & test\n",
    "Loading packages & stuff."
   ]
  },
  {
   "cell_type": "code",
   "execution_count": 0,
   "metadata": {
    "id": "dpunAhAef3sc",
    "colab_type": "code",
    "colab": {}
   },
   "outputs": [],
   "source": [
    "#!pip install PyGithub"
   ]
  },
  {
   "cell_type": "code",
   "execution_count": 0,
   "metadata": {
    "id": "qE-HO7gwgCoG",
    "colab_type": "code",
    "colab": {}
   },
   "outputs": [],
   "source": [
    "import csv\n",
    "import json\n",
    "import os\n",
    "import pickle\n",
    "import requests\n",
    "import numpy as np\n",
    "import pandas as pd\n",
    "from bs4 import BeautifulSoup\n",
    "from datetime import datetime\n",
    "from github import Github\n",
    "from multiprocessing import Pool, cpu_count\n",
    "from random import randint, uniform\n",
    "from time import sleep\n",
    "from tqdm import tqdm_notebook as tqdm\n",
    "from urllib.request import urlopen, Request\n",
    "from urllib.parse import urlparse"
   ]
  },
  {
   "cell_type": "code",
   "execution_count": 0,
   "metadata": {
    "colab_type": "code",
    "id": "NVRLqYT3hIee",
    "colab": {}
   },
   "outputs": [],
   "source": [
    "g = Github(client_id='INSERT',  # insert\n",
    "           client_secret='INSERT')"
   ]
  },
  {
   "cell_type": "code",
   "execution_count": 0,
   "metadata": {
    "id": "dFqVF9engSDu",
    "colab_type": "code",
    "colab": {}
   },
   "outputs": [],
   "source": [
    "PATH_TO_DATA = 'INSERT'"
   ]
  },
  {
   "cell_type": "code",
   "execution_count": 0,
   "metadata": {
    "id": "3291NMLSsA3y",
    "colab_type": "code",
    "colab": {}
   },
   "outputs": [],
   "source": [
    "# чтобы варнинги из будущего не беспокоили\n",
    "# cuz im a dangerous woman\n",
    "import warnings\n",
    "warnings.filterwarnings('ignore')"
   ]
  },
  {
   "cell_type": "markdown",
   "metadata": {
    "id": "si_mSzQ3gzMf",
    "colab_type": "text"
   },
   "source": [
    "# Structure\n",
    "\n",
    "---\n",
    "\n",
    "## List of repositories to collect\n",
    "### Top open source projects\n",
    "**Description from The State of the Octoverse**: *Top 10 open source projects by number of unique contributors between October 1, 2017 and September 30, 2018.*\n",
    "\n",
    "1.\t[Microsoft/vscode](https://github.com/Microsoft/vscode)\t19K\n",
    "2.\t[facebook/react-native](https://github.com/facebook/react-native)\t10K\n",
    "3.\t[tensorflow/tensorflow](https://github.com/tensorflow/tensorflow)\t9.3K\n",
    "4.\t[angular/angular-cli](https://github.com/angular/angular-cli)\t8.8K\n",
    "5.\t[MicrosoftDocs/azure-docs\t](https://github.com/MicrosoftDocs/azure-docs)7.8K\n",
    "6.\t[angular/angular](https://github.com/angular/angular)\t7.6K\n",
    "7.\t[ansible/ansible](https://github.com/ansible/ansible)\t7.5K\n",
    "8.\t[kubernetes/kubernetes](https://github.com/kubernetes/kubernetes)\t6.5K\n",
    "9.\t[npm/npm](https://github.com/npm/npm)\t6.1K\n",
    "10.\t[DefinitelyTyped/DefinitelyTyped](https://github.com/DefinitelyTyped/DefinitelyTyped)\t6.0K\n",
    "\n",
    "\n",
    "### Fastest growing open source projects\n",
    "**Description from The State of the Octoverse**: \n",
    "*Top 10 open source projects by percent increase in contributors. This list is limited to projects that had more than 1,000 contributors in 2017—and doesn’t include projects used in MOOCs and bootcamps.*\n",
    "1.\t[MicrosoftDocs/azure-docs](https://github.com/MicrosoftDocs/azure-docs)\t4.7X\n",
    "2.\t[pytorch/pytorch](https://github.com/pytorch/pytorch)\t2.8X\n",
    "3.\t[godotengine/godot](https://github.com/godotengine/godot)\t2.2X\n",
    "4.\t[nuxt/nuxt.js](https://github.com/nuxt/nuxt.js)\t2.1X\n",
    "5.\t[ethereum/go-ethereum](https://github.com/ethereum/go-ethereum)\t2.0X\n",
    "6.\t[wix/react-native-navigation](https://github.com/wix/react-native-navigation)\t1.9X\n",
    "7.\t[spyder-ide/spyder](https://github.com/spyder-ide/spyder)\t1.8X\n",
    "8.\t[tensorflow/models](https://github.com/tensorflow/models)\t1.8X\n",
    "9.\t[home-assistant/home-assistant\t](https://github.com/home-assistant/home-assistant)1.6X\n",
    "10.\t[MarlinFirmware/Marlin](https://github.com/MarlinFirmware/Marlin)\t1.6X\n"
   ]
  },
  {
   "cell_type": "code",
   "execution_count": 0,
   "metadata": {
    "id": "aqNm48u5kSaR",
    "colab_type": "code",
    "colab": {}
   },
   "outputs": [],
   "source": [
    "# create URL list\n",
    "gh_urls = ['Microsoft/vscode', 'facebook/react-native', 'tensorflow/tensorflow', \n",
    "           'angular/angular-cli', 'MicrosoftDocs/azure-docs', 'angular/angular',\n",
    "           'ansible/ansible', 'kubernetes/kubernetes', 'npm/npm', 'DefinitelyTyped/DefinitelyTyped',\n",
    "           'MicrosoftDocs/azure-docs', 'pytorch/pytorch', 'godotengine/godot', \n",
    "           'nuxt/nuxt.js', 'ethereum/go-ethereum', 'wix/react-native-navigation',\n",
    "           'spyder-ide/spyder', 'tensorflow/models', 'home-assistant/home-assistant',\n",
    "           'MarlinFirmware/Marlin']"
   ]
  },
  {
   "cell_type": "code",
   "execution_count": 0,
   "metadata": {
    "id": "GJtfJTEapHS8",
    "colab_type": "code",
    "colab": {}
   },
   "outputs": [],
   "source": [
    "tosp_gh_urls = ['Microsoft/vscode', 'facebook/react-native', 'tensorflow/tensorflow', \n",
    "           'angular/angular-cli', 'MicrosoftDocs/azure-docs', 'angular/angular',\n",
    "           'ansible/ansible', 'kubernetes/kubernetes', 'npm/npm', 'DefinitelyTyped/DefinitelyTyped']\n",
    "fgosp_gh_urls = ['MicrosoftDocs/azure-docs', 'pytorch/pytorch', 'godotengine/godot', \n",
    "           'nuxt/nuxt.js', 'ethereum/go-ethereum', 'wix/react-native-navigation',\n",
    "           'spyder-ide/spyder', 'tensorflow/models', 'home-assistant/home-assistant',\n",
    "           'MarlinFirmware/Marlin']"
   ]
  },
  {
   "cell_type": "markdown",
   "metadata": {
    "id": "s4MinO3LjLdd",
    "colab_type": "text"
   },
   "source": [
    "# Repositories\n",
    "---\n",
    "### Brief overview of methods & test"
   ]
  },
  {
   "cell_type": "code",
   "execution_count": 0,
   "metadata": {
    "id": "btT_TM7GjKqA",
    "colab_type": "code",
    "colab": {}
   },
   "outputs": [],
   "source": [
    "# return methods (without _)\n",
    "def small_dir(obj):\n",
    "  return [x for x in dir(obj) if not x.startswith('_')]"
   ]
  },
  {
   "cell_type": "code",
   "execution_count": 0,
   "metadata": {
    "id": "DJBbehT4kN2o",
    "colab_type": "code",
    "colab": {}
   },
   "outputs": [],
   "source": [
    "test_urls = ['PyGithub/PyGithub', 'actuallyykatie/github-research'] "
   ]
  },
  {
   "cell_type": "code",
   "execution_count": 0,
   "metadata": {
    "id": "j6WRIA5pxLKR",
    "colab_type": "code",
    "colab": {}
   },
   "outputs": [],
   "source": [
    "data = []\n",
    "for url in test_urls:\n",
    "  # get repo\n",
    "  tmp_repo = g.get_repo(url)\n",
    "  data.append(dict(zip(['name', 'description', 'owner', 'language'],\n",
    "                       [tmp_repo.name, tmp_repo.description, tmp_repo.owner.login, tmp_repo.language])))\n"
   ]
  },
  {
   "cell_type": "code",
   "execution_count": 0,
   "metadata": {
    "id": "US42024ey5qW",
    "colab_type": "code",
    "outputId": "7e90b99a-e27e-447e-f209-f8a28f6a9b34",
    "colab": {
     "base_uri": "https://localhost:8080/",
     "height": 111.0
    }
   },
   "outputs": [
    {
     "data": {
      "text/html": [
       "<div>\n",
       "<style scoped>\n",
       "    .dataframe tbody tr th:only-of-type {\n",
       "        vertical-align: middle;\n",
       "    }\n",
       "\n",
       "    .dataframe tbody tr th {\n",
       "        vertical-align: top;\n",
       "    }\n",
       "\n",
       "    .dataframe thead th {\n",
       "        text-align: right;\n",
       "    }\n",
       "</style>\n",
       "<table border=\"1\" class=\"dataframe\">\n",
       "  <thead>\n",
       "    <tr style=\"text-align: right;\">\n",
       "      <th></th>\n",
       "      <th>name</th>\n",
       "      <th>description</th>\n",
       "      <th>owner</th>\n",
       "      <th>language</th>\n",
       "    </tr>\n",
       "  </thead>\n",
       "  <tbody>\n",
       "    <tr>\n",
       "      <th>0</th>\n",
       "      <td>PyGithub</td>\n",
       "      <td>Typed interactions with the GitHub API v3</td>\n",
       "      <td>PyGithub</td>\n",
       "      <td>Python</td>\n",
       "    </tr>\n",
       "    <tr>\n",
       "      <th>1</th>\n",
       "      <td>github-research</td>\n",
       "      <td>Source code and files for research paper on An...</td>\n",
       "      <td>actuallyykatie</td>\n",
       "      <td>Jupyter Notebook</td>\n",
       "    </tr>\n",
       "  </tbody>\n",
       "</table>\n",
       "</div>"
      ],
      "text/plain": [
       "              name                                        description  \\\n",
       "0         PyGithub          Typed interactions with the GitHub API v3   \n",
       "1  github-research  Source code and files for research paper on An...   \n",
       "\n",
       "            owner          language  \n",
       "0        PyGithub            Python  \n",
       "1  actuallyykatie  Jupyter Notebook  "
      ]
     },
     "execution_count": 14,
     "metadata": {
      "tags": []
     },
     "output_type": "execute_result"
    }
   ],
   "source": [
    "pd.DataFrame(columns=['name', 'description', 'owner', 'language']).append(data)  # it works!"
   ]
  },
  {
   "cell_type": "markdown",
   "metadata": {
    "id": "upoC2sRozKih",
    "colab_type": "text"
   },
   "source": [
    "## Data Collection\n",
    "Date: 30/04/2019  \n",
    "- **full_name** - full name of the repository (owner/title)  \n",
    "- **name** - title of repository  \n",
    "- **description**  - description \n",
    "- **owner** - owner  \n",
    "- **language** - programming languages used\n",
    "- **forks_count **- number of forks\n",
    "- **stargazers_count **- number of stargazers  \n",
    "- **watchers_count **- number of watchers  \n",
    "- **open_issues_count** - number of open issues  \n",
    "- **topics** - topics (like tags)  \n",
    "- **contributors** - list of contributors \n",
    "\n",
    "*Note:* MicrosoftDocs/azure-docs is listed twice as it appears in both top-10s."
   ]
  },
  {
   "cell_type": "code",
   "execution_count": 0,
   "metadata": {
    "id": "q8vaVKFNzPOy",
    "colab_type": "code",
    "colab": {}
   },
   "outputs": [],
   "source": [
    "repos_data = []\n",
    "for url in gh_urls:\n",
    "  # get repo\n",
    "  tmp_repo = g.get_repo(url)\n",
    "  # append data \n",
    "  repos_data.append(dict(zip(['full_name','name', 'description', 'owner', 'language', \n",
    "                              'forks_count','stargazers_count', 'watchers_count', \n",
    "                              'open_issues_count', 'topics', 'contributors'],\n",
    "                             [tmp_repo.full_name, tmp_repo.name, tmp_repo.description, tmp_repo.owner.login, tmp_repo.language,\n",
    "                              tmp_repo.forks_count, tmp_repo.stargazers_count, tmp_repo.watchers, \n",
    "                              tmp_repo.open_issues_count,  tmp_repo.get_topics(), \n",
    "                              [name.login for name in tmp_repo.get_contributors()] \n",
    "                             ])))"
   ]
  },
  {
   "cell_type": "code",
   "execution_count": 19,
   "metadata": {
    "id": "fdgFURcUz0W0",
    "colab_type": "code",
    "outputId": "f06bb7b6-5f12-40bf-a4ec-8022ff93abaf",
    "colab": {
     "base_uri": "https://localhost:8080/",
     "height": 1777.0
    }
   },
   "outputs": [
    {
     "data": {
      "text/html": [
       "<div>\n",
       "<style scoped>\n",
       "    .dataframe tbody tr th:only-of-type {\n",
       "        vertical-align: middle;\n",
       "    }\n",
       "\n",
       "    .dataframe tbody tr th {\n",
       "        vertical-align: top;\n",
       "    }\n",
       "\n",
       "    .dataframe thead th {\n",
       "        text-align: right;\n",
       "    }\n",
       "</style>\n",
       "<table border=\"1\" class=\"dataframe\">\n",
       "  <thead>\n",
       "    <tr style=\"text-align: right;\">\n",
       "      <th></th>\n",
       "      <th>full_name</th>\n",
       "      <th>name</th>\n",
       "      <th>description</th>\n",
       "      <th>owner</th>\n",
       "      <th>language</th>\n",
       "      <th>forks_count</th>\n",
       "      <th>stargazers_count</th>\n",
       "      <th>watchers_count</th>\n",
       "      <th>open_issues_count</th>\n",
       "      <th>topics</th>\n",
       "      <th>contributors</th>\n",
       "    </tr>\n",
       "  </thead>\n",
       "  <tbody>\n",
       "    <tr>\n",
       "      <th>0</th>\n",
       "      <td>Microsoft/vscode</td>\n",
       "      <td>vscode</td>\n",
       "      <td>Visual Studio Code</td>\n",
       "      <td>Microsoft</td>\n",
       "      <td>TypeScript</td>\n",
       "      <td>10174</td>\n",
       "      <td>74535</td>\n",
       "      <td>74535</td>\n",
       "      <td>5727</td>\n",
       "      <td>[editor, electron, visual-studio-code, typescr...</td>\n",
       "      <td>[bpasero, joaomoreno, jrieken, isidorn, alexan...</td>\n",
       "    </tr>\n",
       "    <tr>\n",
       "      <th>1</th>\n",
       "      <td>facebook/react-native</td>\n",
       "      <td>react-native</td>\n",
       "      <td>A framework for building native apps with React.</td>\n",
       "      <td>facebook</td>\n",
       "      <td>JavaScript</td>\n",
       "      <td>17081</td>\n",
       "      <td>76546</td>\n",
       "      <td>76546</td>\n",
       "      <td>483</td>\n",
       "      <td>[]</td>\n",
       "      <td>[shergin, javache, davidaurelio, mkonicek, sah...</td>\n",
       "    </tr>\n",
       "    <tr>\n",
       "      <th>2</th>\n",
       "      <td>tensorflow/tensorflow</td>\n",
       "      <td>tensorflow</td>\n",
       "      <td>An Open Source Machine Learning Framework for ...</td>\n",
       "      <td>tensorflow</td>\n",
       "      <td>C++</td>\n",
       "      <td>74224</td>\n",
       "      <td>126592</td>\n",
       "      <td>126592</td>\n",
       "      <td>2471</td>\n",
       "      <td>[tensorflow, machine-learning, python, deep-le...</td>\n",
       "      <td>[tensorflower-gardener, caisq, benoitsteiner, ...</td>\n",
       "    </tr>\n",
       "    <tr>\n",
       "      <th>3</th>\n",
       "      <td>angular/angular-cli</td>\n",
       "      <td>angular-cli</td>\n",
       "      <td>CLI tool for Angular</td>\n",
       "      <td>angular</td>\n",
       "      <td>TypeScript</td>\n",
       "      <td>6494</td>\n",
       "      <td>21509</td>\n",
       "      <td>21509</td>\n",
       "      <td>717</td>\n",
       "      <td>[angular, cli, angular-cli, typescript]</td>\n",
       "      <td>[hansl, filipesilva, clydin, Brocco, alan-agiu...</td>\n",
       "    </tr>\n",
       "    <tr>\n",
       "      <th>4</th>\n",
       "      <td>MicrosoftDocs/azure-docs</td>\n",
       "      <td>azure-docs</td>\n",
       "      <td>Open source documentation of Microsoft Azure</td>\n",
       "      <td>MicrosoftDocs</td>\n",
       "      <td>PowerShell</td>\n",
       "      <td>7000</td>\n",
       "      <td>2524</td>\n",
       "      <td>2524</td>\n",
       "      <td>1912</td>\n",
       "      <td>[]</td>\n",
       "      <td>[tysonn, v-alje, GitHubber17, ktoliver, Ja-Dun...</td>\n",
       "    </tr>\n",
       "    <tr>\n",
       "      <th>5</th>\n",
       "      <td>angular/angular</td>\n",
       "      <td>angular</td>\n",
       "      <td>One framework. Mobile &amp; desktop.</td>\n",
       "      <td>angular</td>\n",
       "      <td>TypeScript</td>\n",
       "      <td>12694</td>\n",
       "      <td>47609</td>\n",
       "      <td>47609</td>\n",
       "      <td>2751</td>\n",
       "      <td>[angular, typescript, web, javascript, pwa, we...</td>\n",
       "      <td>[petebacondarwin, vsavkin, vicb, IgorMinar, gk...</td>\n",
       "    </tr>\n",
       "    <tr>\n",
       "      <th>6</th>\n",
       "      <td>ansible/ansible</td>\n",
       "      <td>ansible</td>\n",
       "      <td>Ansible is a radically simple IT automation pl...</td>\n",
       "      <td>ansible</td>\n",
       "      <td>Python</td>\n",
       "      <td>15259</td>\n",
       "      <td>36843</td>\n",
       "      <td>36843</td>\n",
       "      <td>5643</td>\n",
       "      <td>[python, ansible]</td>\n",
       "      <td>[mpdehaan, bcoca, jimi-c, abadger, mattclay, d...</td>\n",
       "    </tr>\n",
       "    <tr>\n",
       "      <th>7</th>\n",
       "      <td>kubernetes/kubernetes</td>\n",
       "      <td>kubernetes</td>\n",
       "      <td>Production-Grade Container Scheduling and Mana...</td>\n",
       "      <td>kubernetes</td>\n",
       "      <td>Go</td>\n",
       "      <td>17933</td>\n",
       "      <td>51962</td>\n",
       "      <td>51962</td>\n",
       "      <td>3189</td>\n",
       "      <td>[kubernetes, go, cncf, containers]</td>\n",
       "      <td>[k8s-github-robot, k8s-ci-robot, brendandburns...</td>\n",
       "    </tr>\n",
       "    <tr>\n",
       "      <th>8</th>\n",
       "      <td>npm/npm</td>\n",
       "      <td>npm</td>\n",
       "      <td>This repository is moving to: https://github.c...</td>\n",
       "      <td>npm</td>\n",
       "      <td>None</td>\n",
       "      <td>3161</td>\n",
       "      <td>17134</td>\n",
       "      <td>17134</td>\n",
       "      <td>2166</td>\n",
       "      <td>[]</td>\n",
       "      <td>[isaacs, iarna, othiym23, zkat, robertkowalski...</td>\n",
       "    </tr>\n",
       "    <tr>\n",
       "      <th>9</th>\n",
       "      <td>DefinitelyTyped/DefinitelyTyped</td>\n",
       "      <td>DefinitelyTyped</td>\n",
       "      <td>The repository for high quality TypeScript typ...</td>\n",
       "      <td>DefinitelyTyped</td>\n",
       "      <td>TypeScript</td>\n",
       "      <td>17323</td>\n",
       "      <td>21842</td>\n",
       "      <td>21842</td>\n",
       "      <td>2809</td>\n",
       "      <td>[typescript, definition, dts, types, typings, ...</td>\n",
       "      <td>[vvakame, sandersn, DanielRosenwasser, andy-ms...</td>\n",
       "    </tr>\n",
       "    <tr>\n",
       "      <th>10</th>\n",
       "      <td>MicrosoftDocs/azure-docs</td>\n",
       "      <td>azure-docs</td>\n",
       "      <td>Open source documentation of Microsoft Azure</td>\n",
       "      <td>MicrosoftDocs</td>\n",
       "      <td>PowerShell</td>\n",
       "      <td>7000</td>\n",
       "      <td>2524</td>\n",
       "      <td>2524</td>\n",
       "      <td>1913</td>\n",
       "      <td>[]</td>\n",
       "      <td>[tysonn, v-alje, GitHubber17, ktoliver, Ja-Dun...</td>\n",
       "    </tr>\n",
       "    <tr>\n",
       "      <th>11</th>\n",
       "      <td>pytorch/pytorch</td>\n",
       "      <td>pytorch</td>\n",
       "      <td>Tensors and Dynamic neural networks in Python ...</td>\n",
       "      <td>pytorch</td>\n",
       "      <td>C++</td>\n",
       "      <td>6543</td>\n",
       "      <td>27471</td>\n",
       "      <td>27471</td>\n",
       "      <td>2939</td>\n",
       "      <td>[neural-network, autograd, gpu, numpy, deep-le...</td>\n",
       "      <td>[soumith, ezyang, apaszke, gchanan, Yangqing, ...</td>\n",
       "    </tr>\n",
       "    <tr>\n",
       "      <th>12</th>\n",
       "      <td>godotengine/godot</td>\n",
       "      <td>godot</td>\n",
       "      <td>Godot Engine – Multi-platform 2D and 3D game e...</td>\n",
       "      <td>godotengine</td>\n",
       "      <td>C++</td>\n",
       "      <td>4273</td>\n",
       "      <td>21876</td>\n",
       "      <td>21876</td>\n",
       "      <td>5041</td>\n",
       "      <td>[game-engine, godot, godotengine, open-source,...</td>\n",
       "      <td>[akien-mga, reduz, neikeq, Naryosha, volzhs, m...</td>\n",
       "    </tr>\n",
       "    <tr>\n",
       "      <th>13</th>\n",
       "      <td>nuxt/nuxt.js</td>\n",
       "      <td>nuxt.js</td>\n",
       "      <td>The Vue.js Framework</td>\n",
       "      <td>nuxt</td>\n",
       "      <td>JavaScript</td>\n",
       "      <td>1678</td>\n",
       "      <td>19733</td>\n",
       "      <td>19733</td>\n",
       "      <td>150</td>\n",
       "      <td>[framework, isomorphic, universal, vue, ssr, n...</td>\n",
       "      <td>[Atinux, pi0, clarkdo, renovate[bot], manniL, ...</td>\n",
       "    </tr>\n",
       "    <tr>\n",
       "      <th>14</th>\n",
       "      <td>ethereum/go-ethereum</td>\n",
       "      <td>go-ethereum</td>\n",
       "      <td>Official Go implementation of the Ethereum pro...</td>\n",
       "      <td>ethereum</td>\n",
       "      <td>Go</td>\n",
       "      <td>8281</td>\n",
       "      <td>23200</td>\n",
       "      <td>23200</td>\n",
       "      <td>684</td>\n",
       "      <td>[go, blockchain, ethereum, p2p, geth]</td>\n",
       "      <td>[obscuren, karalabe, fjl, tgerring, zelig, CJe...</td>\n",
       "    </tr>\n",
       "    <tr>\n",
       "      <th>15</th>\n",
       "      <td>wix/react-native-navigation</td>\n",
       "      <td>react-native-navigation</td>\n",
       "      <td>A complete native navigation solution for Reac...</td>\n",
       "      <td>wix</td>\n",
       "      <td>Java</td>\n",
       "      <td>2198</td>\n",
       "      <td>10116</td>\n",
       "      <td>10116</td>\n",
       "      <td>163</td>\n",
       "      <td>[react-native, navigation, navigator, react-na...</td>\n",
       "      <td>[DanielZlotin, guyca, yogevbd, gran33, yershal...</td>\n",
       "    </tr>\n",
       "    <tr>\n",
       "      <th>16</th>\n",
       "      <td>spyder-ide/spyder</td>\n",
       "      <td>spyder</td>\n",
       "      <td>Official repository for Spyder - The Scientifi...</td>\n",
       "      <td>spyder-ide</td>\n",
       "      <td>Python</td>\n",
       "      <td>882</td>\n",
       "      <td>4339</td>\n",
       "      <td>4339</td>\n",
       "      <td>743</td>\n",
       "      <td>[spyder, python, pyqt5, anaconda, anaconda-dis...</td>\n",
       "      <td>[ccordoba12, PierreRaybaut, rlaverde, dalthviz...</td>\n",
       "    </tr>\n",
       "    <tr>\n",
       "      <th>17</th>\n",
       "      <td>tensorflow/models</td>\n",
       "      <td>models</td>\n",
       "      <td>Models and examples built with TensorFlow</td>\n",
       "      <td>tensorflow</td>\n",
       "      <td>Python</td>\n",
       "      <td>32091</td>\n",
       "      <td>52071</td>\n",
       "      <td>52071</td>\n",
       "      <td>1608</td>\n",
       "      <td>[]</td>\n",
       "      <td>[nealwu, MarkDaoust, pkulzc, tfboyd, cshallue,...</td>\n",
       "    </tr>\n",
       "    <tr>\n",
       "      <th>18</th>\n",
       "      <td>home-assistant/home-assistant</td>\n",
       "      <td>home-assistant</td>\n",
       "      <td>:house_with_garden: Open source home automatio...</td>\n",
       "      <td>home-assistant</td>\n",
       "      <td>Python</td>\n",
       "      <td>6735</td>\n",
       "      <td>23180</td>\n",
       "      <td>23180</td>\n",
       "      <td>1143</td>\n",
       "      <td>[python, home-automation, iot, internet-of-thi...</td>\n",
       "      <td>[balloob, fabaff, pvizeli, robbiet480, Danielh...</td>\n",
       "    </tr>\n",
       "    <tr>\n",
       "      <th>19</th>\n",
       "      <td>MarlinFirmware/Marlin</td>\n",
       "      <td>Marlin</td>\n",
       "      <td>Optimized firmware for RepRap 3D printers base...</td>\n",
       "      <td>MarlinFirmware</td>\n",
       "      <td>C</td>\n",
       "      <td>7028</td>\n",
       "      <td>5331</td>\n",
       "      <td>5331</td>\n",
       "      <td>801</td>\n",
       "      <td>[reprap, arduino, 3d-printing, firmware, avr, ...</td>\n",
       "      <td>[thinkyhead, ErikZalm, AnHardt, daid, jbrazio,...</td>\n",
       "    </tr>\n",
       "  </tbody>\n",
       "</table>\n",
       "</div>"
      ],
      "text/plain": [
       "                          full_name                     name  \\\n",
       "0                  Microsoft/vscode                   vscode   \n",
       "1             facebook/react-native             react-native   \n",
       "2             tensorflow/tensorflow               tensorflow   \n",
       "3               angular/angular-cli              angular-cli   \n",
       "4          MicrosoftDocs/azure-docs               azure-docs   \n",
       "5                   angular/angular                  angular   \n",
       "6                   ansible/ansible                  ansible   \n",
       "7             kubernetes/kubernetes               kubernetes   \n",
       "8                           npm/npm                      npm   \n",
       "9   DefinitelyTyped/DefinitelyTyped          DefinitelyTyped   \n",
       "10         MicrosoftDocs/azure-docs               azure-docs   \n",
       "11                  pytorch/pytorch                  pytorch   \n",
       "12                godotengine/godot                    godot   \n",
       "13                     nuxt/nuxt.js                  nuxt.js   \n",
       "14             ethereum/go-ethereum              go-ethereum   \n",
       "15      wix/react-native-navigation  react-native-navigation   \n",
       "16                spyder-ide/spyder                   spyder   \n",
       "17                tensorflow/models                   models   \n",
       "18    home-assistant/home-assistant           home-assistant   \n",
       "19            MarlinFirmware/Marlin                   Marlin   \n",
       "\n",
       "                                          description            owner  \\\n",
       "0                                  Visual Studio Code        Microsoft   \n",
       "1    A framework for building native apps with React.         facebook   \n",
       "2   An Open Source Machine Learning Framework for ...       tensorflow   \n",
       "3                                CLI tool for Angular          angular   \n",
       "4        Open source documentation of Microsoft Azure    MicrosoftDocs   \n",
       "5                    One framework. Mobile & desktop.          angular   \n",
       "6   Ansible is a radically simple IT automation pl...          ansible   \n",
       "7   Production-Grade Container Scheduling and Mana...       kubernetes   \n",
       "8   This repository is moving to: https://github.c...              npm   \n",
       "9   The repository for high quality TypeScript typ...  DefinitelyTyped   \n",
       "10       Open source documentation of Microsoft Azure    MicrosoftDocs   \n",
       "11  Tensors and Dynamic neural networks in Python ...          pytorch   \n",
       "12  Godot Engine – Multi-platform 2D and 3D game e...      godotengine   \n",
       "13                               The Vue.js Framework             nuxt   \n",
       "14  Official Go implementation of the Ethereum pro...         ethereum   \n",
       "15  A complete native navigation solution for Reac...              wix   \n",
       "16  Official repository for Spyder - The Scientifi...       spyder-ide   \n",
       "17          Models and examples built with TensorFlow       tensorflow   \n",
       "18  :house_with_garden: Open source home automatio...   home-assistant   \n",
       "19  Optimized firmware for RepRap 3D printers base...   MarlinFirmware   \n",
       "\n",
       "      language  forks_count  stargazers_count  watchers_count  \\\n",
       "0   TypeScript        10174             74535           74535   \n",
       "1   JavaScript        17081             76546           76546   \n",
       "2          C++        74224            126592          126592   \n",
       "3   TypeScript         6494             21509           21509   \n",
       "4   PowerShell         7000              2524            2524   \n",
       "5   TypeScript        12694             47609           47609   \n",
       "6       Python        15259             36843           36843   \n",
       "7           Go        17933             51962           51962   \n",
       "8         None         3161             17134           17134   \n",
       "9   TypeScript        17323             21842           21842   \n",
       "10  PowerShell         7000              2524            2524   \n",
       "11         C++         6543             27471           27471   \n",
       "12         C++         4273             21876           21876   \n",
       "13  JavaScript         1678             19733           19733   \n",
       "14          Go         8281             23200           23200   \n",
       "15        Java         2198             10116           10116   \n",
       "16      Python          882              4339            4339   \n",
       "17      Python        32091             52071           52071   \n",
       "18      Python         6735             23180           23180   \n",
       "19           C         7028              5331            5331   \n",
       "\n",
       "    open_issues_count                                             topics  \\\n",
       "0                5727  [editor, electron, visual-studio-code, typescr...   \n",
       "1                 483                                                 []   \n",
       "2                2471  [tensorflow, machine-learning, python, deep-le...   \n",
       "3                 717            [angular, cli, angular-cli, typescript]   \n",
       "4                1912                                                 []   \n",
       "5                2751  [angular, typescript, web, javascript, pwa, we...   \n",
       "6                5643                                  [python, ansible]   \n",
       "7                3189                 [kubernetes, go, cncf, containers]   \n",
       "8                2166                                                 []   \n",
       "9                2809  [typescript, definition, dts, types, typings, ...   \n",
       "10               1913                                                 []   \n",
       "11               2939  [neural-network, autograd, gpu, numpy, deep-le...   \n",
       "12               5041  [game-engine, godot, godotengine, open-source,...   \n",
       "13                150  [framework, isomorphic, universal, vue, ssr, n...   \n",
       "14                684              [go, blockchain, ethereum, p2p, geth]   \n",
       "15                163  [react-native, navigation, navigator, react-na...   \n",
       "16                743  [spyder, python, pyqt5, anaconda, anaconda-dis...   \n",
       "17               1608                                                 []   \n",
       "18               1143  [python, home-automation, iot, internet-of-thi...   \n",
       "19                801  [reprap, arduino, 3d-printing, firmware, avr, ...   \n",
       "\n",
       "                                         contributors  \n",
       "0   [bpasero, joaomoreno, jrieken, isidorn, alexan...  \n",
       "1   [shergin, javache, davidaurelio, mkonicek, sah...  \n",
       "2   [tensorflower-gardener, caisq, benoitsteiner, ...  \n",
       "3   [hansl, filipesilva, clydin, Brocco, alan-agiu...  \n",
       "4   [tysonn, v-alje, GitHubber17, ktoliver, Ja-Dun...  \n",
       "5   [petebacondarwin, vsavkin, vicb, IgorMinar, gk...  \n",
       "6   [mpdehaan, bcoca, jimi-c, abadger, mattclay, d...  \n",
       "7   [k8s-github-robot, k8s-ci-robot, brendandburns...  \n",
       "8   [isaacs, iarna, othiym23, zkat, robertkowalski...  \n",
       "9   [vvakame, sandersn, DanielRosenwasser, andy-ms...  \n",
       "10  [tysonn, v-alje, GitHubber17, ktoliver, Ja-Dun...  \n",
       "11  [soumith, ezyang, apaszke, gchanan, Yangqing, ...  \n",
       "12  [akien-mga, reduz, neikeq, Naryosha, volzhs, m...  \n",
       "13  [Atinux, pi0, clarkdo, renovate[bot], manniL, ...  \n",
       "14  [obscuren, karalabe, fjl, tgerring, zelig, CJe...  \n",
       "15  [DanielZlotin, guyca, yogevbd, gran33, yershal...  \n",
       "16  [ccordoba12, PierreRaybaut, rlaverde, dalthviz...  \n",
       "17  [nealwu, MarkDaoust, pkulzc, tfboyd, cshallue,...  \n",
       "18  [balloob, fabaff, pvizeli, robbiet480, Danielh...  \n",
       "19  [thinkyhead, ErikZalm, AnHardt, daid, jbrazio,...  "
      ]
     },
     "execution_count": 19,
     "metadata": {
      "tags": []
     },
     "output_type": "execute_result"
    }
   ],
   "source": [
    "repo_cols = ['full_name','name', 'description', 'owner', 'language', \n",
    "             'forks_count','stargazers_count', 'watchers_count', \n",
    "             'open_issues_count', 'topics', 'contributors']\n",
    "repos_df = pd.DataFrame(repos_data, columns=repo_cols)\n",
    "repos_df  "
   ]
  },
  {
   "cell_type": "code",
   "execution_count": 0,
   "metadata": {
    "id": "7EXdt_xp0F0p",
    "colab_type": "code",
    "colab": {}
   },
   "outputs": [],
   "source": [
    "repos_df.to_csv(PATH_TO_DATA + 'repos_df.csv')"
   ]
  },
  {
   "cell_type": "markdown",
   "metadata": {
    "id": "34IlKaP0MlAT",
    "colab_type": "text"
   },
   "source": [
    "---\n",
    "\n",
    "# Issues\n",
    "\n",
    "---\n",
    "\n",
    "Date: 25/04/2019 to 30/04/2019\n",
    "\n",
    "- repo_author - Repository author (company name)\n",
    "- repo_title - Repository title\n",
    "- issue_title - Issue/PR title\n",
    "- issue_number - Issue number\n",
    "- state - State\n",
    "- rev_or_ass - Reviewers/Assignees\n",
    "- labels - Labels\n",
    "- created_at - Created at\n",
    "- closed_at - Who closed the issue/PR and when (if so)\n",
    "- num_of_participants - Number of participants\n",
    "- comments - Comments. Includes the user's status (collaborator/author/owner/member), user login, date, comment\n",
    "- reactions - Reactions"
   ]
  },
  {
   "cell_type": "markdown",
   "metadata": {
    "id": "ONWLxW54J-lz",
    "colab_type": "text"
   },
   "source": [
    "**GitHub rate limit:** 5000 requests per hour.   \n",
    "- but we have a LOT of issues  \n",
    "- limit is reached quite easily\n",
    "\n",
    "In order to overcome it, we need to:  \n",
    "- scrap it, luckily github allows that\n",
    "\n",
    "Processing one issue by one was too slow, so we also added multiprocessing. The functions used to return the pandas dataframes, but due to Pool + map we had to convert it into lists, and then back to pandas. :(."
   ]
  },
  {
   "cell_type": "markdown",
   "metadata": {
    "id": "YhD-5zgD8hjV",
    "colab_type": "text"
   },
   "source": [
    "# Functions\n",
    "The plan is like that:\n",
    "1. For each repository create a dataframe, where each comment is a row\n",
    "2. Return this row as a list (cleaned from stuff that may further break csv, like commas)   \n",
    "3. Combine all the lists\n",
    "4. Then turn back to pandas\n",
    "\n",
    "Result: one dataset for each repository. Each row - comment.   \n",
    "*Note*: issue description also counts as a comment, so we do not skip issues that have zero comments by other users *(but we kinda don't need them anyway?)*."
   ]
  },
  {
   "cell_type": "code",
   "execution_count": 0,
   "metadata": {
    "colab_type": "code",
    "id": "WO5zzpDYOGkv",
    "colab": {}
   },
   "outputs": [],
   "source": [
    "def get_reactions(soup):\n",
    "  \"\"\"\n",
    "  Gets reactions for each comment if any.\n",
    "  (Что может быть более костыльным?)\n",
    "  \"\"\"\n",
    "  i=0\n",
    "  comm_reacts = []\n",
    "  for x in soup.find_all(class_='comment-reactions'):\n",
    "    if len(x.contents) < 2:\n",
    "      comm_reacts.append(x.contents)\n",
    "    else:\n",
    "      comm_reacts.append([y.text for y in soup.find_all('form', {'class':'js-pick-reaction'})][i])\n",
    "      i+=1\n",
    "  return comm_reacts"
   ]
  },
  {
   "cell_type": "code",
   "execution_count": 0,
   "metadata": {
    "colab_type": "code",
    "id": "EYj4bFkCOGky",
    "colab": {}
   },
   "outputs": [],
   "source": [
    "def get_comments_df(soup):\n",
    "  \"\"\"\n",
    "  Gets comments for the issue.\n",
    "  Number of comments for issues and number of reactions sometimes does not match\n",
    "  in case of PRs, so if error occurs, function fills the column with '\\n'.\n",
    "  \n",
    "  На пулл реквестах число комментов и реакций не совпадает, \n",
    "  т.к. не всё что с реакцией - коммент (при этом тэг один).\n",
    "  В итоге если всё окей, то в дф пишутся реакции. Если нет, то просто '\\n'\n",
    "  \"\"\"\n",
    "  comms = clean_comments(soup)\n",
    "  try:\n",
    "    comments_df = pd.DataFrame.from_dict({\n",
    "        'issue_title': soup.find(class_='js-issue-title').text.strip().replace(',', ''), # \n",
    "        'comment_number': [n for n in np.arange(1, len(comms)+1, 1)],\n",
    "        'comments': comms,\n",
    "        'reactions': get_reactions(soup)})\n",
    "  except ValueError:\n",
    "    comments_df = pd.DataFrame.from_dict({\n",
    "        'issue_title': soup.find(class_='js-issue-title').text.strip().replace(',', ''),  #\n",
    "        'comment_number': [n for n in np.arange(1, len(comms)+1, 1)],\n",
    "        'comments': comms,\n",
    "        'reactions': '\\n'})\n",
    "  return comments_df           "
   ]
  },
  {
   "cell_type": "code",
   "execution_count": 0,
   "metadata": {
    "id": "B4SdZTlXtNU_",
    "colab_type": "code",
    "colab": {}
   },
   "outputs": [],
   "source": [
    "def clean_rev_ass(soup):\n",
    "  \"\"\"\n",
    "  Clean data about Assignees & Reviewers. \n",
    "  All of them are located under the same tag. Issues have Assignees, PRs - Reviewers.\n",
    "  This function deletes '\\n', irrelevant text and some more text :))\n",
    "  Returns logins splitted by ;\n",
    "  \"\"\"\n",
    "  to_clean = soup.find(class_='js-issue-sidebar-form').text.replace('\\n', '').strip()\n",
    "  # rev_ass_cleaned = to_clean.replace('Assignees   ', '') if 'Assignees' in to_clean else to_clean.replace('Reviewers   ', '')\n",
    "  \n",
    "  if 'Assignees' in to_clean:\n",
    "    rev_ass_cleaned = to_clean.replace('Assignees   ', '')\n",
    "  else:\n",
    "    rev_ass_cleaned = to_clean.replace('Reviewers   ', '')\n",
    "    if 'At least 1 approving review is required to merge this pull request.' in rev_ass_cleaned :\n",
    "      rev_ass_cleaned = rev_ass_cleaned.replace('At least 1 approving review is required to merge this pull request.', '')\n",
    "\n",
    "      \n",
    "  return '; '.join(rev_ass_cleaned.split())"
   ]
  },
  {
   "cell_type": "code",
   "execution_count": 0,
   "metadata": {
    "id": "0IU243djnsdT",
    "colab_type": "code",
    "colab": {}
   },
   "outputs": [],
   "source": [
    "def clean_closed_at(soup):\n",
    "  \"\"\"\n",
    "  Clean and extract data about who and when closed the issue.\n",
    "  \"\"\"\n",
    "  tmp_lst = flatten([ x.text.split('\\n    ') for x in soup.find_all(class_='discussion-item discussion-item-closed')])\n",
    "  #who_did, what_did, when_did = [x.replace('\\n', '').strip() for x in tmp_lst ]\n",
    "  closed_at = [x.replace('\\n', '').strip() for x in tmp_lst ]\n",
    "\n",
    "  return '; '.join(closed_at).replace(',', '')"
   ]
  },
  {
   "cell_type": "code",
   "execution_count": 0,
   "metadata": {
    "id": "CUaWiX89nvxo",
    "colab_type": "code",
    "colab": {}
   },
   "outputs": [],
   "source": [
    "def clean_comments(soup):\n",
    "  \"\"\"\n",
    "  Remove commas, lots of '\\n', irrelevant text, and return more or less clear comments.\n",
    "  However, more info extraction is needed after that.\n",
    "  \"\"\"\n",
    "  comm_dirty = [x.text.strip() for x in soup.find_all(class_='timeline-comment-group js-minimizable-comment-group js-targetable-comment')]\n",
    "  comm_cleaned = [x.replace('\\n', ' ').replace(',', '').replace('This comment has been minimized.','')\\\n",
    "                  .replace('Sign in to view', '').replace('Copy link', '')\\\n",
    "                  .replace('Quote reply', '').replace('   ',' ') for x in comm_dirty]\n",
    "  # add extra word for the first element which is issue body\n",
    "  comm_cleaned = [x.strip() for x in comm_cleaned]\n",
    "  \n",
    "  return comm_cleaned"
   ]
  },
  {
   "cell_type": "code",
   "execution_count": 0,
   "metadata": {
    "id": "aqz41sBp36qN",
    "colab_type": "code",
    "colab": {}
   },
   "outputs": [],
   "source": [
    "cols = ['repo_author', 'repo_title', 'issue_title', 'issue_number', 'state', \n",
    "        'rev_or_ass', 'labels', 'created_at', 'closed_at',\n",
    "        'num_of_participants']"
   ]
  },
  {
   "cell_type": "code",
   "execution_count": 0,
   "metadata": {
    "id": "urfdlffv9_FV",
    "colab_type": "code",
    "colab": {}
   },
   "outputs": [],
   "source": [
    "def parse_issue(url):\n",
    "  \"\"\"\n",
    "  Gets information about:\n",
    "  1. Repository author\n",
    "  2. Repository title\n",
    "  3. Issue/PR title\n",
    "  4. Issue number\n",
    "  5. State\n",
    "  6. Reviewers/Assignees\n",
    "  7. Labels\n",
    "  8. Created at\n",
    "  9. Who closed the issue/PR, Closed at\n",
    "  10. Number of participants\n",
    "  11. Comments\n",
    "  12. Reactions\n",
    "  \n",
    "  Used to return dataframe, now returns list. Version for pool & map ¯\\_(ツ)_/¯\n",
    "  \"\"\"\n",
    "  \n",
    "  r = requests.get(url)\n",
    "  sleep(uniform(0.1, 0.5))\n",
    "  \n",
    "  df_tmp = pd.DataFrame(columns=cols)\n",
    "  \n",
    "  if r.status_code == 200:\n",
    "    try:\n",
    "      #print('Processing ' + url)\n",
    "      html = r.text\n",
    "      soup = BeautifulSoup(html,  'lxml')  \n",
    "      _trash, repo_author, repo_title, _issue, issue_number =  urlparse(url).path.strip().split('/') \n",
    "      # collect information about issue, turn into df\n",
    "      issue_info = {\n",
    "          'repo_author': repo_author,\n",
    "          'repo_title': repo_title,\n",
    "          'issue_title': soup.find(class_='js-issue-title').text.strip().replace(',', ''), # CHANGED\n",
    "          'issue_number': issue_number,\n",
    "          'state': soup.find(class_='TableObject-item').text.strip(),\n",
    "          'rev_or_ass': clean_rev_ass(soup), ### changed\n",
    "          'labels': '; '.join(soup.find(class_='discussion-sidebar-item sidebar-labels js-discussion-sidebar-item').text.strip('\\n\\n    Labels\\n  \\n\\n').split('\\n')),\n",
    "          'created_at': datetime.strptime(soup.find(class_='timestamp js-timestamp').text, '%b %d, %Y').strftime('%d/%m/%Y'),\n",
    "          'closed_at': clean_closed_at(soup),\n",
    "          'num_of_participants': soup.find(class_='participation').text.strip()\n",
    "      }\n",
    "      issue_info_df_tmp = pd.DataFrame([issue_info], \n",
    "                                       columns= ['repo_author', 'repo_title', 'issue_title', 'issue_number', 'state', \n",
    "                                                 'rev_or_ass', 'labels', 'created_at', 'closed_at', 'num_of_participants'])\n",
    "      # collect comments \n",
    "      comm_info = get_comments_df(soup)\n",
    "      \n",
    "      # merge it all\n",
    "      df_tmp = pd.merge(issue_info_df_tmp, comm_info, on='issue_title', sort=False)\n",
    "    except:\n",
    "      pass\n",
    "  \n",
    "  return [str(x)  for x in df_tmp.values.tolist()]\n"
   ]
  },
  {
   "cell_type": "code",
   "execution_count": 0,
   "metadata": {
    "id": "XlT8r9qAuFYn",
    "colab_type": "code",
    "colab": {}
   },
   "outputs": [],
   "source": [
    "def get_issue_links(repo):\n",
    "  \"\"\"\n",
    "  Generate links to parse\n",
    "  repo = 'author/repo_name'\n",
    "  \"\"\"\n",
    "  tmp_repo = g.get_repo(repo)\n",
    "  tmp_issues = tmp_repo.get_issues(state='all')\n",
    "  issues_urls = ['https://github.com/{}/issues/{}'.format(repo, i) for i in range(1, tmp_issues[0].number + 1)] # 0 element is the last issue\n",
    "  \n",
    "  return issues_urls"
   ]
  },
  {
   "cell_type": "code",
   "execution_count": 0,
   "metadata": {
    "id": "IsUXIuZ3oJZh",
    "colab_type": "code",
    "colab": {}
   },
   "outputs": [],
   "source": [
    "# turn list of lists into one\n",
    "flatten = lambda l: [item for sublist in l for item in sublist]"
   ]
  },
  {
   "cell_type": "markdown",
   "metadata": {
    "id": "8sZYY8vPn9Tm",
    "colab_type": "text"
   },
   "source": [
    "## A bit of tests & thoughts\n",
    "In this section some tests are performed in order to make sure that everything works as it should. Also - some descriptions of why something is done the way it is done."
   ]
  },
  {
   "cell_type": "markdown",
   "metadata": {
    "id": "9Xt5kTpGPeJD",
    "colab_type": "text"
   },
   "source": [
    "#### title & closed at\n",
    "\n",
    "- commas may ruin the structure --> need to delete them\n",
    "- need to split the 'closed at' into who did it and when *(here separated by ; , later will be splitted)*\n",
    "\n",
    "```\n",
    ".replace('\\\\n', ' ').replace(',', '')\n",
    "```\n",
    "\n"
   ]
  },
  {
   "cell_type": "code",
   "execution_count": 0,
   "metadata": {
    "id": "3CCPG1mIQ1_G",
    "colab_type": "code",
    "colab": {}
   },
   "outputs": [],
   "source": [
    "r_test = requests.get('https://github.com/tensorflow/models/issues/1')\n",
    "soup_test = BeautifulSoup(r_test.text,  'lxml')"
   ]
  },
  {
   "cell_type": "code",
   "execution_count": 0,
   "metadata": {
    "id": "-0s3xvMI3jvb",
    "colab_type": "code",
    "outputId": "e0d90b70-2294-4ade-c6ae-fc72108f7388",
    "colab": {
     "base_uri": "https://localhost:8080/",
     "height": 35.0
    }
   },
   "outputs": [
    {
     "data": {
      "text/plain": [
       "'initial commit simple separated models'"
      ]
     },
     "execution_count": 36,
     "metadata": {
      "tags": []
     },
     "output_type": "execute_result"
    }
   ],
   "source": [
    "soup_test.find(class_='js-issue-title').text.strip().replace(',', '')  # works, comma is deleted"
   ]
  },
  {
   "cell_type": "code",
   "execution_count": 0,
   "metadata": {
    "id": "IIMcyCN-78bU",
    "colab_type": "code",
    "colab": {}
   },
   "outputs": [],
   "source": [
    "r_test_tf = requests.get('https://github.com/tensorflow/models/pull/408')\n",
    "soup_test_tf = BeautifulSoup(r_test_tf.text,  'lxml')"
   ]
  },
  {
   "cell_type": "code",
   "execution_count": 0,
   "metadata": {
    "id": "0y4e_PHxSK4d",
    "colab_type": "code",
    "colab": {}
   },
   "outputs": [],
   "source": [
    "r_tf = requests.get('https://github.com/tensorflow/models/pull/250')\n",
    "soup_tf = BeautifulSoup(r_tf.text, 'lxml')"
   ]
  },
  {
   "cell_type": "code",
   "execution_count": 0,
   "metadata": {
    "id": "7VgIbx4XXWM_",
    "colab_type": "code",
    "outputId": "b3d829e3-3c60-4421-8e1c-c685b2b4199b",
    "colab": {
     "base_uri": "https://localhost:8080/",
     "height": 35.0
    }
   },
   "outputs": [
    {
     "data": {
      "text/plain": [
       "'Python 3 support for download_and_convert_data.py and add CIFAR100'"
      ]
     },
     "execution_count": 51,
     "metadata": {
      "tags": []
     },
     "output_type": "execute_result"
    }
   ],
   "source": [
    "soup_test_tf.find(class_='js-issue-title').text.strip().replace(',', '')"
   ]
  },
  {
   "cell_type": "markdown",
   "metadata": {
    "id": "rLQupff5AEt_",
    "colab_type": "text"
   },
   "source": [
    "#### Assignees & Reviewers\n",
    "Issues have \"Assignees\", PRs - \"Reviewers\".  The code section also contains some irrelevant information (like *\"At least 1 approving review is required to merge this pull request.\"*) which we also need to remove.  "
   ]
  },
  {
   "cell_type": "code",
   "execution_count": 0,
   "metadata": {
    "id": "_zpXXK54Rb5-",
    "colab_type": "code",
    "outputId": "5bc1b16f-5600-4012-e090-ad175ebd0316",
    "colab": {
     "base_uri": "https://localhost:8080/",
     "height": 35.0
    }
   },
   "outputs": [
    {
     "data": {
      "text/plain": [
       "'actuallyykatie'"
      ]
     },
     "execution_count": 29,
     "metadata": {
      "tags": []
     },
     "output_type": "execute_result"
    }
   ],
   "source": [
    "soup_test.find(class_='js-issue-sidebar-form').text.replace('\\n', '').strip().replace('Assignees   ', '')"
   ]
  },
  {
   "cell_type": "code",
   "execution_count": 0,
   "metadata": {
    "id": "lYM-JkQds99j",
    "colab_type": "code",
    "outputId": "1cf62e9a-d962-4954-ad6d-ea209aa6e69f",
    "colab": {
     "base_uri": "https://localhost:8080/",
     "height": 35.0
    }
   },
   "outputs": [
    {
     "data": {
      "text/plain": [
       "'Reviewers   calberti      At least 1 approving review is required to merge this pull request.'"
      ]
     },
     "execution_count": 28,
     "metadata": {
      "tags": []
     },
     "output_type": "execute_result"
    }
   ],
   "source": [
    "soup_tf.find(class_='js-issue-sidebar-form').text.replace('\\n', '').strip()"
   ]
  },
  {
   "cell_type": "code",
   "execution_count": 0,
   "metadata": {
    "id": "7RLyosNw-Usc",
    "colab_type": "code",
    "outputId": "566d00c3-6da7-404f-dd5c-4eeef46b8655",
    "colab": {
     "base_uri": "https://localhost:8080/",
     "height": 35.0
    }
   },
   "outputs": [
    {
     "data": {
      "text/plain": [
       "['Reviewers', 'tremblerz', 'MarkDaoust', 'sguada']"
      ]
     },
     "execution_count": 146,
     "metadata": {
      "tags": []
     },
     "output_type": "execute_result"
    }
   ],
   "source": [
    "soup_test_tf.find(class_='js-issue-sidebar-form').text.replace('\\n', '').strip().split()"
   ]
  },
  {
   "cell_type": "markdown",
   "metadata": {
    "id": "coT2EyiRx03I",
    "colab_type": "text"
   },
   "source": [
    "**Examples** of how `clead_rev_ass` works:"
   ]
  },
  {
   "cell_type": "code",
   "execution_count": 0,
   "metadata": {
    "id": "cEGpIbDV6-KU",
    "colab_type": "code",
    "outputId": "6c4ab36f-579e-446b-ebae-6e2981c37c40",
    "colab": {
     "base_uri": "https://localhost:8080/",
     "height": 71.0
    }
   },
   "outputs": [
    {
     "name": "stdout",
     "output_type": "stream",
     "text": [
      "Multiple reviewers ---> tremblerz; MarkDaoust; sguada\n",
      "Issue with one assignee ---> actuallyykatie\n",
      "Single reviewer ---> calberti\n"
     ]
    }
   ],
   "source": [
    "# tests\n",
    "print('Multiple reviewers ---> '+ clean_rev_ass(soup_test_tf))\n",
    "print('Issue with one assignee ---> ' + clean_rev_ass(soup_test))\n",
    "print('Single reviewer ---> ' + clean_rev_ass(soup_tf))"
   ]
  },
  {
   "cell_type": "markdown",
   "metadata": {
    "id": "tGWXn3dhTKMb",
    "colab_type": "text"
   },
   "source": [
    "#### labels processing \n",
    "Чтобы лейблы не сломались, нужно сначала разбить их по \\n, потом склеить обратно через ;. Запятая не очень, потому что может в дальнейшем поломать csv :c\n",
    "In order not to break labels structure as some of them contain spaces, we first need to split it by \\n, then merge by ; *(not comma because we use , as separator while converting it back to csv df)*"
   ]
  },
  {
   "cell_type": "code",
   "execution_count": 0,
   "metadata": {
    "id": "REofcSSiSlqe",
    "colab_type": "code",
    "outputId": "3c1b7511-8439-400b-be08-250066514ca8",
    "colab": {
     "base_uri": "https://localhost:8080/",
     "height": 35.0
    }
   },
   "outputs": [
    {
     "data": {
      "text/plain": [
       "'\\n\\n    Labels\\n  \\n\\ncla: yes\\nstat:awaiting owner\\n\\n'"
      ]
     },
     "execution_count": 52,
     "metadata": {
      "tags": []
     },
     "output_type": "execute_result"
    }
   ],
   "source": [
    "soup_tf.find(class_='discussion-sidebar-item sidebar-labels js-discussion-sidebar-item').text"
   ]
  },
  {
   "cell_type": "code",
   "execution_count": 0,
   "metadata": {
    "id": "4xuiAydUUrJK",
    "colab_type": "code",
    "outputId": "7334c61d-e3ac-4daa-a7fd-ec6b1303bfb5",
    "colab": {
     "base_uri": "https://localhost:8080/",
     "height": 35.0
    }
   },
   "outputs": [
    {
     "data": {
      "text/plain": [
       "['Labels', '  ', '', 'cla: yes', 'stat:awaiting owner']"
      ]
     },
     "execution_count": 59,
     "metadata": {
      "tags": []
     },
     "output_type": "execute_result"
    }
   ],
   "source": [
    "soup_tf.find(class_='discussion-sidebar-item sidebar-labels js-discussion-sidebar-item').text.split('\\n')"
   ]
  },
  {
   "cell_type": "markdown",
   "metadata": {
    "id": "S0Ff8ibcVjPN",
    "colab_type": "text"
   },
   "source": [
    "Пустые штуки между ; прям бесят. С ними тоже разберемся.  \n",
    "Вывод: можно удалить первую часть строки, она же не нужна!\n",
    "\n",
    "--> Need to remove the beginning with \"'Labels;   ; ; \""
   ]
  },
  {
   "cell_type": "code",
   "execution_count": 0,
   "metadata": {
    "id": "mLwBmBLSTFIu",
    "colab_type": "code",
    "outputId": "5d6d6c8d-b848-49e3-b602-16dc4fc112d2",
    "colab": {
     "base_uri": "https://localhost:8080/",
     "height": 35.0
    }
   },
   "outputs": [
    {
     "data": {
      "text/plain": [
       "'Labels;   ; ; cla: yes; stat:awaiting owner'"
      ]
     },
     "execution_count": 61,
     "metadata": {
      "tags": []
     },
     "output_type": "execute_result"
    }
   ],
   "source": [
    "'; '.join(soup_tf.find(class_='discussion-sidebar-item sidebar-labels js-discussion-sidebar-item').text.strip().split('\\n'))\n",
    "#'Labels;   ; ; "
   ]
  },
  {
   "cell_type": "code",
   "execution_count": 0,
   "metadata": {
    "id": "lJRhfVdzVh6w",
    "colab_type": "code",
    "outputId": "64baae45-88b2-452c-e08e-afd763f0e4da",
    "colab": {
     "base_uri": "https://localhost:8080/",
     "height": 35.0
    }
   },
   "outputs": [
    {
     "data": {
      "text/plain": [
       "'Labels;   ; ;     None yet'"
      ]
     },
     "execution_count": 63,
     "metadata": {
      "tags": []
     },
     "output_type": "execute_result"
    }
   ],
   "source": [
    "'; '.join(soup_test.find(class_='discussion-sidebar-item sidebar-labels js-discussion-sidebar-item').text.strip().split('\\n'))"
   ]
  },
  {
   "cell_type": "markdown",
   "metadata": {
    "id": "ihz2Oh2EzuqW",
    "colab_type": "text"
   },
   "source": [
    "And that's how it is done:"
   ]
  },
  {
   "cell_type": "code",
   "execution_count": 0,
   "metadata": {
    "id": "m-0iLRFWV01d",
    "colab_type": "code",
    "outputId": "ec41d5a8-64e8-44c6-f521-a84e75d83b9b",
    "colab": {
     "base_uri": "https://localhost:8080/",
     "height": 35.0
    }
   },
   "outputs": [
    {
     "data": {
      "text/plain": [
       "'None yet'"
      ]
     },
     "execution_count": 67,
     "metadata": {
      "tags": []
     },
     "output_type": "execute_result"
    }
   ],
   "source": [
    "# хоба!\n",
    "'; '.join(soup_test.find(class_='discussion-sidebar-item sidebar-labels js-discussion-sidebar-item').text.strip('\\n\\n    Labels\\n  \\n\\n').split('\\n'))"
   ]
  },
  {
   "cell_type": "markdown",
   "metadata": {
    "id": "aMnmNeE0o2dZ",
    "colab_type": "text"
   },
   "source": [
    "#### closed at\n",
    "Для closed at:\n",
    "- сначала разбить по \\n, получается список с одним элементом\n",
    "- взять этот список и очистить от \\n и лишних пробелов в начале/конце\n",
    "\n",
    "\n",
    "This function is used to clean and extract data about who and when closed the issue. \n",
    "- split into 3 elements is NOT used in final version as some issues are still open --> now output is splitted by ;"
   ]
  },
  {
   "cell_type": "code",
   "execution_count": 0,
   "metadata": {
    "id": "Sct7npC6BKcw",
    "colab_type": "code",
    "outputId": "47e9d19d-8c60-40f4-d6ae-57a7ac0b4841",
    "colab": {
     "base_uri": "https://localhost:8080/",
     "height": 35.0
    }
   },
   "outputs": [
    {
     "data": {
      "text/plain": [
       "'actuallyykatie'"
      ]
     },
     "execution_count": 164,
     "metadata": {
      "tags": []
     },
     "output_type": "execute_result"
    }
   ],
   "source": [
    "who_did, what_did, when_did = clean_closed_at(soup_test_tf)\n",
    "who_did"
   ]
  },
  {
   "cell_type": "code",
   "execution_count": 0,
   "metadata": {
    "id": "Gdjk48YUA2K_",
    "colab_type": "code",
    "outputId": "827e4dc9-c356-4b18-e0a4-ead77b819368",
    "colab": {
     "base_uri": "https://localhost:8080/",
     "height": 71.0
    }
   },
   "outputs": [
    {
     "name": "stdout",
     "output_type": "stream",
     "text": [
      "Multiple reviewers ---> ('actuallyykatie', 'closed this', 'Nov 22, 2018')\n",
      "Issue with one assignee ---> ('actuallyykatie', 'closed this', 'Nov 22, 2018')\n",
      "Single reviewer ---> ('actuallyykatie', 'closed this', 'Nov 22, 2018')\n"
     ]
    }
   ],
   "source": [
    "# tests\n",
    "print('Multiple reviewers ---> '+ str(clean_closed_at(soup_test_tf)))\n",
    "print('Issue with one assignee ---> ' + str(clean_closed_at(soup_test)))\n",
    "print('Single reviewer ---> ' + str(clean_closed_at(soup_tf)))"
   ]
  },
  {
   "cell_type": "code",
   "execution_count": 0,
   "metadata": {
    "id": "l-IKAwcTMwGo",
    "colab_type": "code",
    "outputId": "e118ff10-5670-4427-d70d-5e525a173e55",
    "colab": {
     "base_uri": "https://localhost:8080/",
     "height": 35.0
    }
   },
   "outputs": [
    {
     "data": {
      "text/plain": [
       "'22/11/2018'"
      ]
     },
     "execution_count": 182,
     "metadata": {
      "tags": []
     },
     "output_type": "execute_result"
    }
   ],
   "source": [
    "datetime.strptime('Nov 22, 2018', '%b %d, %Y').strftime('%d/%m/%Y')"
   ]
  },
  {
   "cell_type": "markdown",
   "metadata": {
    "id": "TF1dWoMgx9VS",
    "colab_type": "text"
   },
   "source": [
    "**Updated example **of `clean_closed_at()`:"
   ]
  },
  {
   "cell_type": "code",
   "execution_count": 0,
   "metadata": {
    "id": "ZYfR5XG93PF1",
    "colab_type": "code",
    "outputId": "72f8442c-ea7e-4bf9-f9ce-bf3a68838607",
    "colab": {
     "base_uri": "https://localhost:8080/",
     "height": 34.0
    }
   },
   "outputs": [
    {
     "data": {
      "text/plain": [
       "'actuallyykatie; closed this; Nov 22 2018'"
      ]
     },
     "execution_count": 45,
     "metadata": {
      "tags": []
     },
     "output_type": "execute_result"
    }
   ],
   "source": [
    "clean_closed_at(soup_test)"
   ]
  },
  {
   "cell_type": "markdown",
   "metadata": {
    "id": "tmw6MK-mU3ln",
    "colab_type": "text"
   },
   "source": [
    "#### comments processing\n",
    "Processing comments is the most fun (no) part. Here we need to remove \\n, commas and some other irrelevant stuff"
   ]
  },
  {
   "cell_type": "code",
   "execution_count": 0,
   "metadata": {
    "id": "pKKiIw4LSCo8",
    "colab_type": "code",
    "outputId": "9bd77668-08e7-4ec2-a5a7-760cf89e2ab4",
    "colab": {
     "base_uri": "https://localhost:8080/",
     "height": 35.0
    }
   },
   "outputs": [
    {
     "data": {
      "text/plain": [
       "['Collaborator', 'Collaborator', 'Collaborator', 'Collaborator']"
      ]
     },
     "execution_count": 284,
     "metadata": {
      "tags": []
     },
     "output_type": "execute_result"
    }
   ],
   "source": [
    "#'comment_author' : [x.split('    ')[3] for x in clean_comments(soup_test)],\n",
    "#'comment_date' : [x.split('    ')[6] for x in clean_comments(soup_test)],\n",
    "#'comment_text' : [x.split('    ')[8] for x in clean_comments(soup_test)],  "
   ]
  },
  {
   "cell_type": "markdown",
   "metadata": {
    "id": "fE0mtfJS0y9g",
    "colab_type": "text"
   },
   "source": [
    "It's clear that comments section contains information about the status of the user - it may be collaborator, author of the issue, contributor, member or maybe smth else."
   ]
  },
  {
   "cell_type": "code",
   "execution_count": 0,
   "metadata": {
    "id": "q_sDK_EHb57O",
    "colab_type": "code",
    "outputId": "284a7299-d953-4d81-ba7e-b473e1589658",
    "colab": {
     "base_uri": "https://localhost:8080/",
     "height": 109.0
    }
   },
   "outputs": [
    {
     "data": {
      "text/plain": [
       "['Collaborator    actuallyykatie   commented    Nov 18 2018     Сделать стартовую страницу',\n",
       " 'Collaborator   Author  actuallyykatie   commented    Nov 22 2018     Осталось:  доделать блок с жанрами добавить пару кнопок подправить обложки  Непонятно как:  пофиксить левое меню чтобы оно не двигалось',\n",
       " 'Collaborator   Author  actuallyykatie   commented    Nov 22 2018     Сделано:  обновлен блок с жанрами обновлены данные (авторы названия обложки) плейлистов и треков теперь всё на своих местах  Надо бы потом доработать:  обрезка изображений раздел с жанрами тень кнопки',\n",
       " 'Collaborator   Author  actuallyykatie   commented    Nov 22 2018    уменьшить размер верхнего бара и поиска']"
      ]
     },
     "execution_count": 31,
     "metadata": {
      "tags": []
     },
     "output_type": "execute_result"
    }
   ],
   "source": [
    "clean_comments(soup_test)  # old"
   ]
  },
  {
   "cell_type": "code",
   "execution_count": 0,
   "metadata": {
    "id": "u46d2obhdHPp",
    "colab_type": "code",
    "outputId": "c090724b-cda3-4436-fd91-339592c19f57",
    "colab": {
     "base_uri": "https://localhost:8080/",
     "height": 487.0
    }
   },
   "outputs": [
    {
     "data": {
      "text/plain": [
       "['ageron   commented    Sep 12 2016     This PR makes it possible to use the download_and_convert_data.py script with python 3.  It also adds support for CIFAR100. Regarding python 3 the problems were essentially:  import cPickle => from six.moves import cPickle cPickle.load(f) => cPickle.load(f encoding=\"bytes\") use strings instead of byte strings in several places  Regarding CIFAR100 it\\'s basically the same format as CIFAR10 so why not add it?',\n",
       " \"googlebot   commented    Sep 12 2016     Thanks for your pull request.  It looks like this may be your first contribution to a Google open source project. Before we can look at your pull request you'll need to sign a Contributor License Agreement (CLA). 📝 Please visit https://cla.developers.google.com/ to sign. Once you've signed please reply here (e.g. I signed it!) and we'll verify.  Thanks. If you've already signed a CLA it's possible we don't have your GitHub username or you're using a different email address.  Check your existing CLA data and verify that your email is set on your git commits. If you signed the CLA as a corporation please let us know the company's name.\",\n",
       " 'Author  ageron   commented    Sep 12 2016     I signed it!',\n",
       " 'googlebot   commented    Sep 12 2016     CLAs look good thanks!',\n",
       " 'Author  ageron   commented    Sep 12 2016     FYI I tested the download_and_convert_data.py script for mnist flowers cifar10 and cifar100 using both python 2.7.11 and python 3.5.1.  Worked fine.  :)',\n",
       " 'Member    sguada   commented    Sep 15 2016     Thanks for your PR will review it shortly.',\n",
       " 'Member    sguada   commented    Sep 15 2016     @nathansilberman',\n",
       " 'Author  ageron   commented    Oct 5 2016     Is there something I need to change in this PR?',\n",
       " 'Contributor    vonclites   commented    Oct 11 2016  •       edited          Trying to train cifarnet using the train_cifarnet_on_cifar10.sh script. Using ageron\\'s fork I\\'m getting error on line 132 of dataset_utils.py: lines = lines.split(\\'\\\\n\\') TypeError: a bytes-like object is required not \\'str\\'  After fixing that error with a hacky patch I get: File \"eval_image_classifier.py\" line 104 in main   num_classes=(dataset.num_classes - FLAGS.labels_offset) AttributeError: \\'Dataset\\' object has no attribute \\'num_classes\\'  Edit: Looks like first error is related to this issue: #503',\n",
       " 'Author  ageron   commented    Oct 12 2016     Hi @vonclites  I\\'m not sure the bug you mention is related to this PR. Could you please provide more details on which version of python and tensorflow you are using the command line you ran its output and so on? I\\'d like to reproduce this issue. Thanks. $ python -V $ python -c \"import tensorflow as tf; print(tf.version)\" ...',\n",
       " 'Contributor    MarkDaoust   left a comment      I think we need to keep num_classes and labels_to_names.',\n",
       " \"Contributor    MarkDaoust   commented    Oct 12 2016     The first error @vonclites hit is fixed in that link added by his edit: In py3 the Gfile returns bytes they just need to be decoded. So it's just a simple py3 compatibility question.     👍     1\",\n",
       " \"Author  ageron   commented    Oct 12 2016     Thanks @MarkDaoust you're absolutely right I should not have removed them I added them back. @vonclites can you try again?     👍     1\",\n",
       " 'Contributor    vonclites   commented    Oct 12 2016  •       edited          I\\'m using Python 3.5.2 and tf 0.11.0rc0. That fixed helped (in combination with the lines.decode() fix)... but it has unveiled a new python 3 compatibility issue. I ran train_cifarnet_on_cifar10.sh and hit an error with eval_image_classifier.py: File \"eval_image_classifier.py\" line 161 in main for name value in names_to_values.iteritems(): AttributeError: \\'dict\\' object has no attribute \\'iteritems\\'  Here are some possible fixes: http://legacy.python.org/dev/peps/pep-0469/#migrating-to-the-common-subset-of-python-2-and-3 http://legacy.python.org/dev/peps/pep-0469/#migrating-from-python-3-to-the-common-subset-with-python-2-7 Edit: That new issue is probably outside the scope of this issue as downloading and dataset creation is successful with cifar10.  Thanks @ageron and @MarkDaoust !',\n",
       " 'Author  ageron   commented    Oct 24 2016     Hi @sguada is there any chance this change can be pulled? Anything else I need to do? Thanks.',\n",
       " 'Contributor    vonclites   commented    Nov 18 2016     Works for me using Python 2.7 and 3.5.2 with CUDA 7.5 and Tensorflow 0.11.0rc0',\n",
       " 'jucor   commented    Mar 19 2017     Friendly ping  on this as I have the same problem as OP with python3. Thanks @sguada  :)',\n",
       " 'jucor   commented    Mar 19 2017     I have solved the conflicts by rebasing https://github.com/ageron/tensorflow-models onto tensorflow/models current master. That rebase can be accessed in two ways:  A PR in ageron#1 Or I can open a new PR here based  on https://github.com/jucor/models/tree/py3_flowers whichever you prefer.  I have also signed and submitted the CLA.',\n",
       " 'waynew30777   commented    Jun 4 2017     didnt Works for me using Python3 and Tensorflow 1. download_and_convert_cifar10.py\" line 29 in  import cPickle ImportError: No module named \\'cPickle\\' I thought it has been merged ?',\n",
       " 'Member    yifeif   commented    Feb 7 2018     @ageron are we still working on this PR? Could you resolve the conflicts? Thanks!',\n",
       " 'Collaborator    tensorflow-jenkins   commented    Feb 7 2018     Can one of the admins verify this patch?',\n",
       " \"Member    karmel   commented    Feb 24 2018     This PR is quite old and hasn't had recent activity. Automatically closing; please re-open if still relevant after updating. Thank you.\",\n",
       " 'tremblerz   commented    Feb 27 2018     Would like to see this utility added.',\n",
       " 'Contributor    MarkDaoust   commented    Feb 27 2018     This is available from the tensorflow installation in the keras datasets: train test = tf.keras.datasets.cifar100.load_data()',\n",
       " 'tremblerz   commented    Feb 27 2018     Is it more of a design decision by the tensorflow team to keep CIFAR-100 out of the datasets utilities?']"
      ]
     },
     "execution_count": 32,
     "metadata": {
      "tags": []
     },
     "output_type": "execute_result"
    }
   ],
   "source": [
    "clean_comments(soup_test_tf) # old"
   ]
  },
  {
   "cell_type": "code",
   "execution_count": 0,
   "metadata": {
    "id": "TTnhGagCaCJu",
    "colab_type": "code",
    "outputId": "ea20c092-1a40-4970-e741-406566cd373f",
    "colab": {
     "base_uri": "https://localhost:8080/",
     "height": 173.0
    }
   },
   "outputs": [
    {
     "data": {
      "text/html": [
       "<div>\n",
       "<style scoped>\n",
       "    .dataframe tbody tr th:only-of-type {\n",
       "        vertical-align: middle;\n",
       "    }\n",
       "\n",
       "    .dataframe tbody tr th {\n",
       "        vertical-align: top;\n",
       "    }\n",
       "\n",
       "    .dataframe thead th {\n",
       "        text-align: right;\n",
       "    }\n",
       "</style>\n",
       "<table border=\"1\" class=\"dataframe\">\n",
       "  <thead>\n",
       "    <tr style=\"text-align: right;\">\n",
       "      <th></th>\n",
       "      <th>issue_title</th>\n",
       "      <th>comment_number</th>\n",
       "      <th>comments</th>\n",
       "      <th>reactions</th>\n",
       "    </tr>\n",
       "  </thead>\n",
       "  <tbody>\n",
       "    <tr>\n",
       "      <th>0</th>\n",
       "      <td>1st page design</td>\n",
       "      <td>1</td>\n",
       "      <td>Collaborator    actuallyykatie   commented    ...</td>\n",
       "      <td>[\n",
       "]</td>\n",
       "    </tr>\n",
       "    <tr>\n",
       "      <th>1</th>\n",
       "      <td>1st page design</td>\n",
       "      <td>2</td>\n",
       "      <td>Collaborator   Author  actuallyykatie   commen...</td>\n",
       "      <td>[\n",
       "]</td>\n",
       "    </tr>\n",
       "    <tr>\n",
       "      <th>2</th>\n",
       "      <td>1st page design</td>\n",
       "      <td>3</td>\n",
       "      <td>Collaborator   Author  actuallyykatie   commen...</td>\n",
       "      <td>[\n",
       "]</td>\n",
       "    </tr>\n",
       "    <tr>\n",
       "      <th>3</th>\n",
       "      <td>1st page design</td>\n",
       "      <td>4</td>\n",
       "      <td>Collaborator   Author  actuallyykatie   commen...</td>\n",
       "      <td>[\n",
       "]</td>\n",
       "    </tr>\n",
       "  </tbody>\n",
       "</table>\n",
       "</div>"
      ],
      "text/plain": [
       "       issue_title  comment_number  \\\n",
       "0  1st page design               1   \n",
       "1  1st page design               2   \n",
       "2  1st page design               3   \n",
       "3  1st page design               4   \n",
       "\n",
       "                                            comments reactions  \n",
       "0  Collaborator    actuallyykatie   commented    ...       [\n",
       "]  \n",
       "1  Collaborator   Author  actuallyykatie   commen...       [\n",
       "]  \n",
       "2  Collaborator   Author  actuallyykatie   commen...       [\n",
       "]  \n",
       "3  Collaborator   Author  actuallyykatie   commen...       [\n",
       "]  "
      ]
     },
     "execution_count": 33,
     "metadata": {
      "tags": []
     },
     "output_type": "execute_result"
    }
   ],
   "source": [
    "get_comments_df(soup_test)"
   ]
  },
  {
   "cell_type": "markdown",
   "metadata": {
    "id": "9Xw6PQtFU3pP",
    "colab_type": "text"
   },
   "source": [
    "----"
   ]
  },
  {
   "cell_type": "markdown",
   "metadata": {
    "id": "UrHoNU70oV17",
    "colab_type": "text"
   },
   "source": [
    "### examples"
   ]
  },
  {
   "cell_type": "code",
   "execution_count": 0,
   "metadata": {
    "id": "QHaANEmAoYB5",
    "colab_type": "code",
    "outputId": "ddd756fe-a201-4faf-abf8-c6bd559b8288",
    "colab": {
     "base_uri": "https://localhost:8080/",
     "height": 109.0
    }
   },
   "outputs": [
    {
     "data": {
      "text/plain": [
       "[\"['Kislyonkova', 'PSA-group-project', '1st page design', '1', 'Closed', 'actuallyykatie', 'None yet', '18/11/2018', 'actuallyykatie', 'closed this', '22/11/2018', '1 participant', 1, 'Collaborator    actuallyykatie   commented    Nov 18 2018     Сделать стартовую страницу', ['\\\\n']]\",\n",
       " \"['Kislyonkova', 'PSA-group-project', '1st page design', '1', 'Closed', 'actuallyykatie', 'None yet', '18/11/2018', 'actuallyykatie', 'closed this', '22/11/2018', '1 participant', 2, 'Collaborator   Author  actuallyykatie   commented    Nov 22 2018     Осталось:  доделать блок с жанрами добавить пару кнопок подправить обложки  Непонятно как:  пофиксить левое меню чтобы оно не двигалось', ['\\\\n']]\",\n",
       " \"['Kislyonkova', 'PSA-group-project', '1st page design', '1', 'Closed', 'actuallyykatie', 'None yet', '18/11/2018', 'actuallyykatie', 'closed this', '22/11/2018', '1 participant', 3, 'Collaborator   Author  actuallyykatie   commented    Nov 22 2018     Сделано:  обновлен блок с жанрами обновлены данные (авторы названия обложки) плейлистов и треков теперь всё на своих местах  Надо бы потом доработать:  обрезка изображений раздел с жанрами тень кнопки', ['\\\\n']]\",\n",
       " \"['Kislyonkova', 'PSA-group-project', '1st page design', '1', 'Closed', 'actuallyykatie', 'None yet', '18/11/2018', 'actuallyykatie', 'closed this', '22/11/2018', '1 participant', 4, 'Collaborator   Author  actuallyykatie   commented    Nov 22 2018    уменьшить размер верхнего бара и поиска', ['\\\\n']]\"]"
      ]
     },
     "execution_count": 35,
     "metadata": {
      "tags": []
     },
     "output_type": "execute_result"
    }
   ],
   "source": [
    "parse_issue('https://github.com/Kislyonkova/PSA-group-project/issues/1')"
   ]
  },
  {
   "cell_type": "code",
   "execution_count": 0,
   "metadata": {
    "colab_type": "code",
    "id": "DMVkE_7dATc_",
    "colab": {}
   },
   "outputs": [],
   "source": [
    "# Pool tells how many at a time\n",
    "with Pool(10) as p:\n",
    "  # pass parser function and urls to parse\n",
    "  records = p.map(parse_issue, ['https://github.com/Kislyonkova/PSA-group-project/issues/1',\n",
    " 'https://github.com/Kislyonkova/PSA-group-project/issues/2'])"
   ]
  },
  {
   "cell_type": "markdown",
   "metadata": {
    "id": "W6gXrHx-ty8G",
    "colab_type": "text"
   },
   "source": [
    "Still needs a bit of cleaning but it's better than nothing c:"
   ]
  },
  {
   "cell_type": "code",
   "execution_count": 0,
   "metadata": {
    "id": "fTDFK8SQAc43",
    "colab_type": "code",
    "outputId": "846df5c5-6033-498a-b418-ee40eafa95a8",
    "colab": {
     "base_uri": "https://localhost:8080/",
     "height": 425.0
    }
   },
   "outputs": [
    {
     "data": {
      "text/html": [
       "<div>\n",
       "<style scoped>\n",
       "    .dataframe tbody tr th:only-of-type {\n",
       "        vertical-align: middle;\n",
       "    }\n",
       "\n",
       "    .dataframe tbody tr th {\n",
       "        vertical-align: top;\n",
       "    }\n",
       "\n",
       "    .dataframe thead th {\n",
       "        text-align: right;\n",
       "    }\n",
       "</style>\n",
       "<table border=\"1\" class=\"dataframe\">\n",
       "  <thead>\n",
       "    <tr style=\"text-align: right;\">\n",
       "      <th></th>\n",
       "      <th>0</th>\n",
       "      <th>1</th>\n",
       "      <th>2</th>\n",
       "      <th>3</th>\n",
       "      <th>4</th>\n",
       "      <th>5</th>\n",
       "      <th>6</th>\n",
       "      <th>7</th>\n",
       "      <th>8</th>\n",
       "      <th>9</th>\n",
       "      <th>10</th>\n",
       "      <th>11</th>\n",
       "      <th>12</th>\n",
       "    </tr>\n",
       "  </thead>\n",
       "  <tbody>\n",
       "    <tr>\n",
       "      <th>0</th>\n",
       "      <td>['Kislyonkova'</td>\n",
       "      <td>'PSA-group-project'</td>\n",
       "      <td>'1st page design'</td>\n",
       "      <td>'1'</td>\n",
       "      <td>'Closed'</td>\n",
       "      <td>'actuallyykatie'</td>\n",
       "      <td>'None yet'</td>\n",
       "      <td>'18/11/2018'</td>\n",
       "      <td>'actuallyykatie'</td>\n",
       "      <td>'closed this'</td>\n",
       "      <td>'22/11/2018'</td>\n",
       "      <td>'1 participant'</td>\n",
       "      <td>1, 'Collaborator    actuallyykatie   commented...</td>\n",
       "    </tr>\n",
       "    <tr>\n",
       "      <th>1</th>\n",
       "      <td>['Kislyonkova'</td>\n",
       "      <td>'PSA-group-project'</td>\n",
       "      <td>'1st page design'</td>\n",
       "      <td>'1'</td>\n",
       "      <td>'Closed'</td>\n",
       "      <td>'actuallyykatie'</td>\n",
       "      <td>'None yet'</td>\n",
       "      <td>'18/11/2018'</td>\n",
       "      <td>'actuallyykatie'</td>\n",
       "      <td>'closed this'</td>\n",
       "      <td>'22/11/2018'</td>\n",
       "      <td>'1 participant'</td>\n",
       "      <td>2, 'Collaborator   Author  actuallyykatie   co...</td>\n",
       "    </tr>\n",
       "    <tr>\n",
       "      <th>2</th>\n",
       "      <td>['Kislyonkova'</td>\n",
       "      <td>'PSA-group-project'</td>\n",
       "      <td>'1st page design'</td>\n",
       "      <td>'1'</td>\n",
       "      <td>'Closed'</td>\n",
       "      <td>'actuallyykatie'</td>\n",
       "      <td>'None yet'</td>\n",
       "      <td>'18/11/2018'</td>\n",
       "      <td>'actuallyykatie'</td>\n",
       "      <td>'closed this'</td>\n",
       "      <td>'22/11/2018'</td>\n",
       "      <td>'1 participant'</td>\n",
       "      <td>3, 'Collaborator   Author  actuallyykatie   co...</td>\n",
       "    </tr>\n",
       "    <tr>\n",
       "      <th>3</th>\n",
       "      <td>['Kislyonkova'</td>\n",
       "      <td>'PSA-group-project'</td>\n",
       "      <td>'1st page design'</td>\n",
       "      <td>'1'</td>\n",
       "      <td>'Closed'</td>\n",
       "      <td>'actuallyykatie'</td>\n",
       "      <td>'None yet'</td>\n",
       "      <td>'18/11/2018'</td>\n",
       "      <td>'actuallyykatie'</td>\n",
       "      <td>'closed this'</td>\n",
       "      <td>'22/11/2018'</td>\n",
       "      <td>'1 participant'</td>\n",
       "      <td>4, 'Collaborator   Author  actuallyykatie   co...</td>\n",
       "    </tr>\n",
       "    <tr>\n",
       "      <th>4</th>\n",
       "      <td>['Kislyonkova'</td>\n",
       "      <td>'PSA-group-project'</td>\n",
       "      <td>'wiki page'</td>\n",
       "      <td>'2'</td>\n",
       "      <td>'Closed'</td>\n",
       "      <td>'Kislyonkova'</td>\n",
       "      <td>'None yet'</td>\n",
       "      <td>'18/11/2018'</td>\n",
       "      <td>'actuallyykatie'</td>\n",
       "      <td>'closed this'</td>\n",
       "      <td>'22/11/2018'</td>\n",
       "      <td>'2 participants'</td>\n",
       "      <td>1, 'Collaborator    actuallyykatie   commented...</td>\n",
       "    </tr>\n",
       "  </tbody>\n",
       "</table>\n",
       "</div>"
      ],
      "text/plain": [
       "               0                    1                  2    3         4   \\\n",
       "0  ['Kislyonkova'  'PSA-group-project'  '1st page design'  '1'  'Closed'   \n",
       "1  ['Kislyonkova'  'PSA-group-project'  '1st page design'  '1'  'Closed'   \n",
       "2  ['Kislyonkova'  'PSA-group-project'  '1st page design'  '1'  'Closed'   \n",
       "3  ['Kislyonkova'  'PSA-group-project'  '1st page design'  '1'  'Closed'   \n",
       "4  ['Kislyonkova'  'PSA-group-project'        'wiki page'  '2'  'Closed'   \n",
       "\n",
       "                 5           6             7                 8   \\\n",
       "0  'actuallyykatie'  'None yet'  '18/11/2018'  'actuallyykatie'   \n",
       "1  'actuallyykatie'  'None yet'  '18/11/2018'  'actuallyykatie'   \n",
       "2  'actuallyykatie'  'None yet'  '18/11/2018'  'actuallyykatie'   \n",
       "3  'actuallyykatie'  'None yet'  '18/11/2018'  'actuallyykatie'   \n",
       "4     'Kislyonkova'  'None yet'  '18/11/2018'  'actuallyykatie'   \n",
       "\n",
       "              9             10                11  \\\n",
       "0  'closed this'  '22/11/2018'   '1 participant'   \n",
       "1  'closed this'  '22/11/2018'   '1 participant'   \n",
       "2  'closed this'  '22/11/2018'   '1 participant'   \n",
       "3  'closed this'  '22/11/2018'   '1 participant'   \n",
       "4  'closed this'  '22/11/2018'  '2 participants'   \n",
       "\n",
       "                                                  12  \n",
       "0  1, 'Collaborator    actuallyykatie   commented...  \n",
       "1  2, 'Collaborator   Author  actuallyykatie   co...  \n",
       "2  3, 'Collaborator   Author  actuallyykatie   co...  \n",
       "3  4, 'Collaborator   Author  actuallyykatie   co...  \n",
       "4  1, 'Collaborator    actuallyykatie   commented...  "
      ]
     },
     "execution_count": 37,
     "metadata": {
      "tags": []
     },
     "output_type": "execute_result"
    }
   ],
   "source": [
    "pd.DataFrame(flatten(records), columns=['everything']).everything.str.split(expand=True, pat=', ', n = 14)"
   ]
  },
  {
   "cell_type": "code",
   "execution_count": 0,
   "metadata": {
    "id": "Dx8B5Ffot7RJ",
    "colab_type": "code",
    "colab": {}
   },
   "outputs": [],
   "source": [
    "with Pool(10) as p:\n",
    "  # pass parser function and urls to parse\n",
    "  records = p.map(parse_issue, get_issue_links('Kislyonkova/PSA-group-project'))"
   ]
  },
  {
   "cell_type": "code",
   "execution_count": 0,
   "metadata": {
    "id": "s12xIoqrulLl",
    "colab_type": "code",
    "outputId": "ae895009-6537-4102-920c-ec1fc867acef",
    "colab": {
     "base_uri": "https://localhost:8080/",
     "height": 1791.0
    }
   },
   "outputs": [
    {
     "data": {
      "text/html": [
       "<div>\n",
       "<style scoped>\n",
       "    .dataframe tbody tr th:only-of-type {\n",
       "        vertical-align: middle;\n",
       "    }\n",
       "\n",
       "    .dataframe tbody tr th {\n",
       "        vertical-align: top;\n",
       "    }\n",
       "\n",
       "    .dataframe thead th {\n",
       "        text-align: right;\n",
       "    }\n",
       "</style>\n",
       "<table border=\"1\" class=\"dataframe\">\n",
       "  <thead>\n",
       "    <tr style=\"text-align: right;\">\n",
       "      <th></th>\n",
       "      <th>0</th>\n",
       "      <th>1</th>\n",
       "      <th>2</th>\n",
       "      <th>3</th>\n",
       "      <th>4</th>\n",
       "      <th>5</th>\n",
       "      <th>6</th>\n",
       "      <th>7</th>\n",
       "      <th>8</th>\n",
       "      <th>9</th>\n",
       "      <th>10</th>\n",
       "      <th>11</th>\n",
       "      <th>12</th>\n",
       "      <th>13</th>\n",
       "      <th>14</th>\n",
       "    </tr>\n",
       "  </thead>\n",
       "  <tbody>\n",
       "    <tr>\n",
       "      <th>0</th>\n",
       "      <td>['Kislyonkova'</td>\n",
       "      <td>'PSA-group-project'</td>\n",
       "      <td>'1st page design'</td>\n",
       "      <td>'1'</td>\n",
       "      <td>'Closed'</td>\n",
       "      <td>'actuallyykatie'</td>\n",
       "      <td>'None yet'</td>\n",
       "      <td>'18/11/2018'</td>\n",
       "      <td>'actuallyykatie'</td>\n",
       "      <td>'closed this'</td>\n",
       "      <td>'22/11/2018'</td>\n",
       "      <td>'1 participant'</td>\n",
       "      <td>1</td>\n",
       "      <td>'Collaborator    actuallyykatie   commented   ...</td>\n",
       "      <td>['\\n']]</td>\n",
       "    </tr>\n",
       "    <tr>\n",
       "      <th>1</th>\n",
       "      <td>['Kislyonkova'</td>\n",
       "      <td>'PSA-group-project'</td>\n",
       "      <td>'1st page design'</td>\n",
       "      <td>'1'</td>\n",
       "      <td>'Closed'</td>\n",
       "      <td>'actuallyykatie'</td>\n",
       "      <td>'None yet'</td>\n",
       "      <td>'18/11/2018'</td>\n",
       "      <td>'actuallyykatie'</td>\n",
       "      <td>'closed this'</td>\n",
       "      <td>'22/11/2018'</td>\n",
       "      <td>'1 participant'</td>\n",
       "      <td>2</td>\n",
       "      <td>'Collaborator   Author  actuallyykatie   comme...</td>\n",
       "      <td>['\\n']]</td>\n",
       "    </tr>\n",
       "    <tr>\n",
       "      <th>2</th>\n",
       "      <td>['Kislyonkova'</td>\n",
       "      <td>'PSA-group-project'</td>\n",
       "      <td>'1st page design'</td>\n",
       "      <td>'1'</td>\n",
       "      <td>'Closed'</td>\n",
       "      <td>'actuallyykatie'</td>\n",
       "      <td>'None yet'</td>\n",
       "      <td>'18/11/2018'</td>\n",
       "      <td>'actuallyykatie'</td>\n",
       "      <td>'closed this'</td>\n",
       "      <td>'22/11/2018'</td>\n",
       "      <td>'1 participant'</td>\n",
       "      <td>3</td>\n",
       "      <td>'Collaborator   Author  actuallyykatie   comme...</td>\n",
       "      <td>['\\n']]</td>\n",
       "    </tr>\n",
       "    <tr>\n",
       "      <th>3</th>\n",
       "      <td>['Kislyonkova'</td>\n",
       "      <td>'PSA-group-project'</td>\n",
       "      <td>'1st page design'</td>\n",
       "      <td>'1'</td>\n",
       "      <td>'Closed'</td>\n",
       "      <td>'actuallyykatie'</td>\n",
       "      <td>'None yet'</td>\n",
       "      <td>'18/11/2018'</td>\n",
       "      <td>'actuallyykatie'</td>\n",
       "      <td>'closed this'</td>\n",
       "      <td>'22/11/2018'</td>\n",
       "      <td>'1 participant'</td>\n",
       "      <td>4</td>\n",
       "      <td>'Collaborator   Author  actuallyykatie   comme...</td>\n",
       "      <td>['\\n']]</td>\n",
       "    </tr>\n",
       "    <tr>\n",
       "      <th>4</th>\n",
       "      <td>['Kislyonkova'</td>\n",
       "      <td>'PSA-group-project'</td>\n",
       "      <td>'wiki page'</td>\n",
       "      <td>'2'</td>\n",
       "      <td>'Closed'</td>\n",
       "      <td>'Kislyonkova'</td>\n",
       "      <td>'None yet'</td>\n",
       "      <td>'18/11/2018'</td>\n",
       "      <td>'actuallyykatie'</td>\n",
       "      <td>'closed this'</td>\n",
       "      <td>'22/11/2018'</td>\n",
       "      <td>'2 participants'</td>\n",
       "      <td>1</td>\n",
       "      <td>'Collaborator    actuallyykatie   commented   ...</td>\n",
       "      <td>['\\n']]</td>\n",
       "    </tr>\n",
       "    <tr>\n",
       "      <th>5</th>\n",
       "      <td>['Kislyonkova'</td>\n",
       "      <td>'PSA-group-project'</td>\n",
       "      <td>'database'</td>\n",
       "      <td>'3'</td>\n",
       "      <td>'Closed'</td>\n",
       "      <td>'aemulus-b'</td>\n",
       "      <td>'None yet'</td>\n",
       "      <td>'18/11/2018'</td>\n",
       "      <td>'actuallyykatie'</td>\n",
       "      <td>'closed this'</td>\n",
       "      <td>'22/11/2018'</td>\n",
       "      <td>'2 participants'</td>\n",
       "      <td>1</td>\n",
       "      <td>'Collaborator    actuallyykatie   commented   ...</td>\n",
       "      <td>['\\n']]</td>\n",
       "    </tr>\n",
       "    <tr>\n",
       "      <th>6</th>\n",
       "      <td>['Kislyonkova'</td>\n",
       "      <td>'PSA-group-project'</td>\n",
       "      <td>\"Description of application's items\"</td>\n",
       "      <td>'4'</td>\n",
       "      <td>'Closed'</td>\n",
       "      <td>'Kislyonkova'</td>\n",
       "      <td>'None yet'</td>\n",
       "      <td>'28/11/2018'</td>\n",
       "      <td>'actuallyykatie'</td>\n",
       "      <td>'closed this'</td>\n",
       "      <td>'22/11/2018'</td>\n",
       "      <td>'1 participant'</td>\n",
       "      <td>1</td>\n",
       "      <td>\"Owner    Kislyonkova   commented    Nov 28 20...</td>\n",
       "      <td>['\\n']]</td>\n",
       "    </tr>\n",
       "    <tr>\n",
       "      <th>7</th>\n",
       "      <td>['Kislyonkova'</td>\n",
       "      <td>'PSA-group-project'</td>\n",
       "      <td>'Fix users database'</td>\n",
       "      <td>'5'</td>\n",
       "      <td>'Closed'</td>\n",
       "      <td>'aemulus-b'</td>\n",
       "      <td>'None yet'</td>\n",
       "      <td>'11/12/2018'</td>\n",
       "      <td>'actuallyykatie'</td>\n",
       "      <td>'closed this'</td>\n",
       "      <td>'22/11/2018'</td>\n",
       "      <td>'3 participants'</td>\n",
       "      <td>1</td>\n",
       "      <td>'Collaborator    actuallyykatie   commented   ...</td>\n",
       "      <td>['\\n']]</td>\n",
       "    </tr>\n",
       "    <tr>\n",
       "      <th>8</th>\n",
       "      <td>['Kislyonkova'</td>\n",
       "      <td>'PSA-group-project'</td>\n",
       "      <td>'Fix users database'</td>\n",
       "      <td>'5'</td>\n",
       "      <td>'Closed'</td>\n",
       "      <td>'aemulus-b'</td>\n",
       "      <td>'None yet'</td>\n",
       "      <td>'11/12/2018'</td>\n",
       "      <td>'actuallyykatie'</td>\n",
       "      <td>'closed this'</td>\n",
       "      <td>'22/11/2018'</td>\n",
       "      <td>'3 participants'</td>\n",
       "      <td>2</td>\n",
       "      <td>'Owner    Kislyonkova   commented    Dec 14 20...</td>\n",
       "      <td>'\\n\\n\\n\\n🎉\\n            1\\n          \\n\\n']</td>\n",
       "    </tr>\n",
       "    <tr>\n",
       "      <th>9</th>\n",
       "      <td>['Kislyonkova'</td>\n",
       "      <td>'PSA-group-project'</td>\n",
       "      <td>'Fix users database'</td>\n",
       "      <td>'5'</td>\n",
       "      <td>'Closed'</td>\n",
       "      <td>'aemulus-b'</td>\n",
       "      <td>'None yet'</td>\n",
       "      <td>'11/12/2018'</td>\n",
       "      <td>'actuallyykatie'</td>\n",
       "      <td>'closed this'</td>\n",
       "      <td>'22/11/2018'</td>\n",
       "      <td>'3 participants'</td>\n",
       "      <td>3</td>\n",
       "      <td>'Collaborator   Author  actuallyykatie   comme...</td>\n",
       "      <td>'\\n\\n\\n\\n🎉\\n            1\\n          \\n\\n']</td>\n",
       "    </tr>\n",
       "    <tr>\n",
       "      <th>10</th>\n",
       "      <td>['Kislyonkova'</td>\n",
       "      <td>'PSA-group-project'</td>\n",
       "      <td>'Design'</td>\n",
       "      <td>'6'</td>\n",
       "      <td>'Closed'</td>\n",
       "      <td>'actuallyykatie'</td>\n",
       "      <td>'None yet'</td>\n",
       "      <td>'11/12/2018'</td>\n",
       "      <td>'actuallyykatie'</td>\n",
       "      <td>'closed this'</td>\n",
       "      <td>'22/11/2018'</td>\n",
       "      <td>'1 participant'</td>\n",
       "      <td>1</td>\n",
       "      <td>'Collaborator    actuallyykatie   commented   ...</td>\n",
       "      <td>['\\n']]</td>\n",
       "    </tr>\n",
       "    <tr>\n",
       "      <th>11</th>\n",
       "      <td>['Kislyonkova'</td>\n",
       "      <td>'PSA-group-project'</td>\n",
       "      <td>'Design'</td>\n",
       "      <td>'6'</td>\n",
       "      <td>'Closed'</td>\n",
       "      <td>'actuallyykatie'</td>\n",
       "      <td>'None yet'</td>\n",
       "      <td>'11/12/2018'</td>\n",
       "      <td>'actuallyykatie'</td>\n",
       "      <td>'closed this'</td>\n",
       "      <td>'22/11/2018'</td>\n",
       "      <td>'1 participant'</td>\n",
       "      <td>2</td>\n",
       "      <td>'Collaborator   Author  actuallyykatie   comme...</td>\n",
       "      <td>['\\n']]</td>\n",
       "    </tr>\n",
       "    <tr>\n",
       "      <th>12</th>\n",
       "      <td>['Kislyonkova'</td>\n",
       "      <td>'PSA-group-project'</td>\n",
       "      <td>'Design'</td>\n",
       "      <td>'6'</td>\n",
       "      <td>'Closed'</td>\n",
       "      <td>'actuallyykatie'</td>\n",
       "      <td>'None yet'</td>\n",
       "      <td>'11/12/2018'</td>\n",
       "      <td>'actuallyykatie'</td>\n",
       "      <td>'closed this'</td>\n",
       "      <td>'22/11/2018'</td>\n",
       "      <td>'1 participant'</td>\n",
       "      <td>3</td>\n",
       "      <td>'Collaborator   Author  actuallyykatie   comme...</td>\n",
       "      <td>['\\n']]</td>\n",
       "    </tr>\n",
       "    <tr>\n",
       "      <th>13</th>\n",
       "      <td>['Kislyonkova'</td>\n",
       "      <td>'PSA-group-project'</td>\n",
       "      <td>'Design'</td>\n",
       "      <td>'6'</td>\n",
       "      <td>'Closed'</td>\n",
       "      <td>'actuallyykatie'</td>\n",
       "      <td>'None yet'</td>\n",
       "      <td>'11/12/2018'</td>\n",
       "      <td>'actuallyykatie'</td>\n",
       "      <td>'closed this'</td>\n",
       "      <td>'22/11/2018'</td>\n",
       "      <td>'1 participant'</td>\n",
       "      <td>4</td>\n",
       "      <td>'Collaborator   Author  actuallyykatie   comme...</td>\n",
       "      <td>'\\n\\n\\n\\n🎉\\n            1\\n          \\n\\n']</td>\n",
       "    </tr>\n",
       "    <tr>\n",
       "      <th>14</th>\n",
       "      <td>['Kislyonkova'</td>\n",
       "      <td>'PSA-group-project'</td>\n",
       "      <td>'Wiki'</td>\n",
       "      <td>'7'</td>\n",
       "      <td>'Closed'</td>\n",
       "      <td>'actuallyykatie; Kislyonkova'</td>\n",
       "      <td>'None yet'</td>\n",
       "      <td>'11/12/2018'</td>\n",
       "      <td>'actuallyykatie'</td>\n",
       "      <td>'closed this'</td>\n",
       "      <td>'22/11/2018'</td>\n",
       "      <td>'2 participants'</td>\n",
       "      <td>1</td>\n",
       "      <td>'Collaborator    actuallyykatie   commented   ...</td>\n",
       "      <td>['\\n']]</td>\n",
       "    </tr>\n",
       "    <tr>\n",
       "      <th>15</th>\n",
       "      <td>['Kislyonkova'</td>\n",
       "      <td>'PSA-group-project'</td>\n",
       "      <td>'Wiki'</td>\n",
       "      <td>'7'</td>\n",
       "      <td>'Closed'</td>\n",
       "      <td>'actuallyykatie; Kislyonkova'</td>\n",
       "      <td>'None yet'</td>\n",
       "      <td>'11/12/2018'</td>\n",
       "      <td>'actuallyykatie'</td>\n",
       "      <td>'closed this'</td>\n",
       "      <td>'22/11/2018'</td>\n",
       "      <td>'2 participants'</td>\n",
       "      <td>2</td>\n",
       "      <td>'Owner    Kislyonkova   commented    Dec 14 20...</td>\n",
       "      <td>['\\n']]</td>\n",
       "    </tr>\n",
       "    <tr>\n",
       "      <th>16</th>\n",
       "      <td>['Kislyonkova'</td>\n",
       "      <td>'PSA-group-project'</td>\n",
       "      <td>'Fix registration form'</td>\n",
       "      <td>'8'</td>\n",
       "      <td>'Closed'</td>\n",
       "      <td>'No; one; assigned'</td>\n",
       "      <td>'None yet'</td>\n",
       "      <td>'14/12/2018'</td>\n",
       "      <td>'actuallyykatie'</td>\n",
       "      <td>'closed this'</td>\n",
       "      <td>'22/11/2018'</td>\n",
       "      <td>'2 participants'</td>\n",
       "      <td>1</td>\n",
       "      <td>'Owner    Kislyonkova   commented    Dec 14 20...</td>\n",
       "      <td>['\\n']]</td>\n",
       "    </tr>\n",
       "    <tr>\n",
       "      <th>17</th>\n",
       "      <td>['Kislyonkova'</td>\n",
       "      <td>'PSA-group-project'</td>\n",
       "      <td>'Fix registration form'</td>\n",
       "      <td>'8'</td>\n",
       "      <td>'Closed'</td>\n",
       "      <td>'No; one; assigned'</td>\n",
       "      <td>'None yet'</td>\n",
       "      <td>'14/12/2018'</td>\n",
       "      <td>'actuallyykatie'</td>\n",
       "      <td>'closed this'</td>\n",
       "      <td>'22/11/2018'</td>\n",
       "      <td>'2 participants'</td>\n",
       "      <td>2</td>\n",
       "      <td>'Collaborator    actuallyykatie   commented   ...</td>\n",
       "      <td>['\\n']]</td>\n",
       "    </tr>\n",
       "    <tr>\n",
       "      <th>18</th>\n",
       "      <td>['Kislyonkova'</td>\n",
       "      <td>'PSA-group-project'</td>\n",
       "      <td>'Recommendation system'</td>\n",
       "      <td>'9'</td>\n",
       "      <td>'Open'</td>\n",
       "      <td>'No; one; assigned'</td>\n",
       "      <td>'None yet'</td>\n",
       "      <td>'22/12/2018'</td>\n",
       "      <td>'actuallyykatie'</td>\n",
       "      <td>'closed this'</td>\n",
       "      <td>'22/11/2018'</td>\n",
       "      <td>'2 participants'</td>\n",
       "      <td>1</td>\n",
       "      <td>'Owner    Kislyonkova   commented    Dec 22 20...</td>\n",
       "      <td>['\\n']]</td>\n",
       "    </tr>\n",
       "    <tr>\n",
       "      <th>19</th>\n",
       "      <td>['Kislyonkova'</td>\n",
       "      <td>'PSA-group-project'</td>\n",
       "      <td>'Playlists database'</td>\n",
       "      <td>'10'</td>\n",
       "      <td>'Closed'</td>\n",
       "      <td>'actuallyykatie; Kislyonkova; aemulus-b'</td>\n",
       "      <td>'None yet'</td>\n",
       "      <td>'22/12/2018'</td>\n",
       "      <td>'actuallyykatie'</td>\n",
       "      <td>'closed this'</td>\n",
       "      <td>'22/11/2018'</td>\n",
       "      <td>'3 participants'</td>\n",
       "      <td>1</td>\n",
       "      <td>'Owner    Kislyonkova   commented    Dec 22 20...</td>\n",
       "      <td>['\\n']]</td>\n",
       "    </tr>\n",
       "    <tr>\n",
       "      <th>20</th>\n",
       "      <td>['Kislyonkova'</td>\n",
       "      <td>'PSA-group-project'</td>\n",
       "      <td>'Playlists database'</td>\n",
       "      <td>'10'</td>\n",
       "      <td>'Closed'</td>\n",
       "      <td>'actuallyykatie; Kislyonkova; aemulus-b'</td>\n",
       "      <td>'None yet'</td>\n",
       "      <td>'22/12/2018'</td>\n",
       "      <td>'actuallyykatie'</td>\n",
       "      <td>'closed this'</td>\n",
       "      <td>'22/11/2018'</td>\n",
       "      <td>'3 participants'</td>\n",
       "      <td>2</td>\n",
       "      <td>'Collaborator    actuallyykatie   commented   ...</td>\n",
       "      <td>['\\n']]</td>\n",
       "    </tr>\n",
       "  </tbody>\n",
       "</table>\n",
       "</div>"
      ],
      "text/plain": [
       "                0                    1                                     2   \\\n",
       "0   ['Kislyonkova'  'PSA-group-project'                     '1st page design'   \n",
       "1   ['Kislyonkova'  'PSA-group-project'                     '1st page design'   \n",
       "2   ['Kislyonkova'  'PSA-group-project'                     '1st page design'   \n",
       "3   ['Kislyonkova'  'PSA-group-project'                     '1st page design'   \n",
       "4   ['Kislyonkova'  'PSA-group-project'                           'wiki page'   \n",
       "5   ['Kislyonkova'  'PSA-group-project'                            'database'   \n",
       "6   ['Kislyonkova'  'PSA-group-project'  \"Description of application's items\"   \n",
       "7   ['Kislyonkova'  'PSA-group-project'                  'Fix users database'   \n",
       "8   ['Kislyonkova'  'PSA-group-project'                  'Fix users database'   \n",
       "9   ['Kislyonkova'  'PSA-group-project'                  'Fix users database'   \n",
       "10  ['Kislyonkova'  'PSA-group-project'                              'Design'   \n",
       "11  ['Kislyonkova'  'PSA-group-project'                              'Design'   \n",
       "12  ['Kislyonkova'  'PSA-group-project'                              'Design'   \n",
       "13  ['Kislyonkova'  'PSA-group-project'                              'Design'   \n",
       "14  ['Kislyonkova'  'PSA-group-project'                                'Wiki'   \n",
       "15  ['Kislyonkova'  'PSA-group-project'                                'Wiki'   \n",
       "16  ['Kislyonkova'  'PSA-group-project'               'Fix registration form'   \n",
       "17  ['Kislyonkova'  'PSA-group-project'               'Fix registration form'   \n",
       "18  ['Kislyonkova'  'PSA-group-project'               'Recommendation system'   \n",
       "19  ['Kislyonkova'  'PSA-group-project'                  'Playlists database'   \n",
       "20  ['Kislyonkova'  'PSA-group-project'                  'Playlists database'   \n",
       "\n",
       "      3         4                                         5           6   \\\n",
       "0    '1'  'Closed'                          'actuallyykatie'  'None yet'   \n",
       "1    '1'  'Closed'                          'actuallyykatie'  'None yet'   \n",
       "2    '1'  'Closed'                          'actuallyykatie'  'None yet'   \n",
       "3    '1'  'Closed'                          'actuallyykatie'  'None yet'   \n",
       "4    '2'  'Closed'                             'Kislyonkova'  'None yet'   \n",
       "5    '3'  'Closed'                               'aemulus-b'  'None yet'   \n",
       "6    '4'  'Closed'                             'Kislyonkova'  'None yet'   \n",
       "7    '5'  'Closed'                               'aemulus-b'  'None yet'   \n",
       "8    '5'  'Closed'                               'aemulus-b'  'None yet'   \n",
       "9    '5'  'Closed'                               'aemulus-b'  'None yet'   \n",
       "10   '6'  'Closed'                          'actuallyykatie'  'None yet'   \n",
       "11   '6'  'Closed'                          'actuallyykatie'  'None yet'   \n",
       "12   '6'  'Closed'                          'actuallyykatie'  'None yet'   \n",
       "13   '6'  'Closed'                          'actuallyykatie'  'None yet'   \n",
       "14   '7'  'Closed'             'actuallyykatie; Kislyonkova'  'None yet'   \n",
       "15   '7'  'Closed'             'actuallyykatie; Kislyonkova'  'None yet'   \n",
       "16   '8'  'Closed'                       'No; one; assigned'  'None yet'   \n",
       "17   '8'  'Closed'                       'No; one; assigned'  'None yet'   \n",
       "18   '9'    'Open'                       'No; one; assigned'  'None yet'   \n",
       "19  '10'  'Closed'  'actuallyykatie; Kislyonkova; aemulus-b'  'None yet'   \n",
       "20  '10'  'Closed'  'actuallyykatie; Kislyonkova; aemulus-b'  'None yet'   \n",
       "\n",
       "              7                 8              9             10  \\\n",
       "0   '18/11/2018'  'actuallyykatie'  'closed this'  '22/11/2018'   \n",
       "1   '18/11/2018'  'actuallyykatie'  'closed this'  '22/11/2018'   \n",
       "2   '18/11/2018'  'actuallyykatie'  'closed this'  '22/11/2018'   \n",
       "3   '18/11/2018'  'actuallyykatie'  'closed this'  '22/11/2018'   \n",
       "4   '18/11/2018'  'actuallyykatie'  'closed this'  '22/11/2018'   \n",
       "5   '18/11/2018'  'actuallyykatie'  'closed this'  '22/11/2018'   \n",
       "6   '28/11/2018'  'actuallyykatie'  'closed this'  '22/11/2018'   \n",
       "7   '11/12/2018'  'actuallyykatie'  'closed this'  '22/11/2018'   \n",
       "8   '11/12/2018'  'actuallyykatie'  'closed this'  '22/11/2018'   \n",
       "9   '11/12/2018'  'actuallyykatie'  'closed this'  '22/11/2018'   \n",
       "10  '11/12/2018'  'actuallyykatie'  'closed this'  '22/11/2018'   \n",
       "11  '11/12/2018'  'actuallyykatie'  'closed this'  '22/11/2018'   \n",
       "12  '11/12/2018'  'actuallyykatie'  'closed this'  '22/11/2018'   \n",
       "13  '11/12/2018'  'actuallyykatie'  'closed this'  '22/11/2018'   \n",
       "14  '11/12/2018'  'actuallyykatie'  'closed this'  '22/11/2018'   \n",
       "15  '11/12/2018'  'actuallyykatie'  'closed this'  '22/11/2018'   \n",
       "16  '14/12/2018'  'actuallyykatie'  'closed this'  '22/11/2018'   \n",
       "17  '14/12/2018'  'actuallyykatie'  'closed this'  '22/11/2018'   \n",
       "18  '22/12/2018'  'actuallyykatie'  'closed this'  '22/11/2018'   \n",
       "19  '22/12/2018'  'actuallyykatie'  'closed this'  '22/11/2018'   \n",
       "20  '22/12/2018'  'actuallyykatie'  'closed this'  '22/11/2018'   \n",
       "\n",
       "                  11 12                                                 13  \\\n",
       "0    '1 participant'  1  'Collaborator    actuallyykatie   commented   ...   \n",
       "1    '1 participant'  2  'Collaborator   Author  actuallyykatie   comme...   \n",
       "2    '1 participant'  3  'Collaborator   Author  actuallyykatie   comme...   \n",
       "3    '1 participant'  4  'Collaborator   Author  actuallyykatie   comme...   \n",
       "4   '2 participants'  1  'Collaborator    actuallyykatie   commented   ...   \n",
       "5   '2 participants'  1  'Collaborator    actuallyykatie   commented   ...   \n",
       "6    '1 participant'  1  \"Owner    Kislyonkova   commented    Nov 28 20...   \n",
       "7   '3 participants'  1  'Collaborator    actuallyykatie   commented   ...   \n",
       "8   '3 participants'  2  'Owner    Kislyonkova   commented    Dec 14 20...   \n",
       "9   '3 participants'  3  'Collaborator   Author  actuallyykatie   comme...   \n",
       "10   '1 participant'  1  'Collaborator    actuallyykatie   commented   ...   \n",
       "11   '1 participant'  2  'Collaborator   Author  actuallyykatie   comme...   \n",
       "12   '1 participant'  3  'Collaborator   Author  actuallyykatie   comme...   \n",
       "13   '1 participant'  4  'Collaborator   Author  actuallyykatie   comme...   \n",
       "14  '2 participants'  1  'Collaborator    actuallyykatie   commented   ...   \n",
       "15  '2 participants'  2  'Owner    Kislyonkova   commented    Dec 14 20...   \n",
       "16  '2 participants'  1  'Owner    Kislyonkova   commented    Dec 14 20...   \n",
       "17  '2 participants'  2  'Collaborator    actuallyykatie   commented   ...   \n",
       "18  '2 participants'  1  'Owner    Kislyonkova   commented    Dec 22 20...   \n",
       "19  '3 participants'  1  'Owner    Kislyonkova   commented    Dec 22 20...   \n",
       "20  '3 participants'  2  'Collaborator    actuallyykatie   commented   ...   \n",
       "\n",
       "                                             14  \n",
       "0                                       ['\\n']]  \n",
       "1                                       ['\\n']]  \n",
       "2                                       ['\\n']]  \n",
       "3                                       ['\\n']]  \n",
       "4                                       ['\\n']]  \n",
       "5                                       ['\\n']]  \n",
       "6                                       ['\\n']]  \n",
       "7                                       ['\\n']]  \n",
       "8   '\\n\\n\\n\\n🎉\\n            1\\n          \\n\\n']  \n",
       "9   '\\n\\n\\n\\n🎉\\n            1\\n          \\n\\n']  \n",
       "10                                      ['\\n']]  \n",
       "11                                      ['\\n']]  \n",
       "12                                      ['\\n']]  \n",
       "13  '\\n\\n\\n\\n🎉\\n            1\\n          \\n\\n']  \n",
       "14                                      ['\\n']]  \n",
       "15                                      ['\\n']]  \n",
       "16                                      ['\\n']]  \n",
       "17                                      ['\\n']]  \n",
       "18                                      ['\\n']]  \n",
       "19                                      ['\\n']]  \n",
       "20                                      ['\\n']]  "
      ]
     },
     "execution_count": 41,
     "metadata": {
      "tags": []
     },
     "output_type": "execute_result"
    }
   ],
   "source": [
    "pd.DataFrame(flatten(records), columns=['everything']).everything.str.split(expand=True, pat=', ', n = 14)"
   ]
  },
  {
   "cell_type": "markdown",
   "metadata": {
    "id": "nveASCH7t6Fo",
    "colab_type": "text"
   },
   "source": [
    "# Collect!\n",
    "And here the data is collected!"
   ]
  },
  {
   "cell_type": "markdown",
   "metadata": {
    "colab_type": "text",
    "id": "__6j4z5r-aXL"
   },
   "source": [
    "### Top Fastest growing open source projects\n",
    "1.\t[MicrosoftDocs/azure-docs](https://github.com/MicrosoftDocs/azure-docs)\t-- 1,885 open 14,990 closed\n",
    "2.\t[pytorch/pytorch](https://github.com/pytorch/pytorch) -- 2,280 open + 5,472 closed\n",
    "3.\t[godotengine/godot](https://github.com/godotengine/godot) 4,578 open + 12,231 closed\n",
    "4.\t[nuxt/nuxt.js](https://github.com/nuxt/nuxt.js)\t129 open + 3,950 closed\n",
    "5.\t[ethereum/go-ethereum](https://github.com/ethereum/go-ethereum)\t-- 578 open + 3,608 closed\n",
    "6.\t[wix/react-native-navigation](https://github.com/wix/react-native-navigation)\t-- 153 open + 3,338 closed\n",
    "7.\t[spyder-ide/spyder](https://github.com/spyder-ide/spyder)\t-- 700 open + 6,881 closed\n",
    "8.\t[tensorflow/models](https://github.com/tensorflow/models)\t-- 1,183 open + 2,889 closed  // 359 open + 1,997 closed PRs\n",
    "9.\t[home-assistant/home-assistant\t](https://github.com/home-assistant/home-assistant) -- 922 open + 8,331 closed\n",
    "10.\t[MarlinFirmware/Marlin](https://github.com/MarlinFirmware/Marlin) -- 719 open + 6,643 closed\n"
   ]
  },
  {
   "cell_type": "markdown",
   "metadata": {
    "id": "NGQcrlZF_wZB",
    "colab_type": "text"
   },
   "source": [
    "#### tensorflow/models\n",
    "Time: 20 min (without pool & map - ~3 hours!)"
   ]
  },
  {
   "cell_type": "code",
   "execution_count": 0,
   "metadata": {
    "colab_type": "code",
    "id": "QjcjhR4zuztb",
    "outputId": "2b4472a6-f7e4-4d7d-ea59-ecbbbe4f19ce",
    "colab": {
     "base_uri": "https://localhost:8080/",
     "height": 53.0
    }
   },
   "outputs": [
    {
     "name": "stdout",
     "output_type": "stream",
     "text": [
      "CPU times: user 1.09 s, sys: 707 ms, total: 1.8 s\n",
      "Wall time: 20min 58s\n"
     ]
    }
   ],
   "source": [
    "%%time\n",
    "with Pool(10) as p:\n",
    "  # pass parser function and urls to parse\n",
    "  records_tf = p.map(parse_issue, get_issue_links('tensorflow/models'))"
   ]
  },
  {
   "cell_type": "code",
   "execution_count": 0,
   "metadata": {
    "id": "Un100QWm-4-i",
    "colab_type": "code",
    "outputId": "36b617f0-ae96-4562-82cd-a320745ca4ed",
    "colab": {
     "base_uri": "https://localhost:8080/",
     "height": 35.0
    }
   },
   "outputs": [
    {
     "data": {
      "text/plain": [
       "6669"
      ]
     },
     "execution_count": 65,
     "metadata": {
      "tags": []
     },
     "output_type": "execute_result"
    }
   ],
   "source": [
    "len(records_tf)"
   ]
  },
  {
   "cell_type": "code",
   "execution_count": 0,
   "metadata": {
    "id": "_kP8mLnn_eWr",
    "colab_type": "code",
    "colab": {}
   },
   "outputs": [],
   "source": [
    "pd.DataFrame(flatten(records_tf), columns=['everything']).everything.str.split(expand=True, pat=', ', n = 13).to_csv(PATH_TO_DATA + 'tf.csv')"
   ]
  },
  {
   "cell_type": "code",
   "execution_count": 0,
   "metadata": {
    "id": "4FZq0tzPVlAr",
    "colab_type": "code",
    "colab": {}
   },
   "outputs": [],
   "source": [
    "flatten(records_tf)"
   ]
  },
  {
   "cell_type": "code",
   "execution_count": 0,
   "metadata": {
    "id": "hY5z4tMgP6p9",
    "colab_type": "code",
    "outputId": "47eb25c2-91af-4bc3-aa0d-d2b91ccdf008",
    "colab": {
     "base_uri": "https://localhost:8080/",
     "height": 193.0
    }
   },
   "outputs": [
    {
     "data": {
      "text/html": [
       "<div>\n",
       "<style scoped>\n",
       "    .dataframe tbody tr th:only-of-type {\n",
       "        vertical-align: middle;\n",
       "    }\n",
       "\n",
       "    .dataframe tbody tr th {\n",
       "        vertical-align: top;\n",
       "    }\n",
       "\n",
       "    .dataframe thead th {\n",
       "        text-align: right;\n",
       "    }\n",
       "</style>\n",
       "<table border=\"1\" class=\"dataframe\">\n",
       "  <thead>\n",
       "    <tr style=\"text-align: right;\">\n",
       "      <th></th>\n",
       "      <th>0</th>\n",
       "      <th>1</th>\n",
       "      <th>2</th>\n",
       "      <th>3</th>\n",
       "      <th>4</th>\n",
       "      <th>5</th>\n",
       "      <th>6</th>\n",
       "      <th>7</th>\n",
       "      <th>8</th>\n",
       "      <th>9</th>\n",
       "      <th>10</th>\n",
       "      <th>11</th>\n",
       "      <th>12</th>\n",
       "    </tr>\n",
       "  </thead>\n",
       "  <tbody>\n",
       "    <tr>\n",
       "      <th>0</th>\n",
       "      <td>['tensorflow'</td>\n",
       "      <td>'models'</td>\n",
       "      <td>'initial commit simple separated models'</td>\n",
       "      <td>'1'</td>\n",
       "      <td>'Merged'</td>\n",
       "      <td>'No; reviews'</td>\n",
       "      <td>'None yet'</td>\n",
       "      <td>'19/02/2016'</td>\n",
       "      <td>''</td>\n",
       "      <td>'4 participants'</td>\n",
       "      <td>1</td>\n",
       "      <td>'Contributor    snurkabill   commented    Feb ...</td>\n",
       "      <td>'\\n']</td>\n",
       "    </tr>\n",
       "    <tr>\n",
       "      <th>1</th>\n",
       "      <td>['tensorflow'</td>\n",
       "      <td>'models'</td>\n",
       "      <td>'initial commit simple separated models'</td>\n",
       "      <td>'1'</td>\n",
       "      <td>'Merged'</td>\n",
       "      <td>'No; reviews'</td>\n",
       "      <td>'None yet'</td>\n",
       "      <td>'19/02/2016'</td>\n",
       "      <td>''</td>\n",
       "      <td>'4 participants'</td>\n",
       "      <td>2</td>\n",
       "      <td>\"Member    martinwicke   commented    Mar 8 20...</td>\n",
       "      <td>'\\n']</td>\n",
       "    </tr>\n",
       "    <tr>\n",
       "      <th>2</th>\n",
       "      <td>['tensorflow'</td>\n",
       "      <td>'models'</td>\n",
       "      <td>'initial commit simple separated models'</td>\n",
       "      <td>'1'</td>\n",
       "      <td>'Merged'</td>\n",
       "      <td>'No; reviews'</td>\n",
       "      <td>'None yet'</td>\n",
       "      <td>'19/02/2016'</td>\n",
       "      <td>''</td>\n",
       "      <td>'4 participants'</td>\n",
       "      <td>3</td>\n",
       "      <td>\"Member    martinwicke   commented    Mar 8 20...</td>\n",
       "      <td>'\\n']</td>\n",
       "    </tr>\n",
       "  </tbody>\n",
       "</table>\n",
       "</div>"
      ],
      "text/plain": [
       "               0         1                                         2    3  \\\n",
       "0  ['tensorflow'  'models'  'initial commit simple separated models'  '1'   \n",
       "1  ['tensorflow'  'models'  'initial commit simple separated models'  '1'   \n",
       "2  ['tensorflow'  'models'  'initial commit simple separated models'  '1'   \n",
       "\n",
       "          4              5           6             7   8                 9  \\\n",
       "0  'Merged'  'No; reviews'  'None yet'  '19/02/2016'  ''  '4 participants'   \n",
       "1  'Merged'  'No; reviews'  'None yet'  '19/02/2016'  ''  '4 participants'   \n",
       "2  'Merged'  'No; reviews'  'None yet'  '19/02/2016'  ''  '4 participants'   \n",
       "\n",
       "   10                                                 11     12  \n",
       "0   1  'Contributor    snurkabill   commented    Feb ...  '\\n']  \n",
       "1   2  \"Member    martinwicke   commented    Mar 8 20...  '\\n']  \n",
       "2   3  \"Member    martinwicke   commented    Mar 8 20...  '\\n']  "
      ]
     },
     "execution_count": 71,
     "metadata": {
      "tags": []
     },
     "output_type": "execute_result"
    }
   ],
   "source": [
    "d_test = pd.read_csv(PATH_TO_DATA + 'tf.csv', index_col = 0)\n",
    "d_test.head(3)"
   ]
  },
  {
   "cell_type": "markdown",
   "metadata": {
    "id": "uPSsIex8_3Hv",
    "colab_type": "text"
   },
   "source": [
    "#### MicrosoftDocs/azure-docs \n",
    "Time: 1 hour 36 min"
   ]
  },
  {
   "cell_type": "code",
   "execution_count": 0,
   "metadata": {
    "id": "GDsdFFMg_5lJ",
    "colab_type": "code",
    "outputId": "f154554a-59c4-4a05-b0c2-8cf217fcd031",
    "colab": {
     "base_uri": "https://localhost:8080/",
     "height": 53.0
    }
   },
   "outputs": [
    {
     "name": "stdout",
     "output_type": "stream",
     "text": [
      "CPU times: user 4.94 s, sys: 2.49 s, total: 7.43 s\n",
      "Wall time: 1h 36min 56s\n"
     ]
    }
   ],
   "source": [
    "%%time\n",
    "with Pool(10) as p:\n",
    "  # pass parser function and urls to parse\n",
    "  records_ms_ad = p.map(parse_issue, get_issue_links('MicrosoftDocs/azure-docs'))"
   ]
  },
  {
   "cell_type": "code",
   "execution_count": 0,
   "metadata": {
    "id": "FADwHCHMZHTP",
    "colab_type": "code",
    "outputId": "328932c8-7da8-4201-d8af-b7b0429f62dc",
    "colab": {
     "base_uri": "https://localhost:8080/",
     "height": 35.0
    }
   },
   "outputs": [
    {
     "data": {
      "text/plain": [
       "146531"
      ]
     },
     "execution_count": 73,
     "metadata": {
      "tags": []
     },
     "output_type": "execute_result"
    }
   ],
   "source": [
    "len(flatten(records_ms_ad))"
   ]
  },
  {
   "cell_type": "code",
   "execution_count": 0,
   "metadata": {
    "id": "oV5pnalOACtC",
    "colab_type": "code",
    "colab": {}
   },
   "outputs": [],
   "source": [
    "pd.DataFrame(flatten(records_ms_ad), columns=['everything']).everything.str.split(expand=True, pat=', ', n = 14).to_csv(PATH_TO_DATA + 'MicrosoftDocs_azure-docs.csv')"
   ]
  },
  {
   "cell_type": "markdown",
   "metadata": {
    "id": "egtYICcPAMex",
    "colab_type": "text"
   },
   "source": [
    "#### pytorch/pytorch\n",
    "Time: 1 hour 17 min"
   ]
  },
  {
   "cell_type": "code",
   "execution_count": 0,
   "metadata": {
    "id": "lv2WZD08AzZQ",
    "colab_type": "code",
    "outputId": "43b78edc-df4b-4ef4-8a4e-8a359cbc0405",
    "colab": {
     "base_uri": "https://localhost:8080/",
     "height": 53.0
    }
   },
   "outputs": [
    {
     "name": "stdout",
     "output_type": "stream",
     "text": [
      "CPU times: user 4.01 s, sys: 2.1 s, total: 6.11 s\n",
      "Wall time: 1h 17min 22s\n"
     ]
    }
   ],
   "source": [
    "%%time\n",
    "with Pool(10) as p:\n",
    "  records_pytorch = p.map(parse_issue, get_issue_links('pytorch/pytorch'))"
   ]
  },
  {
   "cell_type": "code",
   "execution_count": 0,
   "metadata": {
    "id": "8s4oc9vYAz_6",
    "colab_type": "code",
    "colab": {}
   },
   "outputs": [],
   "source": [
    "pd.DataFrame(flatten(records_pytorch), columns=['everything'])\\\n",
    ".everything.str.split(expand=True, pat=', ', n = 14).to_csv(PATH_TO_DATA + 'pytorch_pytorch.csv')"
   ]
  },
  {
   "cell_type": "code",
   "execution_count": 0,
   "metadata": {
    "id": "vRif7Hf9tKFk",
    "colab_type": "code",
    "outputId": "7e97f773-e9b7-4c08-d727-bbc658b84ce0",
    "colab": {
     "base_uri": "https://localhost:8080/",
     "height": 244.0
    }
   },
   "outputs": [
    {
     "data": {
      "text/html": [
       "<div>\n",
       "<style scoped>\n",
       "    .dataframe tbody tr th:only-of-type {\n",
       "        vertical-align: middle;\n",
       "    }\n",
       "\n",
       "    .dataframe tbody tr th {\n",
       "        vertical-align: top;\n",
       "    }\n",
       "\n",
       "    .dataframe thead th {\n",
       "        text-align: right;\n",
       "    }\n",
       "</style>\n",
       "<table border=\"1\" class=\"dataframe\">\n",
       "  <thead>\n",
       "    <tr style=\"text-align: right;\">\n",
       "      <th></th>\n",
       "      <th>0</th>\n",
       "      <th>1</th>\n",
       "      <th>2</th>\n",
       "      <th>3</th>\n",
       "      <th>4</th>\n",
       "      <th>5</th>\n",
       "      <th>6</th>\n",
       "      <th>7</th>\n",
       "      <th>8</th>\n",
       "      <th>9</th>\n",
       "      <th>10</th>\n",
       "      <th>11</th>\n",
       "      <th>12</th>\n",
       "    </tr>\n",
       "  </thead>\n",
       "  <tbody>\n",
       "    <tr>\n",
       "      <th>0</th>\n",
       "      <td>['pytorch'</td>\n",
       "      <td>'pytorch'</td>\n",
       "      <td>'Matrix multiplication operator'</td>\n",
       "      <td>'1'</td>\n",
       "      <td>'Closed'</td>\n",
       "      <td>'No; one; assigned'</td>\n",
       "      <td>'None yet'</td>\n",
       "      <td>'15/08/2016'</td>\n",
       "      <td>'soumith; closed this; Aug 24 2016'</td>\n",
       "      <td>'4 participants'</td>\n",
       "      <td>1</td>\n",
       "      <td>\"Contributor    bartvm   commented    Aug 15 2...</td>\n",
       "      <td>'\\n\\n\\n\\n👍\\n            11\\n          \\n\\n']</td>\n",
       "    </tr>\n",
       "    <tr>\n",
       "      <th>1</th>\n",
       "      <td>['pytorch'</td>\n",
       "      <td>'pytorch'</td>\n",
       "      <td>'Matrix multiplication operator'</td>\n",
       "      <td>'1'</td>\n",
       "      <td>'Closed'</td>\n",
       "      <td>'No; one; assigned'</td>\n",
       "      <td>'None yet'</td>\n",
       "      <td>'15/08/2016'</td>\n",
       "      <td>'soumith; closed this; Aug 24 2016'</td>\n",
       "      <td>'4 participants'</td>\n",
       "      <td>2</td>\n",
       "      <td>'alexbw   commented    Aug 16 2016     A good ...</td>\n",
       "      <td>'\\n\\n\\n\\n😄\\n            1\\n          \\n\\n']</td>\n",
       "    </tr>\n",
       "    <tr>\n",
       "      <th>2</th>\n",
       "      <td>['pytorch'</td>\n",
       "      <td>'pytorch'</td>\n",
       "      <td>'Matrix multiplication operator'</td>\n",
       "      <td>'1'</td>\n",
       "      <td>'Closed'</td>\n",
       "      <td>'No; one; assigned'</td>\n",
       "      <td>'None yet'</td>\n",
       "      <td>'15/08/2016'</td>\n",
       "      <td>'soumith; closed this; Aug 24 2016'</td>\n",
       "      <td>'4 participants'</td>\n",
       "      <td>3</td>\n",
       "      <td>\"Member    apaszke   commented    Aug 16 2016 ...</td>\n",
       "      <td>'\\n\\n\\n\\n👍\\n            2\\n          \\n\\n']</td>\n",
       "    </tr>\n",
       "  </tbody>\n",
       "</table>\n",
       "</div>"
      ],
      "text/plain": [
       "            0          1                                 2    3         4  \\\n",
       "0  ['pytorch'  'pytorch'  'Matrix multiplication operator'  '1'  'Closed'   \n",
       "1  ['pytorch'  'pytorch'  'Matrix multiplication operator'  '1'  'Closed'   \n",
       "2  ['pytorch'  'pytorch'  'Matrix multiplication operator'  '1'  'Closed'   \n",
       "\n",
       "                     5           6             7  \\\n",
       "0  'No; one; assigned'  'None yet'  '15/08/2016'   \n",
       "1  'No; one; assigned'  'None yet'  '15/08/2016'   \n",
       "2  'No; one; assigned'  'None yet'  '15/08/2016'   \n",
       "\n",
       "                                     8                 9  10  \\\n",
       "0  'soumith; closed this; Aug 24 2016'  '4 participants'   1   \n",
       "1  'soumith; closed this; Aug 24 2016'  '4 participants'   2   \n",
       "2  'soumith; closed this; Aug 24 2016'  '4 participants'   3   \n",
       "\n",
       "                                                  11  \\\n",
       "0  \"Contributor    bartvm   commented    Aug 15 2...   \n",
       "1  'alexbw   commented    Aug 16 2016     A good ...   \n",
       "2  \"Member    apaszke   commented    Aug 16 2016 ...   \n",
       "\n",
       "                                             12  \n",
       "0  '\\n\\n\\n\\n👍\\n            11\\n          \\n\\n']  \n",
       "1   '\\n\\n\\n\\n😄\\n            1\\n          \\n\\n']  \n",
       "2   '\\n\\n\\n\\n👍\\n            2\\n          \\n\\n']  "
      ]
     },
     "execution_count": 78,
     "metadata": {
      "tags": []
     },
     "output_type": "execute_result"
    }
   ],
   "source": [
    "ptrch = pd.read_csv(PATH_TO_DATA + 'pytorch_pytorch.csv', index_col = 0)\n",
    "ptrch.head(3)"
   ]
  },
  {
   "cell_type": "markdown",
   "metadata": {
    "id": "qhX_bu2hAPK1",
    "colab_type": "text"
   },
   "source": [
    "#### godotengine/godot \n",
    "Time: 1 hour 29 min"
   ]
  },
  {
   "cell_type": "code",
   "execution_count": 0,
   "metadata": {
    "colab_type": "code",
    "id": "v9nuwHorBDQF",
    "outputId": "d3cd4065-9829-4665-8f34-ec8f93f335fe",
    "colab": {
     "base_uri": "https://localhost:8080/",
     "height": 53.0
    }
   },
   "outputs": [
    {
     "name": "stdout",
     "output_type": "stream",
     "text": [
      "CPU times: user 4.81 s, sys: 2.37 s, total: 7.18 s\n",
      "Wall time: 1h 29min 9s\n"
     ]
    }
   ],
   "source": [
    "%%time\n",
    "with Pool(10) as p:\n",
    "  records_gg = p.map(parse_issue, get_issue_links('godotengine/godot'))"
   ]
  },
  {
   "cell_type": "code",
   "execution_count": 0,
   "metadata": {
    "colab_type": "code",
    "id": "NJpR-z__BDQH",
    "colab": {}
   },
   "outputs": [],
   "source": [
    "pd.DataFrame(flatten(records_gg), columns=['everything'])\\\n",
    ".everything.str.split(expand=True, pat=', ', n = 14).to_csv(PATH_TO_DATA + 'godotengine_godot.csv')"
   ]
  },
  {
   "cell_type": "markdown",
   "metadata": {
    "id": "cSd66RfHAVtS",
    "colab_type": "text"
   },
   "source": [
    "#### nuxt/nuxt.js \n",
    "Time: 17 min"
   ]
  },
  {
   "cell_type": "code",
   "execution_count": 0,
   "metadata": {
    "colab_type": "code",
    "id": "SEHN_EZguZ6W",
    "outputId": "59b258e9-ebfb-441f-f8da-c44b1d5bcd56",
    "colab": {
     "base_uri": "https://localhost:8080/",
     "height": 53.0
    }
   },
   "outputs": [
    {
     "name": "stdout",
     "output_type": "stream",
     "text": [
      "CPU times: user 1.01 s, sys: 891 ms, total: 1.9 s\n",
      "Wall time: 17min 43s\n"
     ]
    }
   ],
   "source": [
    "# error fixed\n",
    "%%time\n",
    "with Pool(10) as p:\n",
    "  records_nuxt = p.map(parse_issue, get_issue_links('nuxt/nuxt.js'))"
   ]
  },
  {
   "cell_type": "code",
   "execution_count": 0,
   "metadata": {
    "colab_type": "code",
    "id": "QqkiW4QFuZ6Z",
    "colab": {}
   },
   "outputs": [],
   "source": [
    "pd.DataFrame(flatten(records_nuxt), columns=['everything'])\\\n",
    ".everything.str.split(expand=True, pat=', ', n = 14).to_csv(PATH_TO_DATA + 'nuxt_nuxt_js.csv')"
   ]
  },
  {
   "cell_type": "code",
   "execution_count": 0,
   "metadata": {
    "id": "HuAkt0wLKkBW",
    "colab_type": "code",
    "outputId": "93d8da80-0797-412c-f6b6-b1e0d115fb98",
    "colab": {
     "base_uri": "https://localhost:8080/",
     "height": 193.0
    }
   },
   "outputs": [
    {
     "data": {
      "text/html": [
       "<div>\n",
       "<style scoped>\n",
       "    .dataframe tbody tr th:only-of-type {\n",
       "        vertical-align: middle;\n",
       "    }\n",
       "\n",
       "    .dataframe tbody tr th {\n",
       "        vertical-align: top;\n",
       "    }\n",
       "\n",
       "    .dataframe thead th {\n",
       "        text-align: right;\n",
       "    }\n",
       "</style>\n",
       "<table border=\"1\" class=\"dataframe\">\n",
       "  <thead>\n",
       "    <tr style=\"text-align: right;\">\n",
       "      <th></th>\n",
       "      <th>0</th>\n",
       "      <th>1</th>\n",
       "      <th>2</th>\n",
       "      <th>3</th>\n",
       "      <th>4</th>\n",
       "      <th>5</th>\n",
       "      <th>6</th>\n",
       "      <th>7</th>\n",
       "      <th>8</th>\n",
       "      <th>9</th>\n",
       "      <th>10</th>\n",
       "      <th>11</th>\n",
       "      <th>12</th>\n",
       "    </tr>\n",
       "  </thead>\n",
       "  <tbody>\n",
       "    <tr>\n",
       "      <th>0</th>\n",
       "      <td>['nuxt'</td>\n",
       "      <td>'nuxt.js'</td>\n",
       "      <td>'Add pages/_app.vue'</td>\n",
       "      <td>'1'</td>\n",
       "      <td>'Closed'</td>\n",
       "      <td>'Atinux'</td>\n",
       "      <td>'type: featur'</td>\n",
       "      <td>'09/11/2016'</td>\n",
       "      <td>'Atinux; closed this; Nov 21 2016'</td>\n",
       "      <td>'1 participant'</td>\n",
       "      <td>1</td>\n",
       "      <td>'Member    Atinux   commented    Nov 9 2016  •...</td>\n",
       "      <td>['\\n']]</td>\n",
       "    </tr>\n",
       "    <tr>\n",
       "      <th>1</th>\n",
       "      <td>['nuxt'</td>\n",
       "      <td>'nuxt.js'</td>\n",
       "      <td>'Add pages/_app.vue'</td>\n",
       "      <td>'1'</td>\n",
       "      <td>'Closed'</td>\n",
       "      <td>'Atinux'</td>\n",
       "      <td>'type: featur'</td>\n",
       "      <td>'09/11/2016'</td>\n",
       "      <td>'Atinux; closed this; Nov 21 2016'</td>\n",
       "      <td>'1 participant'</td>\n",
       "      <td>2</td>\n",
       "      <td>\"Member   Author  Atinux   commented    Nov 21...</td>\n",
       "      <td>['\\n']]</td>\n",
       "    </tr>\n",
       "    <tr>\n",
       "      <th>2</th>\n",
       "      <td>['nuxt'</td>\n",
       "      <td>'nuxt.js'</td>\n",
       "      <td>'Add pages/_app.vue'</td>\n",
       "      <td>'1'</td>\n",
       "      <td>'Closed'</td>\n",
       "      <td>'Atinux'</td>\n",
       "      <td>'type: featur'</td>\n",
       "      <td>'09/11/2016'</td>\n",
       "      <td>'Atinux; closed this; Nov 21 2016'</td>\n",
       "      <td>'1 participant'</td>\n",
       "      <td>3</td>\n",
       "      <td>'lock bot   commented    Nov 5 2018     This t...</td>\n",
       "      <td>['\\n']]</td>\n",
       "    </tr>\n",
       "  </tbody>\n",
       "</table>\n",
       "</div>"
      ],
      "text/plain": [
       "         0          1                     2    3         4         5  \\\n",
       "0  ['nuxt'  'nuxt.js'  'Add pages/_app.vue'  '1'  'Closed'  'Atinux'   \n",
       "1  ['nuxt'  'nuxt.js'  'Add pages/_app.vue'  '1'  'Closed'  'Atinux'   \n",
       "2  ['nuxt'  'nuxt.js'  'Add pages/_app.vue'  '1'  'Closed'  'Atinux'   \n",
       "\n",
       "                6             7                                   8  \\\n",
       "0  'type: featur'  '09/11/2016'  'Atinux; closed this; Nov 21 2016'   \n",
       "1  'type: featur'  '09/11/2016'  'Atinux; closed this; Nov 21 2016'   \n",
       "2  'type: featur'  '09/11/2016'  'Atinux; closed this; Nov 21 2016'   \n",
       "\n",
       "                 9  10                                                 11  \\\n",
       "0  '1 participant'   1  'Member    Atinux   commented    Nov 9 2016  •...   \n",
       "1  '1 participant'   2  \"Member   Author  Atinux   commented    Nov 21...   \n",
       "2  '1 participant'   3  'lock bot   commented    Nov 5 2018     This t...   \n",
       "\n",
       "        12  \n",
       "0  ['\\n']]  \n",
       "1  ['\\n']]  \n",
       "2  ['\\n']]  "
      ]
     },
     "execution_count": 86,
     "metadata": {
      "tags": []
     },
     "output_type": "execute_result"
    }
   ],
   "source": [
    "nuxtjs = pd.read_csv(PATH_TO_DATA + 'nuxt_nuxt_js.csv', index_col = 0)\n",
    "nuxtjs.head(3)\n",
    "# featur? --> feature ???????"
   ]
  },
  {
   "cell_type": "markdown",
   "metadata": {
    "id": "zNfRQattAYRR",
    "colab_type": "text"
   },
   "source": [
    "#### ethereum/go-ethereum \n",
    "Time: ?"
   ]
  },
  {
   "cell_type": "code",
   "execution_count": 0,
   "metadata": {
    "colab_type": "code",
    "id": "ZbdQG_YLubX2",
    "colab": {}
   },
   "outputs": [],
   "source": [
    "%%time\n",
    "with Pool(10) as p:\n",
    "  records_eth = p.map(parse_issue, get_issue_links('ethereum/go-ethereum'))"
   ]
  },
  {
   "cell_type": "code",
   "execution_count": 0,
   "metadata": {
    "colab_type": "code",
    "id": "DDRhMUkjubX6",
    "colab": {}
   },
   "outputs": [],
   "source": [
    "pd.DataFrame(flatten(records_eth), columns=['everything'])\\\n",
    ".everything.str.split(expand=True, pat=', ', n = 14).to_csv(PATH_TO_DATA + 'ethereum_go_ethereum.csv')"
   ]
  },
  {
   "cell_type": "markdown",
   "metadata": {
    "id": "_KruhLbjAeiJ",
    "colab_type": "text"
   },
   "source": [
    "#### wix/react-native-navigation \n",
    "Time: 15 minutes"
   ]
  },
  {
   "cell_type": "code",
   "execution_count": 0,
   "metadata": {
    "colab_type": "code",
    "id": "zlS3KaWTub_-",
    "outputId": "53f03dad-a68b-47c6-a099-89945a17d9e7",
    "colab": {
     "base_uri": "https://localhost:8080/",
     "height": 73.0
    }
   },
   "outputs": [
    {
     "name": "stdout",
     "output_type": "stream",
     "text": [
      "CPU times: user 899 ms, sys: 929 ms, total: 1.83 s\n",
      "Wall time: 15min 17s\n"
     ]
    }
   ],
   "source": [
    "%%time\n",
    "with Pool(10) as p:\n",
    "  records_react = p.map(parse_issue, get_issue_links('wix/react-native-navigation'))"
   ]
  },
  {
   "cell_type": "code",
   "execution_count": 0,
   "metadata": {
    "colab_type": "code",
    "id": "wH71xhMYucAA",
    "colab": {}
   },
   "outputs": [],
   "source": [
    "pd.DataFrame(flatten(records_react), columns=['everything'])\\\n",
    ".everything.str.split(expand=True, pat=', ', n = 14).to_csv(PATH_TO_DATA + 'wix_react_native_navigation.csv')"
   ]
  },
  {
   "cell_type": "markdown",
   "metadata": {
    "id": "zASdx4J4AfeM",
    "colab_type": "text"
   },
   "source": [
    "#### spyder-ide/spyder \n",
    "Time:  ?\n"
   ]
  },
  {
   "cell_type": "code",
   "execution_count": 0,
   "metadata": {
    "colab_type": "code",
    "id": "C9YjmJGbucfl",
    "colab": {}
   },
   "outputs": [],
   "source": [
    "%%time\n",
    "with Pool(4) as p:\n",
    "  records_spyder = p.map(parse_issue, get_issue_links('spyder-ide/spyder'))"
   ]
  },
  {
   "cell_type": "code",
   "execution_count": 0,
   "metadata": {
    "colab_type": "code",
    "id": "ltxV4yc5ucfp",
    "colab": {}
   },
   "outputs": [],
   "source": [
    "pd.DataFrame(flatten(records_spyder), columns=['everything'])\\\n",
    ".everything.str.split(expand=True, pat=', ', n = 14).to_csv(PATH_TO_DATA + 'spyder_ide_spyder.csv')"
   ]
  },
  {
   "cell_type": "markdown",
   "metadata": {
    "id": "Penh-DFKAhOB",
    "colab_type": "text"
   },
   "source": [
    "#### home-assistant/home-assistant \n",
    "Time: 1 hour 24 min"
   ]
  },
  {
   "cell_type": "code",
   "execution_count": 0,
   "metadata": {
    "colab_type": "code",
    "id": "53o3CiGKudNk",
    "outputId": "3c5a2432-b82f-4a46-f31c-5cee92b7a418",
    "colab": {
     "base_uri": "https://localhost:8080/",
     "height": 53.0
    }
   },
   "outputs": [
    {
     "name": "stdout",
     "output_type": "stream",
     "text": [
      "CPU times: user 5.87 s, sys: 2.52 s, total: 8.39 s\n",
      "Wall time: 1h 24min 24s\n"
     ]
    }
   ],
   "source": [
    "%%time\n",
    "with Pool(10) as p:\n",
    "  records_ha = p.map(parse_issue, get_issue_links('home-assistant/home-assistant'))"
   ]
  },
  {
   "cell_type": "code",
   "execution_count": 0,
   "metadata": {
    "id": "QL8F1xbQ882h",
    "colab_type": "code",
    "outputId": "dff95dd7-e6e6-4a91-9803-29970ca7b010",
    "colab": {
     "base_uri": "https://localhost:8080/",
     "height": 35.0
    }
   },
   "outputs": [
    {
     "data": {
      "text/plain": [
       "23464"
      ]
     },
     "execution_count": 28,
     "metadata": {
      "tags": []
     },
     "output_type": "execute_result"
    }
   ],
   "source": [
    "len(records_ha)"
   ]
  },
  {
   "cell_type": "code",
   "execution_count": 0,
   "metadata": {
    "colab_type": "code",
    "id": "Cd9gIpprudNn",
    "colab": {}
   },
   "outputs": [],
   "source": [
    "pd.DataFrame(flatten(records_ha), columns=['everything'])\\\n",
    ".everything.str.split(expand=True, pat=', ', n = 14).to_csv(PATH_TO_DATA + 'home_assistant.csv')"
   ]
  },
  {
   "cell_type": "markdown",
   "metadata": {
    "id": "VphTxdDjAidK",
    "colab_type": "text"
   },
   "source": [
    "#### MarlinFirmware/Marlin \n",
    "Time: 1 hour 32 min"
   ]
  },
  {
   "cell_type": "code",
   "execution_count": 0,
   "metadata": {
    "colab_type": "code",
    "id": "tcJrR91Iud8c",
    "outputId": "3b70cbd4-b195-4188-cb7a-c0016f7f4f80",
    "colab": {
     "base_uri": "https://localhost:8080/",
     "height": 53.0
    }
   },
   "outputs": [
    {
     "name": "stdout",
     "output_type": "stream",
     "text": [
      "CPU times: user 6.05 s, sys: 2.14 s, total: 8.19 s\n",
      "Wall time: 1h 32min 55s\n"
     ]
    }
   ],
   "source": [
    "%%time\n",
    "with Pool(4) as p:  # 4 - bad idea? :)))))))\n",
    "  records_marlin = p.map(parse_issue, get_issue_links('MarlinFirmware/Marlin'))"
   ]
  },
  {
   "cell_type": "code",
   "execution_count": 0,
   "metadata": {
    "id": "mxnjfMIYThs4",
    "colab_type": "code",
    "outputId": "4583b234-20ee-44fc-af40-6c67c2423df5",
    "colab": {
     "base_uri": "https://localhost:8080/",
     "height": 35.0
    }
   },
   "outputs": [
    {
     "data": {
      "text/plain": [
       "13833"
      ]
     },
     "execution_count": 25,
     "metadata": {
      "tags": []
     },
     "output_type": "execute_result"
    }
   ],
   "source": [
    "len(records_marlin)"
   ]
  },
  {
   "cell_type": "code",
   "execution_count": 0,
   "metadata": {
    "colab_type": "code",
    "id": "HzLQmjmrud8e",
    "colab": {}
   },
   "outputs": [],
   "source": [
    "pd.DataFrame(flatten(records_marlin), columns=['everything'])\\\n",
    ".everything.str.split(expand=True, pat=', ', n = 14).to_csv(PATH_TO_DATA + 'marlin.csv')"
   ]
  },
  {
   "cell_type": "markdown",
   "metadata": {
    "colab_type": "text",
    "id": "sTmoypqR-aXK"
   },
   "source": [
    "***\n",
    "\n",
    "### Top open source projects\n",
    "1.\t[Microsoft/vscode](https://github.com/Microsoft/vscode)\t-- 5,226 open + 61,287 closed\n",
    "2.\t[facebook/react-native](https://github.com/facebook/react-native) -- 414 open + 15,542 closed\n",
    "3.\t[tensorflow/tensorflow](https://github.com/tensorflow/tensorflow)\t-- 2,035 open + 14,952 closed\n",
    "4.\t[angular/angular-cli](https://github.com/angular/angular-cli)\t-- 666 open + 9400 closed\n",
    "5.\t[MicrosoftDocs/azure-docs\t](https://github.com/MicrosoftDocs/azure-docs) -- 1885 open + 14988 closed\n",
    "6.\t[angular/angular](https://github.com/angular/angular)\t-- 2,255 open + 15,177 closed\n",
    "7.\t[ansible/ansible](https://github.com/ansible/ansible)\t-- 3,877 opened + 18,453 closed\n",
    "8.\t[kubernetes/kubernetes](https://github.com/kubernetes/kubernetes) -- 2,166 open + 27,583 closed\n",
    "9.\t[npm/npm](https://github.com/npm/npm)\t-- 2,166 open + 16,507 closed\n",
    "10.\t[DefinitelyTyped/DefinitelyTyped](https://github.com/DefinitelyTyped/DefinitelyTyped)\t-- 2,651 open + 2,744 closed\n"
   ]
  },
  {
   "cell_type": "markdown",
   "metadata": {
    "colab_type": "text",
    "id": "4liRw5jb-M8x"
   },
   "source": [
    "#### Microsoft/vscode \n",
    "Time: ~5 hours\n"
   ]
  },
  {
   "cell_type": "code",
   "execution_count": 0,
   "metadata": {
    "colab_type": "code",
    "id": "OALDqXXN-J3H",
    "colab": {}
   },
   "outputs": [],
   "source": [
    "%%time\n",
    "with Pool(10) as p:\n",
    "  records_vscode = p.map(parse_issue, get_issue_links('Microsoft/vscode'))"
   ]
  },
  {
   "cell_type": "code",
   "execution_count": 0,
   "metadata": {
    "colab_type": "code",
    "id": "1_CxMhJ2-J3L",
    "colab": {}
   },
   "outputs": [],
   "source": [
    "pd.DataFrame(flatten(records_vscode), columns=['everything'])\\\n",
    ".everything.str.split(expand=True, pat=', ', n = 14).to_csv(PATH_TO_DATA + 'Microsoft_vscode.csv')"
   ]
  },
  {
   "cell_type": "markdown",
   "metadata": {
    "id": "aCbOAU_l-fS3",
    "colab_type": "text"
   },
   "source": [
    "#### facebook/react-native \n",
    "Time: 1 hour 21 min"
   ]
  },
  {
   "cell_type": "code",
   "execution_count": 0,
   "metadata": {
    "colab_type": "code",
    "id": "bsNrfa5V-wS1",
    "outputId": "39cd9fe7-416b-40a7-f587-b4bec4db79c6",
    "colab": {
     "base_uri": "https://localhost:8080/",
     "height": 53.0
    }
   },
   "outputs": [
    {
     "name": "stdout",
     "output_type": "stream",
     "text": [
      "CPU times: user 5.42 s, sys: 2.48 s, total: 7.9 s\n",
      "Wall time: 1h 21min 49s\n"
     ]
    }
   ],
   "source": [
    "%%time\n",
    "with Pool(10) as p:\n",
    "  records_react = p.map(parse_issue, get_issue_links('facebook/react-native'))"
   ]
  },
  {
   "cell_type": "code",
   "execution_count": 0,
   "metadata": {
    "colab_type": "code",
    "id": "xEYwL0KY-wS4",
    "colab": {}
   },
   "outputs": [],
   "source": [
    "pd.DataFrame(flatten(records_react), columns=['everything'])\\\n",
    ".everything.str.split(expand=True, pat=', ', n = 14).to_csv(PATH_TO_DATA + 'facebook_react_native.csv')"
   ]
  },
  {
   "cell_type": "code",
   "execution_count": 0,
   "metadata": {
    "id": "Cx9wb99OagqI",
    "colab_type": "code",
    "outputId": "2f23f18f-ac99-41fd-9ad8-096ff7ba347f",
    "colab": {
     "base_uri": "https://localhost:8080/",
     "height": 35.0
    }
   },
   "outputs": [
    {
     "data": {
      "text/plain": [
       "(24653, 172190)"
      ]
     },
     "execution_count": 23,
     "metadata": {
      "tags": []
     },
     "output_type": "execute_result"
    }
   ],
   "source": [
    "len(records_react), len(flatten(records_react))"
   ]
  },
  {
   "cell_type": "code",
   "execution_count": 0,
   "metadata": {
    "id": "GtdOP26kam2b",
    "colab_type": "code",
    "outputId": "f3255253-c130-4fca-a1a9-a240821e1bac",
    "colab": {
     "base_uri": "https://localhost:8080/",
     "height": 323.0
    }
   },
   "outputs": [
    {
     "data": {
      "text/html": [
       "<div>\n",
       "<style scoped>\n",
       "    .dataframe tbody tr th:only-of-type {\n",
       "        vertical-align: middle;\n",
       "    }\n",
       "\n",
       "    .dataframe tbody tr th {\n",
       "        vertical-align: top;\n",
       "    }\n",
       "\n",
       "    .dataframe thead th {\n",
       "        text-align: right;\n",
       "    }\n",
       "</style>\n",
       "<table border=\"1\" class=\"dataframe\">\n",
       "  <thead>\n",
       "    <tr style=\"text-align: right;\">\n",
       "      <th></th>\n",
       "      <th>0</th>\n",
       "      <th>1</th>\n",
       "      <th>2</th>\n",
       "      <th>3</th>\n",
       "      <th>4</th>\n",
       "      <th>5</th>\n",
       "      <th>6</th>\n",
       "      <th>7</th>\n",
       "      <th>8</th>\n",
       "      <th>9</th>\n",
       "      <th>10</th>\n",
       "      <th>11</th>\n",
       "      <th>12</th>\n",
       "    </tr>\n",
       "  </thead>\n",
       "  <tbody>\n",
       "    <tr>\n",
       "      <th>0</th>\n",
       "      <td>['facebook'</td>\n",
       "      <td>'react-native'</td>\n",
       "      <td>'nil'</td>\n",
       "      <td>'1'</td>\n",
       "      <td>'Closed'</td>\n",
       "      <td>'No; reviews'</td>\n",
       "      <td>'None yet'</td>\n",
       "      <td>'28/01/2015'</td>\n",
       "      <td>'sophiebits; closed this; Jan 29 2015'</td>\n",
       "      <td>'3 participants'</td>\n",
       "      <td>1</td>\n",
       "      <td>'robz   commented    Jan 28 2015    No descrip...</td>\n",
       "      <td>['\\n']]</td>\n",
       "    </tr>\n",
       "    <tr>\n",
       "      <th>1</th>\n",
       "      <td>['facebook'</td>\n",
       "      <td>'react-native'</td>\n",
       "      <td>'nil'</td>\n",
       "      <td>'1'</td>\n",
       "      <td>'Closed'</td>\n",
       "      <td>'No; reviews'</td>\n",
       "      <td>'None yet'</td>\n",
       "      <td>'28/01/2015'</td>\n",
       "      <td>'sophiebits; closed this; Jan 29 2015'</td>\n",
       "      <td>'3 participants'</td>\n",
       "      <td>2</td>\n",
       "      <td>'facebook-github-bot   commented    Mar 31 201...</td>\n",
       "      <td>['\\n']]</td>\n",
       "    </tr>\n",
       "    <tr>\n",
       "      <th>2</th>\n",
       "      <td>['facebook'</td>\n",
       "      <td>'react-native'</td>\n",
       "      <td>'`pthread.h` not found'</td>\n",
       "      <td>'2'</td>\n",
       "      <td>'Closed'</td>\n",
       "      <td>'No; one; assigned'</td>\n",
       "      <td>'Resolution: Locked'</td>\n",
       "      <td>'30/01/2015'</td>\n",
       "      <td>'vjeux; closed this; Jan 31 2015'</td>\n",
       "      <td>'4 participants'</td>\n",
       "      <td>1</td>\n",
       "      <td>'jlongster   commented    Jan 30 2015     To b...</td>\n",
       "      <td>['\\n']]</td>\n",
       "    </tr>\n",
       "    <tr>\n",
       "      <th>3</th>\n",
       "      <td>['facebook'</td>\n",
       "      <td>'react-native'</td>\n",
       "      <td>'`pthread.h` not found'</td>\n",
       "      <td>'2'</td>\n",
       "      <td>'Closed'</td>\n",
       "      <td>'No; one; assigned'</td>\n",
       "      <td>'Resolution: Locked'</td>\n",
       "      <td>'30/01/2015'</td>\n",
       "      <td>'vjeux; closed this; Jan 31 2015'</td>\n",
       "      <td>'4 participants'</td>\n",
       "      <td>2</td>\n",
       "      <td>'Contributor    vjeux   commented    Jan 30 20...</td>\n",
       "      <td>['\\n']]</td>\n",
       "    </tr>\n",
       "    <tr>\n",
       "      <th>4</th>\n",
       "      <td>['facebook'</td>\n",
       "      <td>'react-native'</td>\n",
       "      <td>'`pthread.h` not found'</td>\n",
       "      <td>'2'</td>\n",
       "      <td>'Closed'</td>\n",
       "      <td>'No; one; assigned'</td>\n",
       "      <td>'Resolution: Locked'</td>\n",
       "      <td>'30/01/2015'</td>\n",
       "      <td>'vjeux; closed this; Jan 31 2015'</td>\n",
       "      <td>'4 participants'</td>\n",
       "      <td>3</td>\n",
       "      <td>'Contributor    sophiebits   commented    Jan ...</td>\n",
       "      <td>['\\n']]</td>\n",
       "    </tr>\n",
       "  </tbody>\n",
       "</table>\n",
       "</div>"
      ],
      "text/plain": [
       "            0               1                        2    3         4   \\\n",
       "0  ['facebook'  'react-native'                    'nil'  '1'  'Closed'   \n",
       "1  ['facebook'  'react-native'                    'nil'  '1'  'Closed'   \n",
       "2  ['facebook'  'react-native'  '`pthread.h` not found'  '2'  'Closed'   \n",
       "3  ['facebook'  'react-native'  '`pthread.h` not found'  '2'  'Closed'   \n",
       "4  ['facebook'  'react-native'  '`pthread.h` not found'  '2'  'Closed'   \n",
       "\n",
       "                    5                     6             7   \\\n",
       "0        'No; reviews'            'None yet'  '28/01/2015'   \n",
       "1        'No; reviews'            'None yet'  '28/01/2015'   \n",
       "2  'No; one; assigned'  'Resolution: Locked'  '30/01/2015'   \n",
       "3  'No; one; assigned'  'Resolution: Locked'  '30/01/2015'   \n",
       "4  'No; one; assigned'  'Resolution: Locked'  '30/01/2015'   \n",
       "\n",
       "                                       8                 9  10  \\\n",
       "0  'sophiebits; closed this; Jan 29 2015'  '3 participants'  1   \n",
       "1  'sophiebits; closed this; Jan 29 2015'  '3 participants'  2   \n",
       "2       'vjeux; closed this; Jan 31 2015'  '4 participants'  1   \n",
       "3       'vjeux; closed this; Jan 31 2015'  '4 participants'  2   \n",
       "4       'vjeux; closed this; Jan 31 2015'  '4 participants'  3   \n",
       "\n",
       "                                                  11       12  \n",
       "0  'robz   commented    Jan 28 2015    No descrip...  ['\\n']]  \n",
       "1  'facebook-github-bot   commented    Mar 31 201...  ['\\n']]  \n",
       "2  'jlongster   commented    Jan 30 2015     To b...  ['\\n']]  \n",
       "3  'Contributor    vjeux   commented    Jan 30 20...  ['\\n']]  \n",
       "4  'Contributor    sophiebits   commented    Jan ...  ['\\n']]  "
      ]
     },
     "execution_count": 24,
     "metadata": {
      "tags": []
     },
     "output_type": "execute_result"
    }
   ],
   "source": [
    "pd.DataFrame(flatten(records_react), columns=['everything'])\\\n",
    ".everything.str.split(expand=True, pat=', ', n = 14).head()"
   ]
  },
  {
   "cell_type": "markdown",
   "metadata": {
    "id": "wxRwwg9r-hIQ",
    "colab_type": "text"
   },
   "source": [
    "#### tensorflow/tensorflow \n"
   ]
  },
  {
   "cell_type": "code",
   "execution_count": 0,
   "metadata": {
    "colab_type": "code",
    "id": "oM0NUSem-wra",
    "outputId": "bd06cf22-2e17-4505-bd09-4c26ffe6af1d",
    "colab": {
     "base_uri": "https://localhost:8080/",
     "height": 53.0
    }
   },
   "outputs": [
    {
     "name": "stdout",
     "output_type": "stream",
     "text": [
      "CPU times: user 10.2 s, sys: 4.35 s, total: 14.5 s\n",
      "Wall time: 2h 43min 17s\n"
     ]
    }
   ],
   "source": [
    "%%time\n",
    "with Pool(10) as p:\n",
    "  records_tftf = p.map(parse_issue, get_issue_links('tensorflow/tensorflow'))"
   ]
  },
  {
   "cell_type": "code",
   "execution_count": 0,
   "metadata": {
    "colab_type": "code",
    "id": "lNrOBNA--wrf",
    "colab": {}
   },
   "outputs": [],
   "source": [
    "pd.DataFrame(flatten(records_tftf), columns=['everything'])\\\n",
    ".everything.str.split(expand=True, pat=', ', n = 14).to_csv(PATH_TO_DATA + 'tensorflow_tensorflow.csv')"
   ]
  },
  {
   "cell_type": "markdown",
   "metadata": {
    "id": "5FTI8UJW-iLY",
    "colab_type": "text"
   },
   "source": [
    "#### angular/angular-cli\n",
    "Time: 43 min\n"
   ]
  },
  {
   "cell_type": "code",
   "execution_count": 0,
   "metadata": {
    "colab_type": "code",
    "id": "kYdOILKN-xFr",
    "outputId": "812ad2c5-9727-4c6b-cd9d-ecf29f0c70b8",
    "colab": {
     "base_uri": "https://localhost:8080/",
     "height": 53.0
    }
   },
   "outputs": [
    {
     "name": "stdout",
     "output_type": "stream",
     "text": [
      "CPU times: user 2.78 s, sys: 1.16 s, total: 3.95 s\n",
      "Wall time: 43min 10s\n"
     ]
    }
   ],
   "source": [
    "%%time\n",
    "with Pool(10) as p:\n",
    "  records_angcli = p.map(parse_issue, get_issue_links('angular/angular-cli'))"
   ]
  },
  {
   "cell_type": "code",
   "execution_count": 0,
   "metadata": {
    "id": "UyTi3Z5epuXN",
    "colab_type": "code",
    "outputId": "cc2ee5f9-beb9-434a-a6a5-2e6fd396d5f2",
    "colab": {
     "base_uri": "https://localhost:8080/",
     "height": 35.0
    }
   },
   "outputs": [
    {
     "data": {
      "text/plain": [
       "(14301, 75811)"
      ]
     },
     "execution_count": 18,
     "metadata": {
      "tags": []
     },
     "output_type": "execute_result"
    }
   ],
   "source": [
    "len(records_angcli), len(flatten(records_angcli))"
   ]
  },
  {
   "cell_type": "code",
   "execution_count": 0,
   "metadata": {
    "colab_type": "code",
    "id": "ezhALL3j-xFu",
    "colab": {}
   },
   "outputs": [],
   "source": [
    "pd.DataFrame(flatten(records_angcli), columns=['everything'])\\\n",
    ".everything.str.split(expand=True, pat=', ', n = 14).to_csv(PATH_TO_DATA + 'angular_angular_cli.csv')"
   ]
  },
  {
   "cell_type": "markdown",
   "metadata": {
    "id": "kH47_xYo-iT3",
    "colab_type": "text"
   },
   "source": [
    "#### MicrosoftDocs/azure-docs\n",
    "- already collected, also is a fast growing repo (member of both tops)"
   ]
  },
  {
   "cell_type": "code",
   "execution_count": 0,
   "metadata": {
    "colab_type": "code",
    "id": "RMLVA2GJ-xxL",
    "colab": {}
   },
   "outputs": [],
   "source": [
    "#%%time\n",
    "#with Pool(10) as p:\n",
    "#  records_azdoc = p.map(parse_issue, get_issue_links('MicrosoftDocs/azure-docs'))"
   ]
  },
  {
   "cell_type": "code",
   "execution_count": 0,
   "metadata": {
    "colab_type": "code",
    "id": "iGHe_MWQ-xxO",
    "colab": {}
   },
   "outputs": [],
   "source": [
    "#pd.DataFrame(flatten(records_azdoc), columns=['everything'])\\\n",
    "#.everything.str.split(expand=True, pat=', ', n = 14).to_csv(PATH_TO_DATA + 'MicrosoftDocs_azure_docs.csv')"
   ]
  },
  {
   "cell_type": "markdown",
   "metadata": {
    "id": "eqBCd4dy-idZ",
    "colab_type": "text"
   },
   "source": [
    "#### angular/angular \n",
    "Time: ?"
   ]
  },
  {
   "cell_type": "code",
   "execution_count": 0,
   "metadata": {
    "colab_type": "code",
    "id": "7RhrXDyA-yH-",
    "colab": {}
   },
   "outputs": [],
   "source": [
    "%%time\n",
    "with Pool(10) as p:\n",
    "  records_ang = p.map(parse_issue, get_issue_links('angular/angular'))"
   ]
  },
  {
   "cell_type": "code",
   "execution_count": 0,
   "metadata": {
    "colab_type": "code",
    "id": "W3uZsIck-yIC",
    "colab": {}
   },
   "outputs": [],
   "source": [
    "pd.DataFrame(flatten(records_ang), columns=['everything'])\\\n",
    ".everything.str.split(expand=True, pat=', ', n = 14).to_csv(PATH_TO_DATA + 'angular_angular.csv')"
   ]
  },
  {
   "cell_type": "markdown",
   "metadata": {
    "id": "YwPtMWX3-n5T",
    "colab_type": "text"
   },
   "source": [
    "#### ansible/ansible\n",
    "Time: 2 hours 52 min"
   ]
  },
  {
   "cell_type": "code",
   "execution_count": 0,
   "metadata": {
    "colab_type": "code",
    "id": "aWGCzFgG-y4z",
    "outputId": "d7a1d15f-258f-4992-fc46-255607fcb036",
    "colab": {
     "base_uri": "https://localhost:8080/",
     "height": 53.0
    }
   },
   "outputs": [
    {
     "name": "stdout",
     "output_type": "stream",
     "text": [
      "CPU times: user 9.69 s, sys: 4.28 s, total: 14 s\n",
      "Wall time: 2h 52min 30s\n"
     ]
    }
   ],
   "source": [
    "%%time\n",
    "with Pool(10) as p:\n",
    "  records_ansib = p.map(parse_issue, get_issue_links('ansible/ansible'))"
   ]
  },
  {
   "cell_type": "code",
   "execution_count": 0,
   "metadata": {
    "colab_type": "code",
    "id": "BqBQktpw-y43",
    "colab": {}
   },
   "outputs": [],
   "source": [
    "pd.DataFrame(flatten(records_ansib), columns=['everything'])\\\n",
    ".everything.str.split(expand=True, pat=', ', n = 14).to_csv(PATH_TO_DATA + 'ansible_ansible.csv')"
   ]
  },
  {
   "cell_type": "markdown",
   "metadata": {
    "id": "RmzBirkG-oEh",
    "colab_type": "text"
   },
   "source": [
    "#### kubernetes/kubernetes \n",
    "Time:  4 hours 26 min"
   ]
  },
  {
   "cell_type": "code",
   "execution_count": 0,
   "metadata": {
    "colab_type": "code",
    "id": "hTQVW_Sr-0F0",
    "outputId": "01778128-0679-42de-ccdb-7d8b21cd431b",
    "colab": {
     "base_uri": "https://localhost:8080/",
     "height": 53.0
    }
   },
   "outputs": [
    {
     "name": "stdout",
     "output_type": "stream",
     "text": [
      "CPU times: user 15.6 s, sys: 6.8 s, total: 22.4 s\n",
      "Wall time: 4h 26min 19s\n"
     ]
    }
   ],
   "source": [
    "%%time\n",
    "with Pool(10) as p:\n",
    "  records_kub = p.map(parse_issue, get_issue_links('kubernetes/kubernetes'))"
   ]
  },
  {
   "cell_type": "code",
   "execution_count": 0,
   "metadata": {
    "id": "Qzzm3yf6_zWB",
    "colab_type": "code",
    "outputId": "6e056eda-a315-42a9-88b6-ab74ad7ff206",
    "colab": {
     "base_uri": "https://localhost:8080/",
     "height": 35.0
    }
   },
   "outputs": [
    {
     "data": {
      "text/plain": [
       "(77182, 790596)"
      ]
     },
     "execution_count": 19,
     "metadata": {
      "tags": []
     },
     "output_type": "execute_result"
    }
   ],
   "source": [
    "len(records_kub), len(flatten(records_kub))"
   ]
  },
  {
   "cell_type": "code",
   "execution_count": 0,
   "metadata": {
    "colab_type": "code",
    "id": "sxSy92ES-0F5",
    "colab": {}
   },
   "outputs": [],
   "source": [
    "pd.DataFrame(flatten(records_kub), columns=['everything'])\\\n",
    ".everything.str.split(expand=True, pat=', ', n = 14).to_csv(PATH_TO_DATA + 'kubernetes_kubernetes.csv')"
   ]
  },
  {
   "cell_type": "markdown",
   "metadata": {
    "id": "Yh5XLAWA-r8v",
    "colab_type": "text"
   },
   "source": [
    "#### npm/npm\n",
    "Time:  51 min"
   ]
  },
  {
   "cell_type": "code",
   "execution_count": 0,
   "metadata": {
    "colab_type": "code",
    "id": "wmekBPaK-z0T",
    "outputId": "d6967254-e931-446a-8dc3-1ae103f44746",
    "colab": {
     "base_uri": "https://localhost:8080/",
     "height": 53.0
    }
   },
   "outputs": [
    {
     "name": "stdout",
     "output_type": "stream",
     "text": [
      "CPU times: user 3.56 s, sys: 2.04 s, total: 5.6 s\n",
      "Wall time: 51min 54s\n"
     ]
    }
   ],
   "source": [
    "%%time\n",
    "with Pool(10) as p:\n",
    "  records_npm = p.map(parse_issue, get_issue_links('npm/npm'))"
   ]
  },
  {
   "cell_type": "code",
   "execution_count": 0,
   "metadata": {
    "id": "02_902WduI_F",
    "colab_type": "code",
    "outputId": "390019c9-8f7f-49c2-9306-a625c91bbcc8",
    "colab": {
     "base_uri": "https://localhost:8080/",
     "height": 35.0
    }
   },
   "outputs": [
    {
     "data": {
      "text/plain": [
       "21209"
      ]
     },
     "execution_count": 38,
     "metadata": {
      "tags": []
     },
     "output_type": "execute_result"
    }
   ],
   "source": [
    "len(records_npm)"
   ]
  },
  {
   "cell_type": "code",
   "execution_count": 0,
   "metadata": {
    "colab_type": "code",
    "id": "8ONXgW5D-z0W",
    "colab": {}
   },
   "outputs": [],
   "source": [
    "pd.DataFrame(flatten(records_npm), columns=['everything'])\\\n",
    ".everything.str.split(expand=True, pat=', ', n = 14).to_csv(PATH_TO_DATA + 'npm_npm.csv')"
   ]
  },
  {
   "cell_type": "markdown",
   "metadata": {
    "id": "3SScRe15-n-7",
    "colab_type": "text"
   },
   "source": [
    "\n",
    "#### DefinitelyTyped/DefinitelyTyped\n",
    "Time: 2 hours 6 min"
   ]
  },
  {
   "cell_type": "code",
   "execution_count": 0,
   "metadata": {
    "colab_type": "code",
    "id": "8gSjRjH8-zgM",
    "outputId": "568c37d2-bbdc-4d33-f8a0-7a5ffa562af6",
    "colab": {
     "base_uri": "https://localhost:8080/",
     "height": 53.0
    }
   },
   "outputs": [
    {
     "name": "stdout",
     "output_type": "stream",
     "text": [
      "CPU times: user 9.99 s, sys: 3.99 s, total: 14 s\n",
      "Wall time: 2h 6min 22s\n"
     ]
    }
   ],
   "source": [
    "%%time\n",
    "with Pool(10) as p:\n",
    "  records_deftyp = p.map(parse_issue, get_issue_links('DefinitelyTyped/DefinitelyTyped'))"
   ]
  },
  {
   "cell_type": "code",
   "execution_count": 0,
   "metadata": {
    "id": "jW50K9W8mOf_",
    "colab_type": "code",
    "outputId": "ecf71754-e01f-4a1e-f4f6-2b4d97f89328",
    "colab": {
     "base_uri": "https://localhost:8080/",
     "height": 35.0
    }
   },
   "outputs": [
    {
     "data": {
      "text/plain": [
       "(35043, 145835)"
      ]
     },
     "execution_count": 32,
     "metadata": {
      "tags": []
     },
     "output_type": "execute_result"
    }
   ],
   "source": [
    "len(records_deftyp), len(flatten(records_deftyp))"
   ]
  },
  {
   "cell_type": "code",
   "execution_count": 0,
   "metadata": {
    "colab_type": "code",
    "id": "NQAvITrR-zgO",
    "colab": {}
   },
   "outputs": [],
   "source": [
    "pd.DataFrame(flatten(records_deftyp), columns=['everything'])\\\n",
    ".everything.str.split(expand=True, pat=', ', n = 14).to_csv(PATH_TO_DATA + 'DefinitelyTyped_DefinitelyTyped.csv')"
   ]
  }
 ],
 "metadata": {
  "colab": {
   "name": "GitHub_data_collection.ipynb",
   "version": "0.3.2",
   "provenance": [],
   "collapsed_sections": [
    "rLQupff5AEt_",
    "tGWXn3dhTKMb",
    "aMnmNeE0o2dZ",
    "tmw6MK-mU3ln",
    "UrHoNU70oV17",
    "qhX_bu2hAPK1",
    "cSd66RfHAVtS",
    "zNfRQattAYRR"
   ]
  },
  "kernelspec": {
   "name": "python3",
   "display_name": "Python 3"
  }
 },
 "nbformat": 4,
 "nbformat_minor": 0
}
