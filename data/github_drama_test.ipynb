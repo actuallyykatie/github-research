{
  "nbformat": 4,
  "nbformat_minor": 0,
  "metadata": {
    "colab": {
      "name": "github-drama_test.ipynb",
      "version": "0.3.2",
      "provenance": []
    },
    "kernelspec": {
      "name": "python3",
      "display_name": "Python 3"
    }
  },
  "cells": [
    {
      "metadata": {
        "id": "6-ez2PMRgu1J",
        "colab_type": "text"
      },
      "cell_type": "markdown",
      "source": [
        "# Data collection //  Test \n",
        "Small part of data gathered from repositories listed in github-drama. Only issues, for now c:"
      ]
    },
    {
      "metadata": {
        "id": "LMu4B1_hQ9kI",
        "colab_type": "code",
        "colab": {}
      },
      "cell_type": "code",
      "source": [
        "#!pip install PyGithub"
      ],
      "execution_count": 0,
      "outputs": []
    },
    {
      "metadata": {
        "id": "2whQNkU5SfDO",
        "colab_type": "code",
        "colab": {}
      },
      "cell_type": "code",
      "source": [
        "import csv\n",
        "import json\n",
        "import os\n",
        "import pickle\n",
        "import pandas as pd\n",
        "from github import Github\n",
        "from random import randint\n",
        "from time import sleep"
      ],
      "execution_count": 0,
      "outputs": []
    },
    {
      "metadata": {
        "id": "rbFUB6A0i_2J",
        "colab_type": "code",
        "colab": {}
      },
      "cell_type": "code",
      "source": [
        "PATH_TO_DATA = '/content/drive/My Drive/'"
      ],
      "execution_count": 0,
      "outputs": []
    },
    {
      "metadata": {
        "colab_type": "code",
        "id": "NVRLqYT3hIee",
        "colab": {}
      },
      "cell_type": "code",
      "source": [
        "g = Github(client_id='CLIENT_ID',  # insert\n",
        "           client_secret='CLIENT_SECRET')"
      ],
      "execution_count": 0,
      "outputs": []
    },
    {
      "metadata": {
        "id": "cUYT8u79UUkt",
        "colab_type": "text"
      },
      "cell_type": "markdown",
      "source": [
        "Test:"
      ]
    },
    {
      "metadata": {
        "colab_type": "code",
        "outputId": "daa48323-8cd6-4680-b1b1-2f3ba11ef3b6",
        "id": "J0am9TkFhIej",
        "colab": {
          "base_uri": "https://localhost:8080/",
          "height": 35
        }
      },
      "cell_type": "code",
      "source": [
        "repo = g.get_repo(\"PyGithub/PyGithub\")\n",
        "repo.get_issue(number=874)\n",
        "# Issue(title=\"PyGithub example usage\", number=874)  <- works"
      ],
      "execution_count": 0,
      "outputs": [
        {
          "output_type": "execute_result",
          "data": {
            "text/plain": [
              "Issue(title=\"PyGithub example usage\", number=874)"
            ]
          },
          "metadata": {
            "tags": []
          },
          "execution_count": 3
        }
      ]
    },
    {
      "metadata": {
        "id": "VUaws9v8fQKt",
        "colab_type": "text"
      },
      "cell_type": "markdown",
      "source": [
        "# a bit about methods"
      ]
    },
    {
      "metadata": {
        "id": "AnPHW2mIj4L1",
        "colab_type": "text"
      },
      "cell_type": "markdown",
      "source": [
        "https://github.com/nikolas/github-drama/blob/master/README.md   \n",
        "(Going to ignore pull requests for now)"
      ]
    },
    {
      "metadata": {
        "id": "EPq8xfs6fegl",
        "colab_type": "code",
        "colab": {}
      },
      "cell_type": "code",
      "source": [
        "# чтобы вернуть нужные методы (которые без _)\n",
        "def small_dir(obj):\n",
        "  return [x for x in dir(obj) if not x.startswith('_')]"
      ],
      "execution_count": 0,
      "outputs": []
    },
    {
      "metadata": {
        "id": "vaCfPnTOfR3B",
        "colab_type": "code",
        "outputId": "7ddcd15c-286b-43b2-8cd5-c9fd3273f377",
        "colab": {
          "base_uri": "https://localhost:8080/",
          "height": 3329
        }
      },
      "cell_type": "code",
      "source": [
        "repo = g.get_repo('ambv/black')  # 1st repo from github-drama list\n",
        "small_dir(repo)"
      ],
      "execution_count": 0,
      "outputs": [
        {
          "output_type": "execute_result",
          "data": {
            "text/plain": [
              "['CHECK_AFTER_INIT_FLAG',\n",
              " 'add_to_collaborators',\n",
              " 'allow_merge_commit',\n",
              " 'allow_rebase_merge',\n",
              " 'allow_squash_merge',\n",
              " 'archive_url',\n",
              " 'archived',\n",
              " 'assignees_url',\n",
              " 'blobs_url',\n",
              " 'branches_url',\n",
              " 'clone_url',\n",
              " 'collaborators_url',\n",
              " 'comments_url',\n",
              " 'commits_url',\n",
              " 'compare',\n",
              " 'compare_url',\n",
              " 'contents_url',\n",
              " 'contributors_url',\n",
              " 'create_file',\n",
              " 'create_git_blob',\n",
              " 'create_git_commit',\n",
              " 'create_git_ref',\n",
              " 'create_git_release',\n",
              " 'create_git_tag',\n",
              " 'create_git_tag_and_release',\n",
              " 'create_git_tree',\n",
              " 'create_hook',\n",
              " 'create_issue',\n",
              " 'create_key',\n",
              " 'create_label',\n",
              " 'create_milestone',\n",
              " 'create_project',\n",
              " 'create_pull',\n",
              " 'create_source_import',\n",
              " 'created_at',\n",
              " 'default_branch',\n",
              " 'delete',\n",
              " 'delete_file',\n",
              " 'description',\n",
              " 'downloads_url',\n",
              " 'edit',\n",
              " 'etag',\n",
              " 'events_url',\n",
              " 'fork',\n",
              " 'forks',\n",
              " 'forks_count',\n",
              " 'forks_url',\n",
              " 'full_name',\n",
              " 'get__repr__',\n",
              " 'get_archive_link',\n",
              " 'get_assignees',\n",
              " 'get_branch',\n",
              " 'get_branches',\n",
              " 'get_clones_traffic',\n",
              " 'get_collaborator_permission',\n",
              " 'get_collaborators',\n",
              " 'get_comment',\n",
              " 'get_comments',\n",
              " 'get_commit',\n",
              " 'get_commits',\n",
              " 'get_contents',\n",
              " 'get_contributors',\n",
              " 'get_dir_contents',\n",
              " 'get_download',\n",
              " 'get_downloads',\n",
              " 'get_events',\n",
              " 'get_file_contents',\n",
              " 'get_forks',\n",
              " 'get_git_blob',\n",
              " 'get_git_commit',\n",
              " 'get_git_ref',\n",
              " 'get_git_refs',\n",
              " 'get_git_tag',\n",
              " 'get_git_tree',\n",
              " 'get_hook',\n",
              " 'get_hooks',\n",
              " 'get_issue',\n",
              " 'get_issues',\n",
              " 'get_issues_comments',\n",
              " 'get_issues_event',\n",
              " 'get_issues_events',\n",
              " 'get_key',\n",
              " 'get_keys',\n",
              " 'get_label',\n",
              " 'get_labels',\n",
              " 'get_languages',\n",
              " 'get_latest_release',\n",
              " 'get_license',\n",
              " 'get_milestone',\n",
              " 'get_milestones',\n",
              " 'get_network_events',\n",
              " 'get_projects',\n",
              " 'get_pull',\n",
              " 'get_pulls',\n",
              " 'get_pulls_comments',\n",
              " 'get_pulls_review_comments',\n",
              " 'get_readme',\n",
              " 'get_release',\n",
              " 'get_release_asset',\n",
              " 'get_releases',\n",
              " 'get_source_import',\n",
              " 'get_stargazers',\n",
              " 'get_stargazers_with_dates',\n",
              " 'get_stats_code_frequency',\n",
              " 'get_stats_commit_activity',\n",
              " 'get_stats_contributors',\n",
              " 'get_stats_participation',\n",
              " 'get_stats_punch_card',\n",
              " 'get_subscribers',\n",
              " 'get_tags',\n",
              " 'get_teams',\n",
              " 'get_top_paths',\n",
              " 'get_top_referrers',\n",
              " 'get_topics',\n",
              " 'get_views_traffic',\n",
              " 'get_watchers',\n",
              " 'git_commits_url',\n",
              " 'git_refs_url',\n",
              " 'git_tags_url',\n",
              " 'git_url',\n",
              " 'has_downloads',\n",
              " 'has_in_assignees',\n",
              " 'has_in_collaborators',\n",
              " 'has_issues',\n",
              " 'has_projects',\n",
              " 'has_wiki',\n",
              " 'homepage',\n",
              " 'hooks_url',\n",
              " 'html_url',\n",
              " 'id',\n",
              " 'issue_comment_url',\n",
              " 'issue_events_url',\n",
              " 'issues_url',\n",
              " 'keys_url',\n",
              " 'labels_url',\n",
              " 'language',\n",
              " 'languages_url',\n",
              " 'last_modified',\n",
              " 'legacy_search_issues',\n",
              " 'mark_notifications_as_read',\n",
              " 'master_branch',\n",
              " 'merge',\n",
              " 'merges_url',\n",
              " 'milestones_url',\n",
              " 'mirror_url',\n",
              " 'name',\n",
              " 'network_count',\n",
              " 'notifications_url',\n",
              " 'open_issues',\n",
              " 'open_issues_count',\n",
              " 'organization',\n",
              " 'owner',\n",
              " 'parent',\n",
              " 'permissions',\n",
              " 'private',\n",
              " 'pulls_url',\n",
              " 'pushed_at',\n",
              " 'raw_data',\n",
              " 'raw_headers',\n",
              " 'remove_from_collaborators',\n",
              " 'replace_topics',\n",
              " 'setCheckAfterInitFlag',\n",
              " 'size',\n",
              " 'source',\n",
              " 'ssh_url',\n",
              " 'stargazers_count',\n",
              " 'stargazers_url',\n",
              " 'statuses_url',\n",
              " 'subscribe_to_hub',\n",
              " 'subscribers_count',\n",
              " 'subscribers_url',\n",
              " 'subscription_url',\n",
              " 'svn_url',\n",
              " 'tags_url',\n",
              " 'teams_url',\n",
              " 'topics',\n",
              " 'trees_url',\n",
              " 'unsubscribe_from_hub',\n",
              " 'update',\n",
              " 'update_file',\n",
              " 'updated_at',\n",
              " 'url',\n",
              " 'watchers',\n",
              " 'watchers_count']"
            ]
          },
          "metadata": {
            "tags": []
          },
          "execution_count": 131
        }
      ]
    },
    {
      "metadata": {
        "id": "9UHKKxWFgMK4",
        "colab_type": "text"
      },
      "cell_type": "markdown",
      "source": [
        "Можно, например, получить имя юзера, описание репозитория, логин автора, язык (программирования конечно же), список контрибьюторов и тд и тп"
      ]
    },
    {
      "metadata": {
        "id": "_8WLT7bRfi-y",
        "colab_type": "code",
        "outputId": "669bd979-1fe9-488c-9618-1d0a22c2542f",
        "colab": {
          "base_uri": "https://localhost:8080/",
          "height": 107
        }
      },
      "cell_type": "code",
      "source": [
        "print(repo.name)\n",
        "print(repo.description)\n",
        "print(repo.owner.login)\n",
        "#print(repo.organization.name)\n",
        "print(repo.language)\n",
        "print(repo.get_contributors())"
      ],
      "execution_count": 0,
      "outputs": [
        {
          "output_type": "stream",
          "text": [
            "black\n",
            "The uncompromising Python code formatter\n",
            "ambv\n",
            "Python\n",
            "<github.PaginatedList.PaginatedList object at 0x7f51b95f5c88>\n"
          ],
          "name": "stdout"
        }
      ]
    },
    {
      "metadata": {
        "id": "G0JxKBYBiCqM",
        "colab_type": "code",
        "colab": {}
      },
      "cell_type": "code",
      "source": [
        ""
      ],
      "execution_count": 0,
      "outputs": []
    },
    {
      "metadata": {
        "id": "T9R8DDymhL4_",
        "colab_type": "text"
      },
      "cell_type": "markdown",
      "source": [
        "## drama url list\n",
        "Теперь нужно как-то собрать нужные из списка issues, не собирать же вообще всё и не разбирать лапками. Ох.  \n",
        "Upd: вместо url можно сразу взять нужный кусок после, что и делается далее"
      ]
    },
    {
      "metadata": {
        "id": "YrdEYKv-H3jk",
        "colab_type": "code",
        "colab": {}
      },
      "cell_type": "code",
      "source": [
        "#drama_urls = ['opencart/opencart/issues/3834', 'opencart/opencart/issues/1534']\n",
        "#drama_urls = ['ambv/black/issues/118']"
      ],
      "execution_count": 0,
      "outputs": []
    },
    {
      "metadata": {
        "id": "YvLXLk8nDptj",
        "colab_type": "code",
        "colab": {}
      },
      "cell_type": "code",
      "source": [
        "drama_urls = ['ambv/black/issues/118', 'ant-design/ant-design/issues/13098', 'ariya/phantomjs/issues/15345', \n",
        "              'aspnet/Home/issues/2022', 'atom-minimap/minimap/issues/588', 'bower/bower/issues/1102', \n",
        "              'dear-github/dear-github/issues/107', 'docker/docker.github.io/issues/6910', 'docker/for-mac/issues/1120',\n",
        "              'dominictarr/event-stream/issues/116', 'dotnet/cli/issues/3093', 'dotnet/csharplang/issues/993', 'facebook/react/issues/10191', \n",
        "              'flutter/flutter/issues/11609', 'golang/go/issues/21956', 'google/googletest/issues/1660', 'google/googletest/issues/1666',\n",
        "              'grimfang4/sdl-gpu/issues/2', 'Homebrew/homebrew-services/issues/151', 'Homebrew/legacy-homebrew/issues/50683', \n",
        "              'irungentoo/toxcore/issues/1227', 'jashkenas/underscore/issues/1805', 'jasperla/openbsd-wip/issues/86', \n",
        "              'jdm-contrib/justdelete.me/issues/86', 'joyent/libuv/pull/1015', 'JuliaLang/IJulia.jl/issues/398',\n",
        "              'kenwheeler/slick/issues/681', 'kmmbvnr/django-jenkins/issues/349', 'kraih/mojo/issues/656',\n",
        "              'Microsoft/web-build-tools/issues/673', 'Microsoft/vscode/issues/32405', 'Microsoft/vscode/issues/54261', \n",
        "              'mishoo/UglifyJS2/issues/2054', 'moment/moment/issues/1407' , 'MrMEEE/bumblebee-Old-and-abbandoned/issues/123', \n",
        "              'NixOS/nixpkgs/issues/4952', 'nodejs/inclusivity/issues/9', 'nodejs/node/issues/3721', 'nodejs/node/pull/4765',\n",
        "              'nodejs/TSC/issues/8', 'npm/npm/issues/19883', 'opal/opal/issues/941', 'opencart/opencart/issues/1269',\n",
        "              'opencart/opencart/issues/3834', 'opencart/opencart/issues/1534', 'palantir/tslint/issues/4132',\n",
        "              'palantir/tslint/issues/4140', 'palantir/tslint/issues/4141', 'P-H-C/phc-winner-argon2/issues/182',\n",
        "              'PiotrGrochowski/Consolas/issues/1', 'promises-aplus/promises-spec/issues/94','pypa/pipenv/issues/1050',\n",
        "              'rails/rails/issues/9894', 'resque/resque/issues/1406', 'stevemao/left-pad/issues/4',\n",
        "              'strongloop/loopback/issues/1079', 'systemd/systemd/issues/1143', 'systemd/systemd/issues/2402',\n",
        "              'systemd/systemd/issues/5644', 'systemd/systemd/issues/6237', 'tc39/proposal-cancelable-promises/issues/70',\n",
        "              'telegramdesktop/tdesktop/issues/96', 'tip4commit/tip4commit/issues/127', 'twbs/bootstrap/issues/3057',\n",
        "              'twitter/scrooge/issues/222', 'ValveSoftware/steam-for-linux/issues/3671', 'ValveSoftware/Source-1-Games/issues/2475',\n",
        "              'vcflib/vcflib/issues/206', 'vimeo/player.js/issues/28', 'WhisperSystems/Signal-Android/issues/127',\n",
        "              'WICG/interventions/issues/18']"
      ],
      "execution_count": 0,
      "outputs": []
    },
    {
      "metadata": {
        "id": "vuvPYHmiRkYF",
        "colab_type": "code",
        "colab": {}
      },
      "cell_type": "code",
      "source": [
        "drama_dict = {}\n",
        "\n",
        "for link in drama_urls:\n",
        "  #_garbage, _space, _github_adr, org, repo_name, issues, issue_number = link.split('/')\n",
        "  org, repo_name, _issue, issue_number = link.split('/')\n",
        "  \n",
        "  if str(org + '/' + repo_name) in drama_dict.keys():\n",
        "    existing_issue = {}\n",
        "    existing_issue = drama_dict[str(org + '/' + repo_name)]['issues'] \n",
        "    existing_issue_key = list(existing_issue.keys())[0]\n",
        "    \n",
        "    issues_upd = { issue_number : {'org' : org,\n",
        "                                   'repo' : repo_name,\n",
        "                                   'issue_number' : int(issue_number)},\n",
        "                   existing_issue_key : existing_issue[existing_issue_key]}\n",
        "\n",
        "    drama_dict[str(org + '/' + repo_name)] = {'issues' : issues_upd}\n",
        "\n",
        "  else:\n",
        "    issues = {}\n",
        "    issues[issue_number] = {'org' : org,\n",
        "                            'repo' : repo_name, \n",
        "                            'issue_number' : int(issue_number)\n",
        "                           }\n",
        "    drama_dict[str(org + '/' + repo_name)] = {'issues' : issues}\n",
        "\n",
        "#drama_dict  "
      ],
      "execution_count": 0,
      "outputs": []
    },
    {
      "metadata": {
        "id": "j66x5E1lxrHX",
        "colab_type": "code",
        "outputId": "04e0fcc0-91be-47b6-e5e7-c4a05883a908",
        "colab": {
          "base_uri": "https://localhost:8080/",
          "height": 55
        }
      },
      "cell_type": "code",
      "source": [
        "drama_dict.keys()"
      ],
      "execution_count": 0,
      "outputs": [
        {
          "output_type": "execute_result",
          "data": {
            "text/plain": [
              "dict_keys(['ambv/black', 'ant-design/ant-design', 'ariya/phantomjs', 'aspnet/Home', 'atom-minimap/minimap', 'bower/bower', 'dear-github/dear-github', 'docker/docker.github.io', 'docker/for-mac', 'dominictarr/event-stream', 'dotnet/cli', 'dotnet/csharplang', 'facebook/react', 'flutter/flutter', 'golang/go', 'google/googletest', 'grimfang4/sdl-gpu', 'Homebrew/homebrew-services', 'Homebrew/legacy-homebrew', 'irungentoo/toxcore', 'jashkenas/underscore', 'jasperla/openbsd-wip', 'jdm-contrib/justdelete.me', 'joyent/libuv', 'JuliaLang/IJulia.jl', 'kenwheeler/slick', 'kmmbvnr/django-jenkins', 'kraih/mojo', 'Microsoft/web-build-tools', 'Microsoft/vscode', 'mishoo/UglifyJS2', 'moment/moment', 'MrMEEE/bumblebee-Old-and-abbandoned', 'NixOS/nixpkgs', 'nodejs/inclusivity', 'nodejs/node', 'nodejs/TSC', 'npm/npm', 'opal/opal', 'opencart/opencart', 'palantir/tslint', 'P-H-C/phc-winner-argon2', 'PiotrGrochowski/Consolas', 'promises-aplus/promises-spec', 'pypa/pipenv', 'rails/rails', 'resque/resque', 'stevemao/left-pad', 'strongloop/loopback', 'systemd/systemd', 'tc39/proposal-cancelable-promises', 'telegramdesktop/tdesktop', 'tip4commit/tip4commit', 'twbs/bootstrap', 'twitter/scrooge', 'ValveSoftware/steam-for-linux', 'ValveSoftware/Source-1-Games', 'vcflib/vcflib', 'vimeo/player.js', 'WhisperSystems/Signal-Android', 'WICG/interventions'])"
            ]
          },
          "metadata": {
            "tags": []
          },
          "execution_count": 81
        }
      ]
    },
    {
      "metadata": {
        "id": "CE4WkN4h5yV2",
        "colab_type": "text"
      },
      "cell_type": "markdown",
      "source": [
        "## final data\n",
        "Получается примерно вот такая структура:  \n",
        "1. адрес репозитория + номер issue  \n",
        "    a. `state` - статус issue    \n",
        "    b. `text` - текст проблемы   \n",
        "    c.  `comments` - секция комментариев   \n",
        "        - `comment_id` - айди коммента  \n",
        "        - `comment_body` - текст коммента  \n",
        "        - `user_login` - автор коммента\n",
        "2. адрес репозитория + номер issue  \n",
        "    a. `state` - статус issue  -   \n",
        "    b. `text` - текст проблемы      \n",
        "    c.  `comments` - секция комментариев  \n",
        "        - `comment_id` - айди коммента\n",
        "        - `comment_body` - текст коммента\n",
        "        - `user_login` - автор коммента\n",
        "и т.д.\n",
        "\n",
        "\n",
        "\n"
      ]
    },
    {
      "metadata": {
        "id": "ICnKN5x5jigj",
        "colab_type": "code",
        "outputId": "0f1e4b3d-def5-4cf6-b190-f87f03ebdd34",
        "colab": {
          "base_uri": "https://localhost:8080/",
          "height": 53
        }
      },
      "cell_type": "code",
      "source": [
        "%%time\n",
        "drama_comments = {}\n",
        "\n",
        "for repository, info in drama_dict.items():\n",
        "  \n",
        "  repo = g.get_repo(repository)\n",
        "  sleep(randint(1, 10))  # поспать чтобы не забанили, кек\n",
        "  \n",
        "  issues_info = {}\n",
        "  for issue_number in info['issues'].keys():\n",
        "    try:\n",
        "      issue = repo.get_issue(number = int(issue_number))\n",
        "      issue_comments = issue.get_comments()\n",
        "      \n",
        "      comments_dict = {}\n",
        "      # для каждого коммента собираем автора, текст, дату создания, полученные реакции \n",
        "      # (плюсики, сердечки, всё как мы любим)\n",
        "      for comment in issue_comments:\n",
        "        #reactions = {}\n",
        "        ### NEEDS FIX ###\n",
        "        #for reaction in comment.get_reactions():\n",
        "        #  reactions['reactions'] = reaction.content \n",
        "        #################\n",
        "        comments_dict[comment.id] = {'user_login' : comment.user.login,\n",
        "                                     'comment_body' : comment.body, \n",
        "                                     'created_at': comment.created_at \n",
        "                                     #,'reactions' : reactions\n",
        "                                    }\n",
        "      # обновляем инфу для пары repo_issue\n",
        "      # - добавляем название, текст, статус, дату создания, изменения, автора и текст issue\n",
        "      \n",
        "      drama_comments[repository + '_' + str(issue_number)] = {'issue_title' : issue.title,\n",
        "                                                              'issue_text' : issue.body,\n",
        "                                                              'issue_state' : issue.state, \n",
        "                                                              'issue_user_login' : issue.user,\n",
        "                                                              'issue_created_at': issue.created_at,\n",
        "                                                              'last_modified': issue.last_modified,\n",
        "                                                              'comments' : comments_dict}\n",
        "      sleep(randint(1, 3))\n",
        "    except:  # UnknownObjectException\n",
        "      pass\n",
        "    \n",
        "#drama_comments"
      ],
      "execution_count": 0,
      "outputs": [
        {
          "output_type": "stream",
          "text": [
            "CPU times: user 29.6 s, sys: 1.34 s, total: 31 s\n",
            "Wall time: 41min 41s\n"
          ],
          "name": "stdout"
        }
      ]
    },
    {
      "metadata": {
        "id": "Rvt2OelM_cY-",
        "colab_type": "code",
        "outputId": "0860d6c3-44bf-4605-cbde-0d146c99a576",
        "colab": {
          "base_uri": "https://localhost:8080/",
          "height": 71
        }
      },
      "cell_type": "code",
      "source": [
        "for el in ['issue_state', 'issue_created_at', 'last_modified']:\n",
        "  print(drama_comments['ambv/black_118'][el])"
      ],
      "execution_count": 0,
      "outputs": [
        {
          "output_type": "stream",
          "text": [
            "closed\n",
            "2018-04-09 09:50:50\n",
            "Wed, 20 Feb 2019 11:24:32 GMT\n"
          ],
          "name": "stdout"
        }
      ]
    },
    {
      "metadata": {
        "id": "Ur8b7Sotc5gQ",
        "colab_type": "code",
        "outputId": "16165839-d5dc-4060-8190-194b424e3138",
        "colab": {
          "base_uri": "https://localhost:8080/",
          "height": 35
        }
      },
      "cell_type": "code",
      "source": [
        "len(drama_comments.keys())"
      ],
      "execution_count": 0,
      "outputs": [
        {
          "output_type": "execute_result",
          "data": {
            "text/plain": [
              "65"
            ]
          },
          "metadata": {
            "tags": []
          },
          "execution_count": 13
        }
      ]
    },
    {
      "metadata": {
        "id": "vzjt5BzixFV9",
        "colab_type": "code",
        "colab": {}
      },
      "cell_type": "code",
      "source": [
        "#with open(os.path.join(PATH_TO_DATA, 'drama_comments.txt'), 'wb') as f: \n",
        "#  f.write(pickle.dumps(drama_comments))"
      ],
      "execution_count": 0,
      "outputs": []
    },
    {
      "metadata": {
        "id": "7yM6RwgSzLFf",
        "colab_type": "code",
        "colab": {}
      },
      "cell_type": "code",
      "source": [
        "infile = open(os.path.join(PATH_TO_DATA, 'drama_comments.txt'),'rb')\n",
        "dc = pickle.load(infile, encoding='bytes')\n"
      ],
      "execution_count": 0,
      "outputs": []
    },
    {
      "metadata": {
        "id": "ngSyzq9qzlfA",
        "colab_type": "code",
        "outputId": "8b151876-1636-4bb8-f973-940fa72eb0d7",
        "colab": {
          "base_uri": "https://localhost:8080/",
          "height": 35
        }
      },
      "cell_type": "code",
      "source": [
        "len(dc.keys())"
      ],
      "execution_count": 10,
      "outputs": [
        {
          "output_type": "execute_result",
          "data": {
            "text/plain": [
              "65"
            ]
          },
          "metadata": {
            "tags": []
          },
          "execution_count": 10
        }
      ]
    },
    {
      "metadata": {
        "id": "cTN4-FHlkqHz",
        "colab_type": "text"
      },
      "cell_type": "markdown",
      "source": [
        "Отдельный датасет для комментов, потому что всё, что выше, в джсон залезать не хочет (если вдруг в R надо...)"
      ]
    },
    {
      "metadata": {
        "id": "GRiriNa_1XOT",
        "colab_type": "code",
        "colab": {}
      },
      "cell_type": "code",
      "source": [
        "comments = list()\n",
        "for repo_name_issue in dc.keys():\n",
        "  for key in dc[repo_name_issue]['comments'].keys():\n",
        "    comments.append(dc[repo_name_issue]['comments'][key]['comment_body'])"
      ],
      "execution_count": 0,
      "outputs": []
    },
    {
      "metadata": {
        "id": "ifv5QMy92fhj",
        "colab_type": "code",
        "outputId": "01ad0a69-5c81-4286-b2bb-e0a2be1362b4",
        "colab": {
          "base_uri": "https://localhost:8080/",
          "height": 35
        }
      },
      "cell_type": "code",
      "source": [
        "len(comments)"
      ],
      "execution_count": 12,
      "outputs": [
        {
          "output_type": "execute_result",
          "data": {
            "text/plain": [
              "6842"
            ]
          },
          "metadata": {
            "tags": []
          },
          "execution_count": 12
        }
      ]
    },
    {
      "metadata": {
        "id": "PyUFIsJ_6PRF",
        "colab_type": "code",
        "outputId": "cee26e3d-be7b-4829-d267-35a2fe87b6ad",
        "colab": {
          "base_uri": "https://localhost:8080/",
          "height": 55
        }
      },
      "cell_type": "code",
      "source": [
        "comments[0]"
      ],
      "execution_count": 13,
      "outputs": [
        {
          "output_type": "execute_result",
          "data": {
            "text/plain": [
              "\"I'm not a maintainer just an interested user, I respectfully voted down because I think black's power is to annihilate all these small discussions forever. Out of curiosity are there objective reasons that you need to stick with single-quotes?\""
            ]
          },
          "metadata": {
            "tags": []
          },
          "execution_count": 13
        }
      ]
    },
    {
      "metadata": {
        "id": "avtG6ySAl9FK",
        "colab_type": "text"
      },
      "cell_type": "markdown",
      "source": [
        "some :fire:"
      ]
    },
    {
      "metadata": {
        "id": "at_Q5zYtlWZT",
        "colab_type": "code",
        "colab": {
          "base_uri": "https://localhost:8080/",
          "height": 1009
        },
        "outputId": "cbce7d88-5c08-4bdb-8237-00c1c1a71340"
      },
      "cell_type": "code",
      "source": [
        "print([x for x in comments if 'fuck' in x][0])"
      ],
      "execution_count": 21,
      "outputs": [
        {
          "output_type": "stream",
          "text": [
            "> I really did care about PhantomJS\r\n",
            "\r\n",
            "What you care about is your recognition, your fame, and your stats.\r\n",
            "\r\n",
            "https://github.com/ariya/phantomjs/commits?author=pixiuPL\r\n",
            "\r\n",
            "Delete/Readd **Entire** Repo (Boosted you to # 4 contributor):\r\n",
            "- https://github.com/ariya/phantomjs/commit/a242fb8d605d9aa4afe5bf8d1267c1ded15f157c\r\n",
            "- https://github.com/ariya/phantomjs/commit/ddaaa09785d453e41554fd6133a2054c659a317f\r\n",
            "\r\n",
            "Deleting/Adding PR's (Stat Boost):\r\n",
            "- https://github.com/ariya/phantomjs/pull/13660 https://github.com/ariya/phantomjs/commit/40699ec4d645265144036263de3ea98481257939 https://github.com/ariya/phantomjs/commit/fcbc946e66b6ee53da69bd7c7d9f76e9601e7911\r\n",
            "\r\n",
            "\"PR Fixes\" (Literally Stealing)[&Broken Commits]:\r\n",
            "- https://github.com/ariya/phantomjs/pull/12090 https://github.com/ariya/phantomjs/commit/bad3237b1120405efddac759a71a46dde0d3936f https://github.com/ariya/phantomjs/commit/ca5a6c377d408366d0d4b8ecf4539b628420c8f1\r\n",
            "- https://github.com/ariya/phantomjs/pull/11373 https://github.com/ariya/phantomjs/commit/cc7f94909421d97742d2aeaf1e2fdbb365f5a028 https://github.com/ariya/phantomjs/commit/695c3c0b3d0a8b4be33a59e44d087fffc420c127\r\n",
            "- https://github.com/ariya/phantomjs/pull/13834 https://github.com/ariya/phantomjs/commit/8d971000d84ae8ea9bfcde98a8b1b0e3f180075a https://github.com/ariya/phantomjs/commit/af89fbd125476dc82e86a4056e53a20e430b8bc8\r\n",
            "\r\n",
            "Commits \"Refactoring\" (Some of these made it even harder to read):\r\n",
            "- https://github.com/ariya/phantomjs/commit/2c162ceb22ce35158bcc2a34e40c33a703eab1e7\r\n",
            "- https://github.com/ariya/phantomjs/commit/a81a38ffabe2cea715ff1c6ab9425f006c3eb166\r\n",
            "- https://github.com/ariya/phantomjs/commit/970edb9b683175a6b1f22fb77bff4fbbda957a19\r\n",
            "- https://github.com/ariya/phantomjs/commit/6250e772a49383af869cb31f2a5a9e185c26a7a8\r\n",
            "- https://github.com/ariya/phantomjs/commit/811593a4d4c6ace5184a744eab1cf43999dad2f0\r\n",
            "- https://github.com/ariya/phantomjs/commit/52e4849a36c68b15c6f08c6a8f74a9bd2f134722\r\n",
            "- https://github.com/ariya/phantomjs/commit/b586cf21e3cf667cfd35d87093946a4b0f9a1bb3\r\n",
            "\r\n",
            "Straight Up Broken Commits:\r\n",
            "- https://github.com/ariya/phantomjs/commit/f94b7e52c569ca04d0d350a02f7b7b0e926e7c1c\r\n",
            "- https://github.com/ariya/phantomjs/commit/f5ba2434fd3b718286be9051aef026be55f7066c\r\n",
            "\r\n",
            "There is so much bullshit that I got tired of looking for them, do you even look at the shit you are committing?\r\n",
            "\r\n",
            ">  I’m resigning from position of collaborator\r\n",
            "\r\n",
            "Please fucking do\r\n",
            "\r\n",
            "> just received message from Ariya on Skype asking me to respect his privacy. I allegedly not respected his privacy by giving out vague information about reason of his absence (REDACTED).\r\n",
            "\r\n",
            "Are you kidding me, there's no reason in the world should you bring up his own personal issues.\r\n",
            "\r\n",
            "> Stay tuned for more to come….\r\n",
            "\r\n",
            "Now you are just seeking for attention.\r\n",
            "\r\n",
            "https://github.com/ariya/phantomjs/blob/master/CODE_OF_CONDUCT.md#enforcement\r\n",
            "\r\n",
            "> Instances of abusive, harassing, or otherwise unacceptable behavior may be reported by contacting the project team at devs4@protonmail.com. The project team will review and investigate all complaints\r\n",
            "\r\n",
            "Really? The project team, then putting your own personal email? You act like you are doing all the work when you are actually stealing.\r\n",
            "\r\n",
            "https://github.com/ariya/phantomjs/blob/bbbd0c073b29e3932ea7956b06c7ee439437d6dc/package.json#L5-L11\r\n",
            "\r\n",
            "Please remove yourself, you did nothing\n"
          ],
          "name": "stdout"
        }
      ]
    },
    {
      "metadata": {
        "id": "9ca27EyQlrI0",
        "colab_type": "code",
        "colab": {
          "base_uri": "https://localhost:8080/",
          "height": 35
        },
        "outputId": "3ea3816d-8438-42c6-df1b-20ff36c55648"
      },
      "cell_type": "code",
      "source": [
        "print([x for x in comments if 'useless' in x][0])"
      ],
      "execution_count": 29,
      "outputs": [
        {
          "output_type": "stream",
          "text": [
            "Report this guy, useless commit!\n"
          ],
          "name": "stdout"
        }
      ]
    },
    {
      "metadata": {
        "id": "HO-x-X_nmrEV",
        "colab_type": "code",
        "colab": {
          "base_uri": "https://localhost:8080/",
          "height": 847
        },
        "outputId": "c9619ce6-6f0f-4855-ffd7-724d181177f7"
      },
      "cell_type": "code",
      "source": [
        "print([x for x in comments if 'newcomer' in x][2])"
      ],
      "execution_count": 35,
      "outputs": [
        {
          "output_type": "stream",
          "text": [
            "> Nice job with the transpiler cbazza\r\n",
            "\r\n",
            "@Rockvole, thank you.\r\n",
            "\r\n",
            ">  I appreciate your work for the community and the people who want to build UIs that way, but I really hope I'm never forced to use anything like that in Flutter :-(((\r\n",
            "\r\n",
            "@zoechi, thank you. Yes, it's just another option for people who love JSX to use. If that's not your thing cool continue doing as you are doing, nothing changes there.\r\n",
            "\r\n",
            "> I don't think it's necessary to invent new JSX syntax to support Flutter patterns.\r\n",
            "\r\n",
            "@alexkrolick, yes you can use render props for the named parameters but there is nothing you can do about the positional parameters. The key was that I didn't want to hard code anything in the transpiler so that it would work for everything.\r\n",
            "\r\n",
            "> I still think, as a newcomer to Flutter with some experience with Angular, React, etc., that the regular Dart way, and more in the Dart 2.0, is better than this DSX. It just makes more sense than some XML and CSS-ish parameters. \r\n",
            "\r\n",
            "@tenhobi, great use that then, obviously DSX is not for everyone. \r\n",
            "\r\n",
            "> If I had the choice, I would stick with the present model.\r\n",
            "\r\n",
            "@b-strauss, this is not a replacement, it's an option for people that like JSX.\r\n",
            "\r\n",
            "> There is love and hate, but most opinion diverge on the usefulness of JSX over plain Dart.\r\n",
            "\r\n",
            "@lukaspili, DSX is for React Native people that love JSX, if you don't see its benefits, don't use it. It's not DSX versus plain Dart. It's DSX vs. JSX, the closer the 2 are the better.\r\n",
            "\r\n",
            "> The great news is that even is this was adopted by the Flutter team (which isn't likely based on this thread) no one would be FORCED to use it. It's an OPTION. I don't understand why it's so emotionally charged that some people might like writing code with a syntax you don't like...\r\n",
            "\r\n",
            "@tehfailsafe, thank you for listening !!! You hit the nail on the head why such huge resistance to something that will make React Native people really happy.\r\n",
            "\r\n",
            "> I don't care what other people like or don't like. But I care about features that help me progress with my application. Resources are limited, and I would rather have a proper video/stream player, native child views, and some vector graphics format.\r\n",
            "\r\n",
            "@b-strauss, Once React Native fans move to Flutter there will be tonnes of people to help out on these other needed things. Priority 1 is to steal mind share from React Native and make it as simple as possible for React Native people to move over.\r\n",
            "\r\n",
            "> Flutter on the other hand has no markup language. I have yet to see a reason to invest resources into something that is less dynamic and less expressive.\r\n",
            "\r\n",
            "@b-strauss, How is DSX 'less dynamic' and 'less expressive' than plain Dart? DSX is Dart didn't you try the transpiler.\r\n",
            "\r\n",
            "@yuriy-manifold, thank you.\r\n",
            "\r\n",
            "> The question is not 'is JSX helpful for React?' the question is 'is something like JSX helpful for Flutter?'.\r\n",
            "\r\n",
            "@b-strauss, off course it is. it is not helpful for current Flutter devs but it is very helpful for designers that can output CSS from their tools, it is very helpful for people vested in the React Native platform. \r\n",
            "\r\n",
            "@alexkrolick, very good observations.\r\n",
            "\r\n",
            "\n"
          ],
          "name": "stdout"
        }
      ]
    },
    {
      "metadata": {
        "id": "UZ2tr6q0CVyR",
        "colab_type": "code",
        "colab": {}
      },
      "cell_type": "code",
      "source": [
        "comments_df = pd.DataFrame(comments)"
      ],
      "execution_count": 0,
      "outputs": []
    },
    {
      "metadata": {
        "id": "j12pcwvDDXaa",
        "colab_type": "code",
        "colab": {}
      },
      "cell_type": "code",
      "source": [
        "comments_df.to_csv(os.path.join(PATH_TO_DATA, 'drama_issues_comments.csv'), sep='\\t')"
      ],
      "execution_count": 0,
      "outputs": []
    },
    {
      "metadata": {
        "colab_type": "code",
        "id": "xKl18PyLnJaA",
        "colab": {}
      },
      "cell_type": "code",
      "source": [
        "with open(os.path.join(PATH_TO_DATA, 'drama_issues_comments.txt'), 'wb') as f: \n",
        "  f.write(pickle.dumps(comments))"
      ],
      "execution_count": 0,
      "outputs": []
    }
  ]
}